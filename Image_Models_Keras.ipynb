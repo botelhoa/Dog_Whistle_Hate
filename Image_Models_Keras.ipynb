{
  "nbformat": 4,
  "nbformat_minor": 0,
  "metadata": {
    "colab": {
      "name": "Image_Models_Keras.ipynb",
      "provenance": [],
      "collapsed_sections": [],
      "mount_file_id": "1k7KsHBNTQTn3Ab_-oCnygik2Ll_YLcb7",
      "authorship_tag": "ABX9TyODYLj0BuaWv5IHriPyK/wA"
    },
    "kernelspec": {
      "name": "python3",
      "display_name": "Python 3"
    },
    "accelerator": "GPU"
  },
  "cells": [
    {
      "cell_type": "code",
      "metadata": {
        "id": "XDAdj3hAvtSi",
        "colab_type": "code",
        "colab": {
          "base_uri": "https://localhost:8080/",
          "height": 35
        },
        "outputId": "700cb747-ef38-4f45-888f-afc123d0d3f0"
      },
      "source": [
        "import random\n",
        "import cv2\n",
        "import numpy as np\n",
        "import pandas as pd\n",
        "import glob\n",
        "import tensorflow as tf\n",
        "import os \n",
        "\n",
        "from PIL import Image\n",
        "from keras.datasets import cifar10\n",
        "from keras.utils import to_categorical\n",
        "from keras.models import Model\n",
        "from keras.layers import Dense, GlobalAveragePooling2D, Dropout\n",
        "from keras.optimizers import SGD, RMSprop\n",
        "from keras.callbacks import LearningRateScheduler\n",
        "from keras.callbacks import EarlyStopping\n",
        "from keras.applications import InceptionV3, VGG16, DenseNet201, MobileNetV2, ResNet152V2, InceptionResNetV2, NASNetLarge, Xception\n",
        "from matplotlib import pyplot\n",
        "from keras.preprocessing.image import ImageDataGenerator\n",
        "from sklearn.metrics import matthews_corrcoef, confusion_matrix, precision_score, recall_score, f1_score, accuracy_score"
      ],
      "execution_count": 1,
      "outputs": [
        {
          "output_type": "stream",
          "text": [
            "Using TensorFlow backend.\n"
          ],
          "name": "stderr"
        }
      ]
    },
    {
      "cell_type": "code",
      "metadata": {
        "id": "HSvNrWhEL_Et",
        "colab_type": "code",
        "colab": {}
      },
      "source": [
        "#Move train data to colab virtual machine to increase speed\n",
        "!cp -r \"/content/drive/My Drive/Dog_Whistle_Code/Data/Train/Train_images\" \"/content\""
      ],
      "execution_count": null,
      "outputs": []
    },
    {
      "cell_type": "code",
      "metadata": {
        "id": "bc52jxtAL_nA",
        "colab_type": "code",
        "colab": {}
      },
      "source": [
        "#Move dev data to colab virtual machine to increase speed\n",
        "!cp -r \"/content/drive/My Drive/Dog_Whistle_Code/Data/Validation/Validation_images\" \"/content\""
      ],
      "execution_count": null,
      "outputs": []
    },
    {
      "cell_type": "code",
      "metadata": {
        "id": "bYGVNCfjL_6Z",
        "colab_type": "code",
        "colab": {}
      },
      "source": [
        "#Move test data to colab virtual machine to increase speed\n",
        "!cp -r \"/content/drive/My Drive/Dog_Whistle_Code/Data/Test/Test_images\" \"/content\""
      ],
      "execution_count": 2,
      "outputs": []
    },
    {
      "cell_type": "code",
      "metadata": {
        "id": "JZ_-UfG7MUHx",
        "colab_type": "code",
        "colab": {}
      },
      "source": [
        "def metrics(labels, preds, argmax_needed: bool = False):\n",
        "    \"\"\"\n",
        "    Returns the Matthew's correlation coefficient, accuracy rate, true positive rate, true negative rate, false positive rate, false negative rate, precission, recall, and f1 score\n",
        "    \n",
        "    labels: list of correct labels\n",
        "\n",
        "    pred: list of model predictions\n",
        "    \"\"\"\n",
        "\n",
        "    if argmax_needed == True:\n",
        "        preds = np.argmax(preds, axis=1).flatten()\n",
        "\n",
        "    mcc = matthews_corrcoef(labels, preds)\n",
        "    acc = accuracy_score(labels, preds)\n",
        "    cm = confusion_matrix(labels, preds)\n",
        "\n",
        "    f1 = f1_score(labels, preds, average= \"weighted\")\n",
        "    precision = precision_score(labels, preds, average= \"weighted\")\n",
        "    recall = recall_score(labels, preds, average= \"weighted\")\n",
        "\n",
        "    results = {\n",
        "        \"mcc\": mcc,\n",
        "        \"acc\": acc,\n",
        "        \"confusion_matrix\": cm,\n",
        "        \"precision\": precision,\n",
        "        \"recall\": recall,\n",
        "        \"f1\": f1,\n",
        "    }\n",
        "    \n",
        "    return results, labels, preds\n",
        "\n",
        "def image_model_saver(image_model, model_type, output_directory, training_dict, labels1, labels2, preds, results1, results2):\n",
        "    \"\"\"\n",
        "    Saves Keras image model and other outputs\n",
        "\n",
        "    image_model: Image model to be saved\n",
        "    \n",
        "    model_type (string): Name of model\n",
        "    \n",
        "    output_directory: Directory to folder to save file in\n",
        "\n",
        "    training_dict: Dictionary of training and validation values \n",
        "\n",
        "    labels1: List of multimodal labels for test set\n",
        "\n",
        "    labels2: List of unimodal labels for test set\n",
        "\n",
        "    preds: List of model predictions after passed through argmax()\n",
        "\n",
        "    results1: Dictionary of metrics on multimodal labels\n",
        "\n",
        "    results2: Dictionary of metrics on uniimodal labels\n",
        "\n",
        "    tokenizer: Tokenizer to be saved. Defaulted to None.\n",
        "    \"\"\"\n",
        "    output_directory = os.path.join(output_directory, model_type)\n",
        "    \n",
        "    if not os.path.exists(output_directory):\n",
        "        os.makedirs(output_directory)\n",
        "\n",
        "    os.chdir(output_directory)\n",
        "\n",
        "    np.save(model_type+\"_dogwhistle_train_results.npy\", training_dict) #save training dict\n",
        "    np.save(model_type+\"_dogwhistle_test_results_multimodal.npy\", results1) #save test metrics\n",
        "    np.save(model_type+\"_dogwhistle_test_results_unimodal.npy\", results2) #save test metrics\n",
        "    \n",
        "    test_predictions = pd.DataFrame([labels1, labels2, preds]) #save predictions and labels\n",
        "    test_predictions = test_predictions.T\n",
        "    test_predictions = test_predictions.rename(columns={0: 'Multimodal Labels', 1: 'Unimodal Labels', 2: 'Predictions'})\n",
        "    test_predictions.to_csv(model_type+\"_dogwhistle_predictions.csv\")\n",
        "\n",
        "    image_model.save(\"image_model.h5\") #save model\n",
        "\n",
        "    return print(\"Saving complete.\")"
      ],
      "execution_count": 3,
      "outputs": []
    },
    {
      "cell_type": "code",
      "metadata": {
        "id": "uag6jdl-vz1u",
        "colab_type": "code",
        "colab": {}
      },
      "source": [
        "def fine_tune(base_model, train_directory, dev_directory, optimzer, scheduler, image_size: int, num_epochs: int=10, min_delta= 0, patience: int=10, batch_size: int=64, dropout: float=0.5):\n",
        "    \"\"\"\n",
        "    Function for fine tuning pretrained CovNets\n",
        "\n",
        "    base_model: Type of pre-trained model\n",
        "\n",
        "    train_directory: Path to parent folder containing train images sub-divided into folders by label names\n",
        "\n",
        "    dev_directory: Path to parent folder containing dev images sub-divided into folders by label names\n",
        "\n",
        "    optimizer: Algorithim according to which values from the loss function should be back propogated\n",
        "\n",
        "    scheduler: Callback determining learning rate decay\n",
        "\n",
        "    image_size (int): Number of pixels in input dimensions (assumes square shape) \n",
        "\n",
        "    num_epochs (int): Number of passes through train data. Defaulted to 10.\n",
        "\n",
        "    min_delta: Minimum reduction in val loss for early stopping\n",
        "\n",
        "    patience (int): Number of epochs at min_delta before early stopping. Defaulted to 10.\n",
        "\n",
        "    batch_size (int): Size of mini batches used in training. Defaulted to 64.\n",
        "\n",
        "    dropout (int): Percentage of nodes turned off in final softmax layer. Defaulted to 0.5.\n",
        "\n",
        "    \"\"\"\n",
        "\n",
        "    #Load data\n",
        "    train_datagen = ImageDataGenerator(\n",
        "      rescale=1./255,\n",
        "      rotation_range=20,\n",
        "      width_shift_range=0.2,\n",
        "      height_shift_range=0.2,\n",
        "      horizontal_flip=True,\n",
        "      fill_mode='nearest')\n",
        "\n",
        "    validation_datagen = ImageDataGenerator(rescale=1./255)\n",
        "\n",
        "    \n",
        "    train_generator = train_datagen.flow_from_directory(train_directory,\n",
        "                                                        target_size=(image_size, image_size),\n",
        "                                                        classes=[\"None\", \"Hateful\", \"Counter-speech\", \"Reclaimed\"],\n",
        "                                                        class_mode=\"categorical\",\n",
        "                                                        batch_size=batch_size,\n",
        "                                                        shuffle=True,\n",
        "                                                        seed=22)\n",
        "\n",
        "\n",
        "    validation_generator = validation_datagen.flow_from_directory(dev_directory,\n",
        "                                                                  target_size=(image_size, image_size),\n",
        "                                                                  classes=[\"None\", \"Hateful\", \"Counter-speech\", \"Reclaimed\"],\n",
        "                                                                  class_mode=\"categorical\",\n",
        "                                                                  batch_size=batch_size,\n",
        "                                                                  shuffle=True,\n",
        "                                                                  seed=22)\n",
        "                                                                \n",
        "    #Add Classifier atop pre-trained model\n",
        "\n",
        "    # global spatial average pooling layer\n",
        "    x = base_model.output\n",
        "    x = GlobalAveragePooling2D()(x)\n",
        "    # fully-connected layer\n",
        "    x = Dense(1024, activation='relu')(x)\n",
        "    x = Dropout(dropout)(x)\n",
        "    # logistic layer\n",
        "    predictions = Dense(4, activation='softmax')(x)\n",
        "\n",
        "    model = Model(inputs=base_model.input, outputs=predictions)\n",
        "\n",
        "    # Train top 5% of pre-trained model layers with top layers\n",
        "    for layer in model.layers[:int(len(model.layers) * 0.95)]:\n",
        "        layer.trainable = False\n",
        "\n",
        "    for layer in model.layers[int(len(model.layers) * 0.95):]:\n",
        "        layer.trainable = True\n",
        "\n",
        "    early_stop = EarlyStopping(monitor='val_loss', min_delta=min_delta, patience=patience, verbose=1, mode='auto')\n",
        "    model.compile(optimizer=optimzer, loss='categorical_crossentropy', metrics=['accuracy']) \n",
        "    history = model.fit(train_generator, epochs=num_epochs, validation_data=validation_generator, callbacks=[early_stop, scheduler])\n",
        "    \n",
        "    train_dict = {\"Train Accuracy\": history.history['accuracy'], \"Train Loss\": history.history['loss'], \"Val Accuracy\": history.history['val_accuracy'], \"Val Loss\": history.history['val_loss'] }\n",
        "    \n",
        "    return model, train_dict\n",
        "\n",
        "\n",
        "def test(trained_model, test_directory, image_size: int, batch_size: int=64):\n",
        "    \"\"\"\n",
        "    Outputs metrics, predictions, and labels from image model\n",
        "\n",
        "    trained_model: Trained image model\n",
        "\n",
        "    test_directory: Path to parent folder containing test images sub-divided into folders by label names\n",
        "\n",
        "    image_size (int): Number of pixels in input dimensions (assumes square shape)\n",
        "\n",
        "    batch_size (int): Size of mini batches used in training. Defaulted to 64.\n",
        "    \"\"\"\n",
        "\n",
        "    test_datagen = ImageDataGenerator(rescale=1./255)\n",
        "\n",
        "    test_generator = test_datagen.flow_from_directory(test_directory,\n",
        "                                                      target_size=(image_size, image_size),\n",
        "                                                      classes=[\"None\", \"Hateful\", \"Counter-speech\", \"Reclaimed\"],\n",
        "                                                      class_mode=\"categorical\",\n",
        "                                                      batch_size=batch_size,\n",
        "                                                      shuffle=False,\n",
        "                                                      seed=22)\n",
        "\n",
        "    label_list = []\n",
        "\n",
        "    for i in range(len(test_generator)):\n",
        "        values = np.argmax(test_generator[i][1], axis=1).flatten()\n",
        "        label_list.extend(values)\n",
        "    \n",
        "    preds = trained_model.predict(test_generator)\n",
        "\n",
        "    results, labels, predictions = metrics(label_list, preds, argmax_needed=True)\n",
        "\n",
        "    return results, labels, predictions, test_generator"
      ],
      "execution_count": 4,
      "outputs": []
    },
    {
      "cell_type": "code",
      "metadata": {
        "id": "1BcI9lHIYfwQ",
        "colab_type": "code",
        "colab": {}
      },
      "source": [
        "\"\"\"\n",
        "InceptionResNet-V2 paper specifies...\n",
        "optimizer = RMSProp\n",
        "epsilon = 1.0\n",
        "learning_rate =  0.045\n",
        "exponential decay every 2 epochs at rate of 0.94\n",
        "image size = (299, 299)\n",
        "\n",
        "NASNet paper specifies... \n",
        "optimizer = RMSProp\n",
        "epsilon = 1.0\n",
        "learning_rate =  0.045\n",
        "drop_out = 0.5\n",
        "epochs = 20\n",
        "exponential decay every 2 epochs at rate of 0.9999\n",
        "image size = (331, 331)\n",
        "\n",
        "Xception paper specifies... \n",
        "optimizer = SGD\n",
        "learning_rate =  0.045\n",
        "drop_out = 0.5\n",
        "exponential decay every 2 epochs at rate of 0.94\n",
        "Momentum: 0.9\n",
        "image size = (299, 299)\n",
        "\"\"\"\n",
        "\n",
        "#Define shared hyperparameters\n",
        "MIN_DELTA = 0.001\n",
        "PATIENCE = 3\n",
        "BATCH_SIZE = 32\n",
        "NUM_EPOCHS = 20\n",
        "LEARNING_RATE = 0.045\n",
        "DROPOUT = 0.5\n",
        "EPSILON = 1.0 \n",
        "TRAIN_LEN = 3998\n",
        "\n",
        "OUTPUT_DIR = \"/content/drive/My Drive/Dog_Whistle_Code/Fine_Tuned_Models/Image\"\n",
        "TRAIN_PATH = \"/content/Train_images\"\n",
        "DEV_PATH = \"/content/Validation_images\"\n",
        "TEST_PATH_UNIMODAL = \"/content/Test_images/Unimodal Labels\"\n",
        "TEST_PATH_MULTIMODAL = \"/content/Test_images/Multimodal Labels\"\n",
        "\n",
        "\n",
        "#InceptionResNet-V2 Hyperparameters\n",
        "IRN_IMAGE_SIZE = 299\n",
        "IRN_OPTIMIZER = RMSprop(learning_rate = LEARNING_RATE, epsilon=EPSILON)\n",
        "\n",
        "def IRN_decay(epoch, lr):\n",
        "    epochs_drop = 2.0\n",
        "    IRN_DECAY_RATE = 0.94\n",
        "    lrate = lr * (IRN_DECAY_RATE**((1+epoch)/epochs_drop))\n",
        "    return lrate\n",
        "\n",
        "IRN_SCHEDULER = LearningRateScheduler(IRN_decay)\n",
        "\n",
        "\n",
        "#NASNet Hyperparameters\n",
        "NN_IMAGE_SIZE = 331\n",
        "NN_OPTIMIZER = RMSprop(learning_rate= LEARNING_RATE, epsilon=EPSILON)\n",
        "\n",
        "def NN_decay(epoch, lr):\n",
        "    epochs_drop = 2.0\n",
        "    NN_DECAY_RATE = 0.9999\n",
        "    lrate = lr * (NN_DECAY_RATE**((1+epoch)/epochs_drop))\n",
        "    return lrate\n",
        "\n",
        "NN_SCHEDULER = LearningRateScheduler(NN_decay)\n",
        "\n",
        "\n",
        "#Xception Hyperparametes\n",
        "X_IMAGE_SIZE = 299\n",
        "X_OPTIMIZER = SGD(lr= LEARNING_RATE, momentum=0.9)\n",
        "\n",
        "def X_decay(epoch, lr):\n",
        "    epochs_drop = 2.0\n",
        "    X_DECAY_RATE = 0.94\n",
        "    lrate = lr * (X_DECAY_RATE**((1+epoch)/epochs_drop))\n",
        "    return lrate\n",
        "\n",
        "X_SCHEDULER = LearningRateScheduler(X_decay)\n"
      ],
      "execution_count": 5,
      "outputs": []
    },
    {
      "cell_type": "code",
      "metadata": {
        "id": "2aY1XnSktCTU",
        "colab_type": "code",
        "colab": {
          "base_uri": "https://localhost:8080/",
          "height": 423
        },
        "outputId": "7c6f5fc7-ef69-4c8a-d709-0ac2a76b9c95"
      },
      "source": [
        "#Visualize learning rate decay\n",
        "# import matplotlib.pyplot as plt\n",
        "\n",
        "# vals = []\n",
        "# lr = 0.045\n",
        "# for i in range(20):\n",
        "#     val = step_decay(i, lr)\n",
        "#     vals.append(val)\n",
        "#     lr = val\n",
        "\n",
        "# plt.rcParams[\"figure.figsize\"] = (12,6)\n",
        "\n",
        "# plt.plot(vals)\n",
        "\n",
        "# plt.xlabel(\"Epochs\")\n",
        "# plt.ylabel(\"Learning Rates\")\n",
        "# plt.xticks(np.arange(20))\n",
        "# plt.legend()\n",
        "\n",
        "# #plt.savefig(\"learning_rate_decay.png\",bbox_inches='tight')"
      ],
      "execution_count": null,
      "outputs": [
        {
          "output_type": "stream",
          "text": [
            "No handles with labels found to put in legend.\n"
          ],
          "name": "stderr"
        },
        {
          "output_type": "execute_result",
          "data": {
            "text/plain": [
              "<matplotlib.legend.Legend at 0x7f5f7fc90cc0>"
            ]
          },
          "metadata": {
            "tags": []
          },
          "execution_count": 62
        },
        {
          "output_type": "display_data",
          "data": {
            "image/png": "[encoded data removed]",
            "text/plain": [
              "<Figure size 864x432 with 1 Axes>"
            ]
          },
          "metadata": {
            "tags": [],
            "needs_background": "light"
          }
        }
      ]
    },
    {
      "cell_type": "markdown",
      "metadata": {
        "id": "id7SmAIu9pDt",
        "colab_type": "text"
      },
      "source": [
        "### Run Models"
      ]
    },
    {
      "cell_type": "code",
      "metadata": {
        "id": "Fr93IHXAfpBC",
        "colab_type": "code",
        "colab": {
          "base_uri": "https://localhost:8080/",
          "height": 193
        },
        "outputId": "e5566d7d-26ce-4ef4-f873-4de95dbf76ee"
      },
      "source": [
        "#Train and Test InceptionResNet-V2\n",
        "model = InceptionResNetV2(weights='imagenet', include_top=False, input_shape=(IRN_IMAGE_SIZE, IRN_IMAGE_SIZE, 3))\n",
        "trained_model, train_dict = fine_tune(model, TRAIN_PATH, DEV_PATH, IRN_OPTIMIZER, IRN_SCHEDULER, IRN_IMAGE_SIZE, NUM_EPOCHS, MIN_DELTA, PATIENCE, BATCH_SIZE, DROPOUT)   \n",
        "results1, labels1, predictions1, datagenerator1 = test(trained_model, TEST_PATH_MULTIMODAL, IRN_IMAGE_SIZE, BATCH_SIZE) \n",
        "results2, labels2, predictions2, datagenerator2 = test(trained_model, TEST_PATH_UNIMODAL, IRN_IMAGE_SIZE, BATCH_SIZE)\n",
        "print(results1)\n",
        "print(results2)\n",
        "image_model_saver(trained_model, \"InceptionResNetV2\", OUTPUT_DIR, train_dict, labels1, labels2, predictions1, results1, results2)"
      ],
      "execution_count": null,
      "outputs": [
        {
          "output_type": "stream",
          "text": [
            "Found 502 images belonging to 4 classes.\n"
          ],
          "name": "stdout"
        },
        {
          "output_type": "stream",
          "text": [
            "/usr/local/lib/python3.6/dist-packages/sklearn/metrics/_classification.py:1272: UndefinedMetricWarning: Precision is ill-defined and being set to 0.0 in labels with no predicted samples. Use `zero_division` parameter to control this behavior.\n",
            "  _warn_prf(average, modifier, msg_start, len(result))\n"
          ],
          "name": "stderr"
        },
        {
          "output_type": "stream",
          "text": [
            "Found 502 images belonging to 4 classes.\n",
            "{'mcc': 0.14853090316382364, 'acc': 0.5338645418326693, 'confusion_matrix': array([[164,  97,   0,   7],\n",
            "       [ 81, 102,   0,   2],\n",
            "       [  8,   4,   0,   0],\n",
            "       [ 24,  11,   0,   2]]), 'precision': 0.5051321174604282, 'recall': 0.5158596466494282, 'f1': 0.5158596466494282}\n",
            "Saving complete.\n"
          ],
          "name": "stdout"
        }
      ]
    },
    {
      "cell_type": "code",
      "metadata": {
        "id": "z8Nh8_J7fuJK",
        "colab_type": "code",
        "colab": {
          "base_uri": "https://localhost:8080/",
          "height": 453
        },
        "outputId": "88bc12d2-359b-4a8f-8455-723b016a2a03"
      },
      "source": [
        "#Train and Test NASNet\n",
        "model = NASNetLarge(weights='imagenet', include_top=False, input_shape=(NN_IMAGE_SIZE, NN_IMAGE_SIZE, 3))\n",
        "trained_model, train_dict = fine_tune(model, TRAIN_PATH, DEV_PATH, NN_OPTIMIZER, NN_SCHEDULER, NN_IMAGE_SIZE, NUM_EPOCHS, MIN_DELTA, PATIENCE, BATCH_SIZE, DROPOUT)   \n",
        "results1, labels1, predictions1, datagenerator1 = test(trained_model, TEST_PATH_MULTIMODAL, NN_IMAGE_SIZE, BATCH_SIZE) \n",
        "results2, labels2, predictions2, datagenerator2 = test(trained_model, TEST_PATH_UNIMODAL, NN_IMAGE_SIZE, BATCH_SIZE) \n",
        "print(results1)\n",
        "print(results2)\n",
        "image_model_saver(trained_model, \"NASNet\", OUTPUT_DIR, train_dict, labels1, labels2, predictions1, results1, results2)"
      ],
      "execution_count": null,
      "outputs": [
        {
          "output_type": "stream",
          "text": [
            "Downloading data from https://github.com/titu1994/Keras-NASNet/releases/download/v1.2/NASNet-large-no-top.h5\n",
            "343613440/343610240 [==============================] - 4s 0us/step\n",
            "Found 3998 images belonging to 4 classes.\n",
            "Found 500 images belonging to 4 classes.\n",
            "Epoch 1/20\n",
            "125/125 [==============================] - 447s 4s/step - loss: 0.7677 - accuracy: 0.7066 - val_loss: 1.0924 - val_accuracy: 0.7360\n",
            "Epoch 2/20\n",
            "125/125 [==============================] - 401s 3s/step - loss: 0.6820 - accuracy: 0.7376 - val_loss: 0.4869 - val_accuracy: 0.7160\n",
            "Epoch 3/20\n",
            "125/125 [==============================] - 401s 3s/step - loss: 0.6406 - accuracy: 0.7536 - val_loss: 0.7857 - val_accuracy: 0.6660\n",
            "Epoch 4/20\n",
            "125/125 [==============================] - 401s 3s/step - loss: 0.6092 - accuracy: 0.7664 - val_loss: 0.7318 - val_accuracy: 0.7300\n",
            "Epoch 5/20\n",
            "125/125 [==============================] - 401s 3s/step - loss: 0.5732 - accuracy: 0.7691 - val_loss: 0.6357 - val_accuracy: 0.7340\n",
            "Epoch 00005: early stopping\n",
            "Found 502 images belonging to 4 classes.\n"
          ],
          "name": "stdout"
        },
        {
          "output_type": "stream",
          "text": [
            "/usr/local/lib/python3.6/dist-packages/sklearn/metrics/_classification.py:1272: UndefinedMetricWarning: Precision is ill-defined and being set to 0.0 in labels with no predicted samples. Use `zero_division` parameter to control this behavior.\n",
            "  _warn_prf(average, modifier, msg_start, len(result))\n"
          ],
          "name": "stderr"
        },
        {
          "output_type": "stream",
          "text": [
            "Found 502 images belonging to 4 classes.\n",
            "{'mcc': 0.20156034014285756, 'acc': 0.5856573705179283, 'confusion_matrix': array([[232,  34,   0,   2],\n",
            "       [124,  61,   0,   0],\n",
            "       [ 11,   1,   0,   0],\n",
            "       [ 33,   3,   0,   1]]), 'precision': 0.5612813392893075, 'recall': 0.5328237442403785, 'f1': 0.5328237442403785}\n",
            "Saving complete.\n"
          ],
          "name": "stdout"
        }
      ]
    },
    {
      "cell_type": "code",
      "metadata": {
        "id": "5qGBLi2tfuhW",
        "colab_type": "code",
        "colab": {
          "base_uri": "https://localhost:8080/",
          "height": 523
        },
        "outputId": "5254f70c-f9aa-4f51-cc45-7e803d67ca13"
      },
      "source": [
        "#Train and Test Xception\n",
        "model = Xception(weights='imagenet', include_top=False, input_shape=(X_IMAGE_SIZE, X_IMAGE_SIZE, 3))\n",
        "trained_model, train_dict = fine_tune(model, TRAIN_PATH, DEV_PATH, X_OPTIMIZER, X_SCHEDULER, X_IMAGE_SIZE, NUM_EPOCHS, MIN_DELTA, PATIENCE, BATCH_SIZE, DROPOUT)   \n",
        "results1, labels1, predictions1, datagenerator1 = test(trained_model, TEST_PATH_MULTIMODAL, X_IMAGE_SIZE, BATCH_SIZE) \n",
        "results2, labels2, predictions2, datagenerator2 = test(trained_model, TEST_PATH_UNIMODAL, X_IMAGE_SIZE, BATCH_SIZE)\n",
        "print(results1)\n",
        "print(results2)\n",
        "image_model_saver(trained_model, \"Xception\", OUTPUT_DIR, train_dict, labels1, labels2, predictions1, results1, results2)"
      ],
      "execution_count": null,
      "outputs": [
        {
          "output_type": "stream",
          "text": [
            "Downloading data from https://github.com/fchollet/deep-learning-models/releases/download/v0.4/xception_weights_tf_dim_ordering_tf_kernels_notop.h5\n",
            "83689472/83683744 [==============================] - 1s 0us/step\n",
            "Found 3998 images belonging to 4 classes.\n",
            "Found 500 images belonging to 4 classes.\n",
            "Epoch 1/20\n",
            "125/125 [==============================] - 165s 1s/step - loss: 0.8139 - accuracy: 0.7051 - val_loss: 1.4008 - val_accuracy: 0.7600\n",
            "Epoch 2/20\n",
            "125/125 [==============================] - 148s 1s/step - loss: 0.7101 - accuracy: 0.7296 - val_loss: 0.6622 - val_accuracy: 0.7220\n",
            "Epoch 3/20\n",
            "125/125 [==============================] - 149s 1s/step - loss: 0.6823 - accuracy: 0.7424 - val_loss: 0.9263 - val_accuracy: 0.7080\n",
            "Epoch 4/20\n",
            "125/125 [==============================] - 150s 1s/step - loss: 0.6385 - accuracy: 0.7556 - val_loss: 0.7307 - val_accuracy: 0.7100\n",
            "Epoch 5/20\n",
            "125/125 [==============================] - 149s 1s/step - loss: 0.5989 - accuracy: 0.7696 - val_loss: 0.7218 - val_accuracy: 0.7460\n",
            "Epoch 00005: early stopping\n",
            "Found 502 images belonging to 4 classes.\n"
          ],
          "name": "stdout"
        },
        {
          "output_type": "stream",
          "text": [
            "/usr/local/lib/python3.6/dist-packages/sklearn/metrics/_classification.py:1272: UndefinedMetricWarning: Precision is ill-defined and being set to 0.0 in labels with no predicted samples. Use `zero_division` parameter to control this behavior.\n",
            "  _warn_prf(average, modifier, msg_start, len(result))\n"
          ],
          "name": "stderr"
        },
        {
          "output_type": "stream",
          "text": [
            "Found 502 images belonging to 4 classes.\n",
            "{'mcc': 0.24124970097295248, 'acc': 0.603585657370518, 'confusion_matrix': array([[241,  27,   0,   0],\n",
            "       [123,  62,   0,   0],\n",
            "       [ 10,   2,   0,   0],\n",
            "       [ 35,   2,   0,   0]]), 'precision': 0.5602593700178908, 'recall': 0.5444710854042994, 'f1': 0.5444710854042994}\n",
            "{'mcc': 0.2893186546822142, 'acc': 0.7171314741035857, 'confusion_matrix': array([[309,  39,   0,   0],\n",
            "       [ 70,  51,   0,   0],\n",
            "       [  9,   1,   0,   0],\n",
            "       [ 21,   2,   0,   0]]), 'precision': 0.655914868799901, 'recall': 0.6808232938196227, 'f1': 0.6808232938196227}\n",
            "Saving complete.\n"
          ],
          "name": "stdout"
        }
      ]
    },
    {
      "cell_type": "markdown",
      "metadata": {
        "id": "wGulcPEZAi0L",
        "colab_type": "text"
      },
      "source": [
        "### Exract Image Labels"
      ]
    },
    {
      "cell_type": "code",
      "metadata": {
        "id": "BLuHmkmpyrFw",
        "colab_type": "code",
        "colab": {
          "base_uri": "https://localhost:8080/",
          "height": 107
        },
        "outputId": "0b5a558b-b132-4a42-f277-8a5a8daf722e"
      },
      "source": [
        "from keras.models import load_model\n",
        "\n",
        "#Train and Test Xception\n",
        "ImageExtractor = load_model('/content/drive/My Drive/Dog_Whistle_Code/Fine_Tuned_Models/Image/Xception/image_model.h5') #using pre-trained Xception\n",
        "\n",
        "results1, labels1, predictions1, test_generator1 = test(ImageExtractor, TEST_PATH_MULTIMODAL, X_IMAGE_SIZE, BATCH_SIZE) \n",
        "results2, labels2, predictions2, test_generator2 = test(ImageExtractor, TEST_PATH_UNIMODAL, X_IMAGE_SIZE, BATCH_SIZE)"
      ],
      "execution_count": 397,
      "outputs": [
        {
          "output_type": "stream",
          "text": [
            "Found 502 images belonging to 4 classes.\n"
          ],
          "name": "stdout"
        },
        {
          "output_type": "stream",
          "text": [
            "/usr/local/lib/python3.6/dist-packages/sklearn/metrics/_classification.py:1272: UndefinedMetricWarning: Precision is ill-defined and being set to 0.0 in labels with no predicted samples. Use `zero_division` parameter to control this behavior.\n",
            "  _warn_prf(average, modifier, msg_start, len(result))\n"
          ],
          "name": "stderr"
        },
        {
          "output_type": "stream",
          "text": [
            "Found 502 images belonging to 4 classes.\n"
          ],
          "name": "stdout"
        }
      ]
    },
    {
      "cell_type": "code",
      "metadata": {
        "id": "VVN8ie366rlI",
        "colab_type": "code",
        "colab": {}
      },
      "source": [
        "def id_extractor(test_generator):\n",
        "    \"\"\"\n",
        "    test_generator: Generator object from Keras flow_from_directory()\n",
        "    \"\"\"\n",
        "\n",
        "    ids = []\n",
        "\n",
        "    for i in test_generator.filenames:\n",
        "        id_label = i.split(\"/\")[1]\n",
        "        id_label = id_label.split(\".\")[0]\n",
        "        ids.append(int(id_label))\n",
        "\n",
        "    return ids\n",
        "\n",
        "# Get label lists\n",
        "ids1 = id_extractor(test_generator1)\n",
        "ids2 = id_extractor(test_generator2)"
      ],
      "execution_count": 401,
      "outputs": []
    },
    {
      "cell_type": "code",
      "metadata": {
        "id": "lHDPMBY2zy5D",
        "colab_type": "code",
        "colab": {}
      },
      "source": [
        "# Create multimodal DF\n",
        "test_predictions1 = pd.DataFrame([ids1, labels1, predictions1]) \n",
        "test_predictions1 = test_predictions1.T\n",
        "test_predictions1 = test_predictions1.rename(columns={0: 'image_number', 1: 'Multimodal Labels', 2: 'Predictions_multimodal'})\n",
        "\n",
        "# Create unimodal DF\n",
        "test_predictions2 = pd.DataFrame([ids2, labels2, predictions2]) \n",
        "test_predictions2 = test_predictions2.T\n",
        "test_predictions2 = test_predictions2.rename(columns={0: 'image_number', 1: 'Unimodal Labels', 2: 'Predictions_unimodal'})\n",
        "\n",
        "# Merge and Save DFs\n",
        "test_predictions = test_predictions1.merge(test_predictions2, on = \"image_number\")\n",
        "test_predictions.to_csv(\"/content/drive/My Drive/Dog_Whistle_Code/Fine_Tuned_Models/Image/Xception/Xception_dogwhistle_predictions.csv\")"
      ],
      "execution_count": 402,
      "outputs": []
    },
    {
      "cell_type": "code",
      "metadata": {
        "id": "gYCuxuuyFvzP",
        "colab_type": "code",
        "colab": {
          "base_uri": "https://localhost:8080/",
          "height": 52
        },
        "outputId": "b2837e99-4304-49d7-b361-f5e8d1e16afc"
      },
      "source": [
        "# Check that values are the same\n",
        "print(f1_score(test_predictions[\"Multimodal Labels\"].values.tolist(), test_predictions[\"Predictions_multimodal\"].values.tolist(), average = 'weighted'))\n",
        "print(f1_score(test_predictions[\"Unimodal Labels\"].values.tolist(), test_predictions[\"Predictions_unimodal\"].values.tolist(), average = 'weighted'))"
      ],
      "execution_count": 403,
      "outputs": [
        {
          "output_type": "stream",
          "text": [
            "0.5444710854042994\n",
            "0.6808232938196227\n"
          ],
          "name": "stdout"
        }
      ]
    }
  ]
}