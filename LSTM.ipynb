{
  "nbformat": 4,
  "nbformat_minor": 0,
  "metadata": {
    "colab": {
      "name": "LSTM.ipynb",
      "provenance": [],
      "collapsed_sections": [],
      "mount_file_id": "16nsObF6tLVpLqC_d--F7MaQpfBSF5-EW",
      "authorship_tag": "ABX9TyObCMJ7/hW0ylhGYHWP+8dQ"
    },
    "kernelspec": {
      "name": "python3",
      "display_name": "Python 3"
    },
    "accelerator": "GPU"
  },
  "cells": [
    {
      "cell_type": "code",
      "metadata": {
        "id": "tvCdgJ46kFNX",
        "colab_type": "code",
        "colab": {}
      },
      "source": [
        "pip install torchtext==0.5.0"
      ],
      "execution_count": null,
      "outputs": []
    },
    {
      "cell_type": "code",
      "metadata": {
        "id": "FrXSHn-HvntM",
        "colab_type": "code",
        "colab": {}
      },
      "source": [
        "pip install torchtext"
      ],
      "execution_count": null,
      "outputs": []
    },
    {
      "cell_type": "code",
      "metadata": {
        "id": "HTv62IihkHkC",
        "colab_type": "code",
        "colab": {
          "base_uri": "https://localhost:8080/",
          "height": 191
        },
        "outputId": "68a037b0-3fd7-4d28-f352-8bb78f5c5b65"
      },
      "source": [
        "pip show torchtext"
      ],
      "execution_count": null,
      "outputs": [
        {
          "output_type": "stream",
          "text": [
            "Name: torchtext\n",
            "Version: 0.5.0\n",
            "Summary: Text utilities and datasets for PyTorch\n",
            "Home-page: https://github.com/pytorch/text\n",
            "Author: PyTorch core devs and James Bradbury\n",
            "Author-email: jekbradbury@gmail.com\n",
            "License: BSD\n",
            "Location: /usr/local/lib/python3.6/dist-packages\n",
            "Requires: six, torch, tqdm, numpy, sentencepiece, requests\n",
            "Required-by: \n"
          ],
          "name": "stdout"
        }
      ]
    },
    {
      "cell_type": "code",
      "metadata": {
        "id": "MGfiA7slVDDX",
        "colab_type": "code",
        "colab": {}
      },
      "source": [
        "pip install ekphrasis"
      ],
      "execution_count": null,
      "outputs": []
    },
    {
      "cell_type": "code",
      "metadata": {
        "id": "TKOjnoUdkJ1-",
        "colab_type": "code",
        "colab": {}
      },
      "source": [
        "import pandas as pd\n",
        "import os\n",
        "import numpy as np\n",
        "import torch\n",
        "\n",
        "from torch import nn, optim\n",
        "from torchtext.data import Field, Dataset, Example, BucketIterator, Iterator, TabularDataset\n",
        "from tqdm import tqdm, trange"
      ],
      "execution_count": null,
      "outputs": []
    },
    {
      "cell_type": "markdown",
      "metadata": {
        "id": "eFyMYcr6aKZU",
        "colab_type": "text"
      },
      "source": [
        "### The two cells below are for manually importing the helper functions"
      ]
    },
    {
      "cell_type": "code",
      "metadata": {
        "id": "O22WYch7atEt",
        "colab_type": "code",
        "colab": {
          "base_uri": "https://localhost:8080/",
          "height": 72
        },
        "outputId": "d6be4089-ba53-4cb7-bd46-7d9497eb6e27"
      },
      "source": [
        "import matplotlib.pyplot as plt\n",
        "% matplotlib inline\n",
        "import seaborn as sns\n",
        "import pandas as pd\n",
        "import numpy as np\n",
        "import tensorflow as tf\n",
        "import shutil \n",
        "import os\n",
        "\n",
        "from sklearn.metrics import matthews_corrcoef, confusion_matrix, precision_score, recall_score, f1_score, accuracy_score\n",
        "from sklearn.utils import shuffle\n",
        "from sklearn.model_selection import train_test_split\n",
        "from ekphrasis.classes.preprocessor import TextPreProcessor\n",
        "from ekphrasis.classes.tokenizer import SocialTokenizer\n",
        "from ekphrasis.dicts.emoticons import emoticons\n",
        "from tensorflow import keras\n"
      ],
      "execution_count": null,
      "outputs": [
        {
          "output_type": "stream",
          "text": [
            "/usr/local/lib/python3.6/dist-packages/statsmodels/tools/_testing.py:19: FutureWarning: pandas.util.testing is deprecated. Use the functions in the public API at pandas.testing instead.\n",
            "  import pandas.util.testing as tm\n"
          ],
          "name": "stderr"
        }
      ]
    },
    {
      "cell_type": "code",
      "metadata": {
        "id": "eRWhJJDHY2Cf",
        "colab_type": "code",
        "colab": {}
      },
      "source": [
        "def clean_text(data, normalize_list, annotate_list):\n",
        "        \"\"\"\n",
        "        This function preprocesses the text using the Ekphrasis library\n",
        "        \n",
        "        data: Pandas series object containing strings of text\n",
        "\n",
        "        normalize_list: list of data features to clean\n",
        "\n",
        "        annotate_list: list of data features to annotate\n",
        "        \"\"\"\n",
        "\n",
        "        text_processor = TextPreProcessor(\n",
        "            normalize= normalize_list,\n",
        "            annotate= annotate_list,\n",
        "            fix_html=True,\n",
        "            segmenter=\"twitter\", \n",
        "            unpack_hashtags=True,  \n",
        "            unpack_contractions=True,  \n",
        "            spell_correct_elong=True,  \n",
        "            tokenizer=SocialTokenizer(lowercase=True).tokenize,\n",
        "            dicts=[emoticons]\n",
        "        )\n",
        "\n",
        "        clean_data = data.map(lambda x: \" \".join(text_processor.pre_process_doc(x)))\n",
        "\n",
        "        return clean_data\n",
        "\n",
        "\n",
        "def early_stopping(val_loss_values, early_stop_vals):\n",
        "    \"\"\"\n",
        "    Determines whether or not the model will keep running based on the patience and delta given relative to the val loss\n",
        "    \"\"\"\n",
        "    if len(val_loss_values) > early_stop_vals[\"patience\"]:\n",
        "      if val_loss_values[-1] <= np.mean(np.array(val_loss_values[-1-early_stop_vals[\"patience\"]:-1])) - early_stop_vals[\"delta\"]:\n",
        "        return False\n",
        "      else:\n",
        "        return True\n",
        "    else:\n",
        "      return False\n",
        "\n",
        "\n",
        "def training_plot(train_loss_values, val_loss_values):\n",
        "    \"\"\"\n",
        "    Plots loss after each epoch\n",
        "\n",
        "    training_loss_values: list of floats; output from fine_tune function\n",
        "\n",
        "    val_loss_values: list of floats; output from fine_tune function\n",
        "    \"\"\"\n",
        "    sns.set(style='darkgrid')\n",
        "    plt.rcParams[\"figure.figsize\"] = (12,6)\n",
        "\n",
        "    plt.plot(train_loss_values, 'b-o', label=\"train\")\n",
        "    plt.plot(val_loss_values, 'g-o', label=\"valid\")\n",
        "\n",
        "    #plt.title(\"Training and Validation loss\")\n",
        "    plt.xlabel(\"Epoch\")\n",
        "    plt.ylabel(\"Loss\")\n",
        "    plt.legend()\n",
        "\n",
        "    #plt.savefig(\"dogwhistle_train_plot.png\",bbox_inches='tight')\n",
        "\n",
        "    return plt.show()\n",
        "\n",
        "\n",
        "def metrics(labels, preds, argmax_needed: bool = False):\n",
        "    \"\"\"\n",
        "    Returns the Matthew's correlation coefficient, accuracy rate, true positive rate, true negative rate, false positive rate, false negative rate, precission, recall, and f1 score\n",
        "    \n",
        "    labels: list of correct labels\n",
        "\n",
        "    pred: list of model predictions\n",
        "    \"\"\"\n",
        "    labels = labels\n",
        "    preds = preds\n",
        "\n",
        "    if argmax_needed == True:\n",
        "        preds = np.argmax(preds, axis=1).flatten()\n",
        "\n",
        "    mcc = matthews_corrcoef(labels, preds)\n",
        "    acc = accuracy_score(labels, preds)\n",
        "    cm = confusion_matrix(labels, preds)\n",
        "\n",
        "    f1 = f1_score(labels, preds, average= \"weighted\")\n",
        "    precision = precision_score(labels, preds, average= \"weighted\")\n",
        "    recall = recall_score(labels, preds, average= \"weighted\")\n",
        "\n",
        "    results = {\n",
        "        \"mcc\": mcc,\n",
        "        \"acc\": acc,\n",
        "        \"confusion_matrix\": cm,\n",
        "        \"precision\": precision,\n",
        "        \"recall\": recall,\n",
        "        \"f1\": f1,\n",
        "    }\n",
        "    \n",
        "    return results, labels, preds\n",
        "\n",
        "\n",
        "def model_saver(model, model_type, output_directory, training_dict, labels, preds, ids, results, tokenizer= None):\n",
        "    \"\"\"\n",
        "    Saves PyTorch Model and other outputs\n",
        "\n",
        "    model: Model to be saved\n",
        "    \n",
        "    model_type (string): Name of model\n",
        "    \n",
        "    output_directory: Directory to folder to save file in\n",
        "\n",
        "    training_dict: Dictionary of training and validation values \n",
        "\n",
        "    labels: List of labels for test set\n",
        "\n",
        "    preds: List of model predictions after passed through argmax()\n",
        "\n",
        "    ids: List of tweet ids\n",
        "\n",
        "    results: Dictionary of metrics\n",
        "\n",
        "    tokenizer: Tokenizer to be saved. Defaulted to None.\n",
        "    \"\"\"\n",
        "\n",
        "    output_directory = os.path.join(output_directory, model_type)\n",
        "    \n",
        "    if not os.path.exists(output_directory):\n",
        "        os.makedirs(output_directory)\n",
        "\n",
        "    os.chdir(output_directory)\n",
        "\n",
        "    np.save(model_type+\"_dogwhistle_train_results.npy\", training_dict) #save training dict\n",
        "    np.save(model_type+\"_dogwhistle_test_results.npy\", results) #save test metrics\n",
        "    \n",
        "    test_predictions = pd.DataFrame([labels, preds, ids]) #save predictions, labels, and ids\n",
        "    test_predictions = test_predictions.T\n",
        "    test_predictions = test_predictions.rename(columns={0: \"Labels\", 1: 'Predictions', 2: 'image_number'})\n",
        "    test_predictions.to_csv(model_type+\"_dogwhistle_predictions.csv\")\n",
        "\n",
        "    #save models\n",
        "    torch.save(model.state_dict(), model_type+\"_model\")\n",
        "\n",
        "    return print(\"Saving complete.\")\n",
        "\n",
        "\n",
        "\n",
        "def confusion_matrix_plotter(results, save_name, x_tick_labels, y_tick_labels, color):\n",
        "    \"\"\"\n",
        "    Plots confusion matrix\n",
        "\n",
        "    results: dictionary item containing key of confusion matrix (output of sklearn confusion_matrix())\n",
        "\n",
        "    x_tick_labels: list of tick labels on x axis\n",
        "\n",
        "    y_tick_labels: list of tick labels on y axis\n",
        "\n",
        "    save_name: name of image to be produced with .png\n",
        "\n",
        "    color: color selection from matplotlib cmap choices: https://matplotlib.org/3.1.0/tutorials/colors/colormaps.html\n",
        "    \"\"\"\n",
        "\n",
        "    df_cm = pd.DataFrame(results.ravel()[0][\"confusion_matrix\"])\n",
        "\n",
        "    fig = plt.figure(figsize=(16, 12))\n",
        "    \n",
        "    plt.rc('axes', labelsize=14)  \n",
        "    plt.rc('xtick', labelsize=12)   \n",
        "    plt.rc('ytick', labelsize=12)       \n",
        "\n",
        "    #plt.subplot(2, 2, 1)\n",
        "    g1 = sns.heatmap(df_cm, annot=True, fmt='g', cmap=color)\n",
        "    g1.set_xlabel('Predicted Label')\n",
        "    g1.set_ylabel('True Label', rotation=0) \n",
        "    g1.xaxis.set_ticklabels(x_tick_labels, rotation=0) \n",
        "    g1.yaxis.set_ticklabels(y_tick_labels, rotation=0) \n",
        "\n",
        "    plt.show()\n",
        "\n",
        "    return fig.savefig(save_name,bbox_inches='tight')\n",
        "\n",
        "\n",
        "def combine_text(df):\n",
        "    \"\"\"\n",
        "    Combines tweet and image text into one column\n",
        "\n",
        "    df: Dataframe which holds the data\n",
        "    \"\"\"\n",
        "    combined_text = []\n",
        "\n",
        "    for row_num in range(len(df)):\n",
        "        tweet_text = df.loc[row_num, \"tweet_text\"]\n",
        "        image_text = df.loc[row_num, \"img_text\"]\n",
        "        if type(image_text) == str:\n",
        "            combined_text.append(tweet_text + image_text)\n",
        "        else:\n",
        "            combined_text.append(tweet_text)\n",
        "\n",
        "    return combined_text\n"
      ],
      "execution_count": null,
      "outputs": []
    },
    {
      "cell_type": "markdown",
      "metadata": {
        "id": "jYYZk02HCtTH",
        "colab_type": "text"
      },
      "source": [
        "### Prepare Data"
      ]
    },
    {
      "cell_type": "code",
      "metadata": {
        "id": "JfISmDRMCsjK",
        "colab_type": "code",
        "colab": {
          "base_uri": "https://localhost:8080/",
          "height": 381
        },
        "outputId": "dfff3b5c-f7bf-46de-e075-2a286ffd8b56"
      },
      "source": [
        "NORMALIZE_LIST = ['url', 'email', 'percent', 'money', 'phone', 'user', 'time', 'date', 'number']\n",
        "ANNOTATE_LIST = ['hashtag', 'allcaps', 'elongated', 'repeated', 'emphasis', 'censored']\n",
        "\n",
        "\n",
        "# Load data\n",
        "train = pd.read_csv(\"/content/drive/My Drive/Dog_Whistle_Code/Data/Train/dog_whistle_train.csv\", encoding='utf-8')\n",
        "dev = pd.read_csv(\"/content/drive/My Drive/Dog_Whistle_Code/Data/Validation/dog_whistle_dev.csv\", encoding='utf-8')\n",
        "test = pd.read_csv(\"/content/drive/My Drive/Dog_Whistle_Code/Data/Test/dog_whistle_test.csv\", encoding='utf-8')\n",
        "\n",
        "# Combine Image and Tweet Text\n",
        "train[\"text\"] = combine_text(train)\n",
        "dev[\"text\"] = combine_text(dev)\n",
        "test[\"text\"] = combine_text(test)\n",
        "\n",
        "# Clean data\n",
        "train[\"text\"] = clean_text(train[\"text\"], NORMALIZE_LIST, ANNOTATE_LIST)\n",
        "dev[\"text\"] = clean_text(dev[\"text\"], NORMALIZE_LIST, ANNOTATE_LIST)\n",
        "test[\"text\"] = clean_text(test[\"text\"], NORMALIZE_LIST, ANNOTATE_LIST)\n",
        "\n",
        "# Rename label column \n",
        "train[\"labels\"] = train[\"Unimodal_text_numeric\"]\n",
        "dev[\"labels\"] = dev[\"Unimodal_text_numeric\"]\n",
        "test[\"labels\"] = test[\"Primary_numeric_gt\"]\n",
        "\n",
        "# Subset with necessary data\n",
        "train_use = train[[\"text\", \"labels\", \"image_number\"]]\n",
        "dev_use = dev[[\"text\", \"labels\", \"image_number\"]]\n",
        "test_use = test[[\"text\", \"labels\", \"image_number\"]]\n",
        "\n",
        "# Define fields\n",
        "TEXT = Field(sequential=True, tokenize=\"spacy\", include_lengths=True) \n",
        "LABEL = Field(sequential=False, use_vocab=False)\n",
        "IDS = Field(sequential=False, use_vocab=False)\n",
        "fields = [('text', TEXT), ('labels', LABEL), ('image_number', IDS)] \n",
        "\n",
        "# Create datasets\n",
        "train_set = Dataset([Example.fromlist(i, fields) for i in train_use.values.tolist()], fields=fields)\n",
        "dev_set = Dataset([Example.fromlist(i, fields) for i in dev_use.values.tolist()], fields=fields)\n",
        "test_set = Dataset([Example.fromlist(i, fields) for i in test_use.values.tolist()], fields=fields)\n",
        "\n",
        "# Get training words and pretrained vectors (training words without vectors are initialized randomly)\n",
        "TEXT.build_vocab(train_set, vectors='fasttext.simple.300d', unk_init=torch.Tensor.normal_)"
      ],
      "execution_count": null,
      "outputs": [
        {
          "output_type": "stream",
          "text": [
            "Word statistics files not found!\n",
            "Downloading... done!\n",
            "Unpacking... done!\n",
            "Reading twitter - 1grams ...\n",
            "generating cache file for faster loading...\n",
            "reading ngrams /root/.ekphrasis/stats/twitter/counts_1grams.txt\n",
            "Reading twitter - 2grams ...\n",
            "generating cache file for faster loading...\n",
            "reading ngrams /root/.ekphrasis/stats/twitter/counts_2grams.txt\n",
            "Reading english - 1grams ...\n",
            "generating cache file for faster loading...\n",
            "reading ngrams /root/.ekphrasis/stats/english/counts_1grams.txt\n",
            "Reading twitter - 1grams ...\n",
            "Reading twitter - 2grams ...\n",
            "Reading english - 1grams ...\n",
            "Reading twitter - 1grams ...\n",
            "Reading twitter - 2grams ...\n",
            "Reading english - 1grams ...\n"
          ],
          "name": "stdout"
        },
        {
          "output_type": "stream",
          "text": [
            ".vector_cache/wiki.simple.vec: 293MB [00:13, 22.0MB/s]                           \n",
            "  0%|          | 0/111051 [00:00<?, ?it/s]Skipping token b'111051' with 1-dimensional vector [b'300']; likely a header\n",
            "100%|█████████▉| 110782/111051 [00:15<00:00, 7152.91it/s]"
          ],
          "name": "stderr"
        }
      ]
    },
    {
      "cell_type": "code",
      "metadata": {
        "id": "4sdzz6TUjS9W",
        "colab_type": "code",
        "colab": {
          "base_uri": "https://localhost:8080/",
          "height": 79
        },
        "outputId": "46ccce12-13ad-48b8-865b-5c21df0189d4"
      },
      "source": [
        "test_use[test_use[\"image_number\"]==1107753891452645377]"
      ],
      "execution_count": null,
      "outputs": [
        {
          "output_type": "execute_result",
          "data": {
            "text/html": [
              "<div>\n",
              "<style scoped>\n",
              "    .dataframe tbody tr th:only-of-type {\n",
              "        vertical-align: middle;\n",
              "    }\n",
              "\n",
              "    .dataframe tbody tr th {\n",
              "        vertical-align: top;\n",
              "    }\n",
              "\n",
              "    .dataframe thead th {\n",
              "        text-align: right;\n",
              "    }\n",
              "</style>\n",
              "<table border=\"1\" class=\"dataframe\">\n",
              "  <thead>\n",
              "    <tr style=\"text-align: right;\">\n",
              "      <th></th>\n",
              "      <th>text</th>\n",
              "      <th>labels</th>\n",
              "      <th>image_number</th>\n",
              "    </tr>\n",
              "  </thead>\n",
              "  <tbody>\n",
              "    <tr>\n",
              "      <th>364</th>\n",
              "      <td>easy . breezy . beautiful . north side nigga ✨...</td>\n",
              "      <td>3</td>\n",
              "      <td>1107753891452645377</td>\n",
              "    </tr>\n",
              "  </tbody>\n",
              "</table>\n",
              "</div>"
            ],
            "text/plain": [
              "                                                  text  ...         image_number\n",
              "364  easy . breezy . beautiful . north side nigga ✨...  ...  1107753891452645377\n",
              "\n",
              "[1 rows x 3 columns]"
            ]
          },
          "metadata": {
            "tags": []
          },
          "execution_count": 48
        }
      ]
    },
    {
      "cell_type": "markdown",
      "metadata": {
        "id": "P-23FiNmCve1",
        "colab_type": "text"
      },
      "source": [
        "## Model Setup"
      ]
    },
    {
      "cell_type": "code",
      "metadata": {
        "id": "_k9eL9r3kRxE",
        "colab_type": "code",
        "colab": {}
      },
      "source": [
        "class LSTMClassifier(nn.Module):\n",
        "    def __init__(self, train, dev, test, pad_id, input_dim: int, embedding_dim: int=300, hidden_dim: int=256, output_dim: int=4, n_layers: int=2, dropout: float=0.2, bidirectional: bool=True, batch_size: int=64):\n",
        "        \"\"\"\n",
        "        train: dataset object of training data\n",
        "\n",
        "        dev: dataset object of dev data\n",
        "\n",
        "        test: dataset object of test data\n",
        "        \n",
        "        pad_id: pads output with embedding vector\n",
        "        \n",
        "        input_dim (int): length of text\n",
        "        \n",
        "        embedding_dim (int): number of embedding dimensions defaulted to 300\n",
        "        \n",
        "        hidden_dim (int): number of hidden nodes defaulted to 256\n",
        "        \n",
        "        output_dim (int): number of labels in classification task defaulted to 2\n",
        "        \n",
        "        n_layers (int): number of recurrent layers defaulted to 2\n",
        "        \n",
        "        dropout (float): percent on nodes turned off during training defaulted to 0.2\n",
        "\n",
        "        bidirectional (boolean): whether bidirectional layers will be added, defaulted to True\n",
        "\n",
        "        batch_size (int): size of mini batches\n",
        "        \"\"\"\n",
        "        \n",
        "        super(LSTMClassifier, self).__init__()\n",
        "        self.device = torch.device('cuda' if torch.cuda.is_available() else 'cpu')\n",
        "        self.train_iter, self.dev_iter, self.test_iter = BucketIterator.splits((train, dev, test), \n",
        "                                                                                batch_size=batch_size, \n",
        "                                                                                device=self.device, \n",
        "                                                                                sort_key=lambda x: len(x.text), \n",
        "                                                                                sort_within_batch=True\n",
        "                                                                                )\n",
        "\n",
        "        self.output_dim = output_dim\n",
        "        self.embedding = nn.Embedding(input_dim, embedding_dim, padding_idx=pad_id)\n",
        "        self.lstm = nn.LSTM(embedding_dim, hidden_dim, num_layers=n_layers, bidirectional=bidirectional, dropout=dropout, batch_first=True)\n",
        "        self.fc = nn.Linear(hidden_dim * 2, output_dim)\n",
        "        self.sig = nn.Sigmoid()\n",
        "\n",
        "\n",
        "    def forward(self, text, lengths):\n",
        "        \"\"\"\n",
        "        This function sets up the model's foward pass\n",
        "\n",
        "        Initiates forward pass of data\n",
        "        \n",
        "        text: vector representation of text string\n",
        "        \n",
        "        lengths: second element in bucket iterator\n",
        "        \"\"\"\n",
        "\n",
        "        embedded = self.embedding(text)\n",
        "        packed_embedded = nn.utils.rnn.pack_padded_sequence(embedded, lengths) #,batch_first=True)\n",
        "        packed_output, (hidden, cell) = self.lstm(packed_embedded)\n",
        "        hidden = torch.cat((hidden[-2,:,:], hidden[-1,:,:]), dim = 1)\n",
        "        outputs=self.fc(hidden)\n",
        "        \n",
        "        return outputs\n",
        "      \n",
        "    \n",
        "    def trainer(self, model, learning_rate: float, early_stop_vals, epochs: int=50):\n",
        "        \"\"\"\n",
        "        This function trains the model\n",
        "\n",
        "        model: Instantiation of model\n",
        "\n",
        "        learning_rate (float): determines steps size while minimizing loss function\n",
        "        \n",
        "        early_stop_vals: Dictionary containing patience level and minimum improvement delta\n",
        "        \n",
        "        epochs (int): Number of training epochs defaulted to 50\n",
        "        \"\"\"\n",
        "\n",
        "        optimizer = optim.AdamW(model.parameters(), lr=learning_rate)\n",
        "        model = model.to(self.device)\n",
        "        \n",
        "        train_scores, train_losses, val_scores, val_losses, = [], [], [], []\n",
        "        \n",
        "        for epoch in trange(epochs, desc= \"Epoch\"):\n",
        "            print(\"Processing epoch {}\".format(epoch+1))\n",
        "            if early_stopping(val_losses, early_stop_vals) == False:\n",
        "\n",
        "                model.train()\n",
        "\n",
        "                train_acc = 0\n",
        "                batch_train_losses = []\n",
        "\n",
        "                for step, batch in enumerate(self.train_iter): # Loop over mini-batches\n",
        "\n",
        "                    optimizer.zero_grad()\n",
        "\n",
        "                    text, lengths = batch.text\n",
        "\n",
        "                    if self.output_dim ==  1:\n",
        "                        predictions = model(text, lengths).squeeze()\n",
        "                        criterion = nn.BCELogits().to(self.device)\n",
        "                        loss = criterion(predictions, batch.labels.to(self.device, dtype=torch.float)) \n",
        "                        loss.backward() # Backpropagate loss\n",
        "                        optimizer.step() # Update weights\n",
        "                        train_acc += self.binary_accuracy(predictions, batch.labels).item()\n",
        "                        batch_train_losses.append(loss.tolist())\n",
        "                    else:\n",
        "                        predictions = model(text, lengths)\n",
        "                        criterion = nn.CrossEntropyLoss().to(self.device)\n",
        "                        loss = criterion(predictions, batch.labels) \n",
        "                        loss.backward() # Backpropagate loss\n",
        "                        optimizer.step() # Update weights\n",
        "                        train_acc += self.batch_accuracy(predictions, batch.labels).item() \n",
        "                        batch_train_losses.append(loss.tolist())\n",
        "\n",
        "\n",
        "                batch_loss = sum(batch_train_losses)/len(batch_train_losses)\n",
        "                train_losses.append(batch_loss)\n",
        "                train_acc /= len(self.train_iter)\n",
        "                train_scores.append(train_acc)\n",
        "                print('Accuracy on train data:\\t{:.4f}'.format(train_acc))\n",
        "                model.eval() # Compute accuracy on validation data\n",
        "\n",
        "                val_acc = 0\n",
        "                batch_val_losses = []\n",
        "\n",
        "                with torch.no_grad():\n",
        "\n",
        "                    for batch in self.dev_iter:\n",
        "\n",
        "                        text, lengths = batch.text\n",
        "\n",
        "                        if self.output_dim ==  1:\n",
        "                            preds = model(text, lengths).squeeze()\n",
        "                            criterion = nn.BCELogits().to(self.device)\n",
        "                            loss = criterion(preds, batch.labels.to(self.device, dtype=torch.float)) \n",
        "                            batch_val_losses.append(loss.tolist())\n",
        "                            val_acc += self.binary_accuracy(preds, batch.label).item()\n",
        "                        else:\n",
        "                            preds = model(text, lengths)\n",
        "                            criterion = nn.CrossEntropyLoss().to(self.device)\n",
        "                            loss = criterion(preds, batch.labels) \n",
        "                            batch_val_losses.append(loss.tolist())\n",
        "                            val_acc += self.batch_accuracy(preds, batch.labels).item()\n",
        "                        \n",
        "\n",
        "                batch_loss = sum(batch_val_losses)/len(batch_val_losses)\n",
        "                print(\"Batch dev loss: {}\".format(batch_loss))\n",
        "                val_losses.append(batch_loss)\n",
        "                val_acc /= len(self.dev_iter)\n",
        "                val_scores.append(val_acc)\n",
        "\n",
        "                print('Accuracy on dev data:\\t{:.4f}'.format(val_acc))\n",
        "                \n",
        "                if epoch == (epochs-1):\n",
        "                    training_plot(train_losses, val_losses)\n",
        "                    training_dict = {\"Train Accuracy\": train_scores, \"Train Loss\": train_losses, \"Val Accuracy\": val_scores, \"Val Loss\": val_losses}\n",
        "                    print(\"Training complete!\")\n",
        "                    return training_dict\n",
        "                else:\n",
        "                    continue\n",
        "                \n",
        "            else:\n",
        "                print(\"Stopping early...\")\n",
        "                print(\"Training complete!\")\n",
        "                training_plot(train_losses, val_losses)\n",
        "                training_dict = {\"Train Accuracy\": train_scores, \"Train Loss\": train_losses, \"Val Accuracy\": val_scores, \"Val Loss\": val_losses}\n",
        "                print(\"Training complete!\")\n",
        "                return training_dict\n",
        "\n",
        "\n",
        "    def test(self, model):\n",
        "        \"\"\"\n",
        "        This function performs a forward pass on the test data and computes the performance metrics\n",
        "\n",
        "        model: instantiation of model\n",
        "        \"\"\"\n",
        "        \n",
        "        model = model.to(self.device)\n",
        "        model.eval()\n",
        "\n",
        "        labels = list()\n",
        "        preds = list()\n",
        "        ids = list()\n",
        "\n",
        "        with torch.no_grad():\n",
        "\n",
        "            for batch in self.test_iter:\n",
        "\n",
        "                text, lengths = batch.text\n",
        "                output = model(text, lengths)\n",
        "\n",
        "                preds.extend([p.item() for p in output.argmax(dim=1, keepdim=True)])\n",
        "                labels.extend([l.item() for l in batch.labels])\n",
        "                ids.extend([i.item() for i in batch.image_number])\n",
        "        \n",
        "        return metrics(labels, preds), ids\n",
        "\n",
        "\n",
        "    def batch_accuracy(self, predictions, labels):\n",
        "        \"\"\"\n",
        "        Calculates mean batch accuracy for multiclass data\n",
        "        \n",
        "        predictions: model output after forward pass\n",
        "        \n",
        "        labels: list of one-hot encoded labels\n",
        "        \"\"\"\n",
        "        \n",
        "        max_predictions = predictions.argmax(dim=1, keepdim=True)\n",
        "        correct = max_predictions.squeeze(1).eq(labels)\n",
        "        \n",
        "        return correct.sum() / torch.FloatTensor([labels.shape[0]])\n",
        "\n",
        "\n",
        "    def binary_accuracy(self, predictions, labels):\n",
        "        \"\"\"\n",
        "        Calculates mean batch accuracy for binary data\n",
        "\n",
        "        predictions: model output after forward pass\n",
        "          \n",
        "        labels: list of one-hot encoded labels\n",
        "        \"\"\"\n",
        "        rounded_preds = torch.round(self.sig(predictions))\n",
        "        \n",
        "        correct = (rounded_preds == labels).float() \n",
        "        acc = correct.sum() / len(correct)\n",
        "        \n",
        "        return acc\n",
        "      "
      ],
      "execution_count": null,
      "outputs": []
    },
    {
      "cell_type": "markdown",
      "metadata": {
        "id": "iPCHZ6vRC0dN",
        "colab_type": "text"
      },
      "source": [
        "### Run Model"
      ]
    },
    {
      "cell_type": "code",
      "metadata": {
        "id": "WBkt1L2poGUn",
        "colab_type": "code",
        "colab": {}
      },
      "source": [
        "#define hyperparameters\n",
        "INPUT_DIM = len(TEXT.vocab)\n",
        "PAD_ID = TEXT.vocab.stoi[TEXT.pad_token]\n",
        "UNK_ID = TEXT.vocab.stoi[TEXT.unk_token]\n",
        "N_EPOCHS = 50\n",
        "EARLY_STOPPING = {\"patience\": 10, \"delta\": 0.01}\n",
        "LEARNING_RATES = [0.0001, 0.001, 0.01, 0.1, 1]\n",
        "OUTPUT_DIR = \"/content/drive/My Drive/Dog_Whistle_Code/Fine_Tuned_Models/Text\""
      ],
      "execution_count": null,
      "outputs": []
    },
    {
      "cell_type": "code",
      "metadata": {
        "id": "8IPIaemaCZRx",
        "colab_type": "code",
        "colab": {
          "base_uri": "https://localhost:8080/",
          "height": 1000
        },
        "outputId": "5ad799d0-df7c-4fb0-ca99-559707a306f2"
      },
      "source": [
        "results_dict = {}\n",
        "max_f1_value = 0\n",
        "\n",
        "for i in LEARNING_RATES:\n",
        "    # Initialize LSTM model\n",
        "    model = LSTMClassifier(train_set, dev_set, test_set, PAD_ID, INPUT_DIM)  \n",
        "\n",
        "    # Load pretrained vector\n",
        "    model.embedding.weight.data.copy_(TEXT.vocab.vectors) \n",
        "\n",
        "    # Manually initialize UNK and PAD tokens as zero vectors (and NOT randomly as would be done otherwise)\n",
        "    model.embedding.weight.data[UNK_ID] = torch.zeros(300)\n",
        "    model.embedding.weight.data[PAD_ID] = torch.zeros(300)\n",
        "\n",
        "    #model test\n",
        "    train_dict = model.trainer(model, i, EARLY_STOPPING, N_EPOCHS) \n",
        "    (results_dict[i], labels, preds), ids = model.test(model)\n",
        "\n",
        "    if results_dict[i][\"f1\"] >= max_f1_value: #only save best model\n",
        "        max_f1_value = results_dict[i][\"f1\"]\n",
        "        model_saver(model, \"LSTM\", OUTPUT_DIR, train_dict, labels, preds, ids, results_dict[i])\n",
        "        print(\"The new best learning rate is \", i)\n",
        "\n",
        "# save complete training results\n",
        "np.save(os.path.join(OUTPUT_DIR, \"LSTM/LSTM_dogwhistle_total_training_results.npy\"), results_dict)\n",
        "df = pd.read_csv(\"/content/drive/My Drive/Dog_Whistle_Code/Fine_Tuned_Models/Text/LSTM/LSTM_dogwhistle_predictions.csv\")\n",
        "# df[\"image_number\"] = ids\n",
        "# df.to_csv(\"/content/drive/My Drive/Dog_Whistle_Code/Fine_Tuned_Models/Text/LSTM/LSTM_dogwhistle_predictions.csv\")"
      ],
      "execution_count": null,
      "outputs": [
        {
          "output_type": "stream",
          "text": [
            "\n",
            "\n",
            "\n",
            "\n",
            "\n",
            "\n",
            "\n",
            "\n",
            "\n",
            "Epoch:   0%|          | 0/50 [00:00<?, ?it/s]\u001b[A\u001b[A\u001b[A\u001b[A\u001b[A\u001b[A\u001b[A\u001b[A\u001b[A"
          ],
          "name": "stderr"
        },
        {
          "output_type": "stream",
          "text": [
            "Processing epoch 1\n"
          ],
          "name": "stdout"
        },
        {
          "output_type": "stream",
          "text": [
            "\n",
            "\n",
            "\n",
            "\n",
            "\n",
            "\n",
            "\n",
            "\n",
            "\n",
            "Epoch:   2%|▏         | 1/50 [00:04<03:16,  4.01s/it]"
          ],
          "name": "stderr"
        },
        {
          "output_type": "stream",
          "text": [
            "Accuracy on train data:\t0.5217\n",
            "Batch dev loss: 0.9548793658614159\n",
            "Accuracy on dev data:\t0.5717\n"
          ],
          "name": "stdout"
        },
        {
          "output_type": "stream",
          "text": [
            "\u001b[A\u001b[A\u001b[A\u001b[A\u001b[A\u001b[A\u001b[A\u001b[A\u001b[A"
          ],
          "name": "stderr"
        },
        {
          "output_type": "stream",
          "text": [
            "Processing epoch 2\n"
          ],
          "name": "stdout"
        },
        {
          "output_type": "stream",
          "text": [
            "\n",
            "\n",
            "\n",
            "\n",
            "\n",
            "\n",
            "\n",
            "\n",
            "\n",
            "Epoch:   4%|▍         | 2/50 [00:07<03:09,  3.95s/it]\u001b[A\u001b[A\u001b[A\u001b[A\u001b[A\u001b[A\u001b[A\u001b[A\u001b[A"
          ],
          "name": "stderr"
        },
        {
          "output_type": "stream",
          "text": [
            "Accuracy on train data:\t0.5816\n",
            "Batch dev loss: 0.8914645463228226\n",
            "Accuracy on dev data:\t0.6118\n",
            "Processing epoch 3\n"
          ],
          "name": "stdout"
        },
        {
          "output_type": "stream",
          "text": [
            "\n",
            "\n",
            "\n",
            "\n",
            "\n",
            "\n",
            "\n",
            "\n",
            "\n",
            "Epoch:   6%|▌         | 3/50 [00:11<03:04,  3.92s/it]\u001b[A\u001b[A\u001b[A\u001b[A\u001b[A\u001b[A\u001b[A\u001b[A\u001b[A"
          ],
          "name": "stderr"
        },
        {
          "output_type": "stream",
          "text": [
            "Accuracy on train data:\t0.6353\n",
            "Batch dev loss: 0.8282544314861298\n",
            "Accuracy on dev data:\t0.6881\n",
            "Processing epoch 4\n"
          ],
          "name": "stdout"
        },
        {
          "output_type": "stream",
          "text": [
            "\n",
            "\n",
            "\n",
            "\n",
            "\n",
            "\n",
            "\n",
            "\n",
            "\n",
            "Epoch:   8%|▊         | 4/50 [00:15<02:59,  3.90s/it]\u001b[A\u001b[A\u001b[A\u001b[A\u001b[A\u001b[A\u001b[A\u001b[A\u001b[A"
          ],
          "name": "stderr"
        },
        {
          "output_type": "stream",
          "text": [
            "Accuracy on train data:\t0.6956\n",
            "Batch dev loss: 0.7546292915940285\n",
            "Accuracy on dev data:\t0.7163\n",
            "Processing epoch 5\n"
          ],
          "name": "stdout"
        },
        {
          "output_type": "stream",
          "text": [
            "\n",
            "\n",
            "\n",
            "\n",
            "\n",
            "\n",
            "\n",
            "\n",
            "\n",
            "Epoch:  10%|█         | 5/50 [00:19<02:54,  3.88s/it]"
          ],
          "name": "stderr"
        },
        {
          "output_type": "stream",
          "text": [
            "Accuracy on train data:\t0.7157\n",
            "Batch dev loss: 0.734233058989048\n",
            "Accuracy on dev data:\t0.7270\n"
          ],
          "name": "stdout"
        },
        {
          "output_type": "stream",
          "text": [
            "\u001b[A\u001b[A\u001b[A\u001b[A\u001b[A\u001b[A\u001b[A\u001b[A\u001b[A"
          ],
          "name": "stderr"
        },
        {
          "output_type": "stream",
          "text": [
            "Processing epoch 6\n"
          ],
          "name": "stdout"
        },
        {
          "output_type": "stream",
          "text": [
            "\n",
            "\n",
            "\n",
            "\n",
            "\n",
            "\n",
            "\n",
            "\n",
            "\n",
            "Epoch:  12%|█▏        | 6/50 [00:23<02:50,  3.87s/it]"
          ],
          "name": "stderr"
        },
        {
          "output_type": "stream",
          "text": [
            "Accuracy on train data:\t0.7429\n",
            "Batch dev loss: 0.7189418897032738\n",
            "Accuracy on dev data:\t0.7222\n"
          ],
          "name": "stdout"
        },
        {
          "output_type": "stream",
          "text": [
            "\u001b[A\u001b[A\u001b[A\u001b[A\u001b[A\u001b[A\u001b[A\u001b[A\u001b[A"
          ],
          "name": "stderr"
        },
        {
          "output_type": "stream",
          "text": [
            "Processing epoch 7\n"
          ],
          "name": "stdout"
        },
        {
          "output_type": "stream",
          "text": [
            "\n",
            "\n",
            "\n",
            "\n",
            "\n",
            "\n",
            "\n",
            "\n",
            "\n",
            "Epoch:  14%|█▍        | 7/50 [00:27<02:46,  3.86s/it]\u001b[A\u001b[A\u001b[A\u001b[A\u001b[A\u001b[A\u001b[A\u001b[A\u001b[A"
          ],
          "name": "stderr"
        },
        {
          "output_type": "stream",
          "text": [
            "Accuracy on train data:\t0.7547\n",
            "Batch dev loss: 0.8316294699907303\n",
            "Accuracy on dev data:\t0.6828\n",
            "Processing epoch 8\n"
          ],
          "name": "stdout"
        },
        {
          "output_type": "stream",
          "text": [
            "\n",
            "\n",
            "\n",
            "\n",
            "\n",
            "\n",
            "\n",
            "\n",
            "\n",
            "Epoch:  16%|█▌        | 8/50 [00:30<02:41,  3.86s/it]\u001b[A\u001b[A\u001b[A\u001b[A\u001b[A\u001b[A\u001b[A\u001b[A\u001b[A"
          ],
          "name": "stderr"
        },
        {
          "output_type": "stream",
          "text": [
            "Accuracy on train data:\t0.7697\n",
            "Batch dev loss: 0.6966468468308449\n",
            "Accuracy on dev data:\t0.7505\n",
            "Processing epoch 9\n"
          ],
          "name": "stdout"
        },
        {
          "output_type": "stream",
          "text": [
            "\n",
            "\n",
            "\n",
            "\n",
            "\n",
            "\n",
            "\n",
            "\n",
            "\n",
            "Epoch:  18%|█▊        | 9/50 [00:34<02:37,  3.85s/it]\u001b[A\u001b[A\u001b[A\u001b[A\u001b[A\u001b[A\u001b[A\u001b[A\u001b[A"
          ],
          "name": "stderr"
        },
        {
          "output_type": "stream",
          "text": [
            "Accuracy on train data:\t0.7674\n",
            "Batch dev loss: 0.7173378244042397\n",
            "Accuracy on dev data:\t0.7159\n",
            "Processing epoch 10\n"
          ],
          "name": "stdout"
        },
        {
          "output_type": "stream",
          "text": [
            "\n",
            "\n",
            "\n",
            "\n",
            "\n",
            "\n",
            "\n",
            "\n",
            "\n",
            "Epoch:  20%|██        | 10/50 [00:38<02:33,  3.84s/it]\u001b[A\u001b[A\u001b[A\u001b[A\u001b[A\u001b[A\u001b[A\u001b[A\u001b[A"
          ],
          "name": "stderr"
        },
        {
          "output_type": "stream",
          "text": [
            "Accuracy on train data:\t0.7853\n",
            "Batch dev loss: 0.6888263374567032\n",
            "Accuracy on dev data:\t0.7515\n",
            "Processing epoch 11\n"
          ],
          "name": "stdout"
        },
        {
          "output_type": "stream",
          "text": [
            "\n",
            "\n",
            "\n",
            "\n",
            "\n",
            "\n",
            "\n",
            "\n",
            "\n",
            "Epoch:  22%|██▏       | 11/50 [00:42<02:29,  3.84s/it]"
          ],
          "name": "stderr"
        },
        {
          "output_type": "stream",
          "text": [
            "Accuracy on train data:\t0.8141\n",
            "Batch dev loss: 0.6936726123094559\n",
            "Accuracy on dev data:\t0.7520\n"
          ],
          "name": "stdout"
        },
        {
          "output_type": "stream",
          "text": [
            "\u001b[A\u001b[A\u001b[A\u001b[A\u001b[A\u001b[A\u001b[A\u001b[A\u001b[A"
          ],
          "name": "stderr"
        },
        {
          "output_type": "stream",
          "text": [
            "Processing epoch 12\n"
          ],
          "name": "stdout"
        },
        {
          "output_type": "stream",
          "text": [
            "\n",
            "\n",
            "\n",
            "\n",
            "\n",
            "\n",
            "\n",
            "\n",
            "\n",
            "Epoch:  24%|██▍       | 12/50 [00:46<02:25,  3.83s/it]\u001b[A\u001b[A\u001b[A\u001b[A\u001b[A\u001b[A\u001b[A\u001b[A\u001b[A"
          ],
          "name": "stderr"
        },
        {
          "output_type": "stream",
          "text": [
            "Accuracy on train data:\t0.8178\n",
            "Batch dev loss: 0.7216378152370453\n",
            "Accuracy on dev data:\t0.7426\n",
            "Processing epoch 13\n"
          ],
          "name": "stdout"
        },
        {
          "output_type": "stream",
          "text": [
            "\n",
            "\n",
            "\n",
            "\n",
            "\n",
            "\n",
            "\n",
            "\n",
            "\n",
            "Epoch:  26%|██▌       | 13/50 [00:50<02:21,  3.83s/it]"
          ],
          "name": "stderr"
        },
        {
          "output_type": "stream",
          "text": [
            "Accuracy on train data:\t0.8390\n",
            "Batch dev loss: 0.710201621055603\n",
            "Accuracy on dev data:\t0.7480\n"
          ],
          "name": "stdout"
        },
        {
          "output_type": "stream",
          "text": [
            "\u001b[A\u001b[A\u001b[A\u001b[A\u001b[A\u001b[A\u001b[A\u001b[A\u001b[A"
          ],
          "name": "stderr"
        },
        {
          "output_type": "stream",
          "text": [
            "Processing epoch 14\n"
          ],
          "name": "stdout"
        },
        {
          "output_type": "stream",
          "text": [
            "\n",
            "\n",
            "\n",
            "\n",
            "\n",
            "\n",
            "\n",
            "\n",
            "\n",
            "Epoch:  28%|██▊       | 14/50 [00:53<02:17,  3.83s/it]\u001b[A\u001b[A\u001b[A\u001b[A\u001b[A\u001b[A\u001b[A\u001b[A\u001b[A"
          ],
          "name": "stderr"
        },
        {
          "output_type": "stream",
          "text": [
            "Accuracy on train data:\t0.8566\n",
            "Batch dev loss: 0.7350601926445961\n",
            "Accuracy on dev data:\t0.7422\n",
            "Processing epoch 15\n",
            "Stopping early...\n",
            "Training complete!\n"
          ],
          "name": "stdout"
        },
        {
          "output_type": "display_data",
          "data": {
            "image/png": "[encoded data removed]",
            "text/plain": [
              "<Figure size 864x432 with 1 Axes>"
            ]
          },
          "metadata": {
            "tags": []
          }
        },
        {
          "output_type": "stream",
          "text": [
            "Training complete!\n"
          ],
          "name": "stdout"
        },
        {
          "output_type": "stream",
          "text": [
            "/usr/local/lib/python3.6/dist-packages/sklearn/metrics/_classification.py:1272: UndefinedMetricWarning: Precision is ill-defined and being set to 0.0 in labels with no predicted samples. Use `zero_division` parameter to control this behavior.\n",
            "  _warn_prf(average, modifier, msg_start, len(result))\n",
            "\n",
            "\n",
            "\n",
            "\n",
            "\n",
            "\n",
            "\n",
            "\n",
            "\n",
            "\n",
            "Epoch:   0%|          | 0/50 [00:00<?, ?it/s]\u001b[A\u001b[A\u001b[A\u001b[A\u001b[A\u001b[A\u001b[A\u001b[A\u001b[A\u001b[A"
          ],
          "name": "stderr"
        },
        {
          "output_type": "stream",
          "text": [
            "Saving complete.\n",
            "The new best learning rate is  0.0001\n",
            "Processing epoch 1\n"
          ],
          "name": "stdout"
        },
        {
          "output_type": "stream",
          "text": [
            "\n",
            "\n",
            "\n",
            "\n",
            "\n",
            "\n",
            "\n",
            "\n",
            "\n",
            "\n",
            "Epoch:   2%|▏         | 1/50 [00:03<03:07,  3.83s/it]\u001b[A\u001b[A\u001b[A\u001b[A\u001b[A\u001b[A\u001b[A\u001b[A\u001b[A\u001b[A"
          ],
          "name": "stderr"
        },
        {
          "output_type": "stream",
          "text": [
            "Accuracy on train data:\t0.5706\n",
            "Batch dev loss: 0.7999562993645668\n",
            "Accuracy on dev data:\t0.6974\n",
            "Processing epoch 2\n"
          ],
          "name": "stdout"
        },
        {
          "output_type": "stream",
          "text": [
            "\n",
            "\n",
            "\n",
            "\n",
            "\n",
            "\n",
            "\n",
            "\n",
            "\n",
            "\n",
            "Epoch:   4%|▍         | 2/50 [00:07<03:04,  3.84s/it]\u001b[A\u001b[A\u001b[A\u001b[A\u001b[A\u001b[A\u001b[A\u001b[A\u001b[A\u001b[A"
          ],
          "name": "stderr"
        },
        {
          "output_type": "stream",
          "text": [
            "Accuracy on train data:\t0.7069\n",
            "Batch dev loss: 0.7561765983700752\n",
            "Accuracy on dev data:\t0.7281\n",
            "Processing epoch 3\n"
          ],
          "name": "stdout"
        },
        {
          "output_type": "stream",
          "text": [
            "\n",
            "\n",
            "\n",
            "\n",
            "\n",
            "\n",
            "\n",
            "\n",
            "\n",
            "\n",
            "Epoch:   6%|▌         | 3/50 [00:11<03:00,  3.84s/it]"
          ],
          "name": "stderr"
        },
        {
          "output_type": "stream",
          "text": [
            "Accuracy on train data:\t0.7899\n",
            "Batch dev loss: 0.7020666152238846\n",
            "Accuracy on dev data:\t0.7479\n"
          ],
          "name": "stdout"
        },
        {
          "output_type": "stream",
          "text": [
            "\u001b[A\u001b[A\u001b[A\u001b[A\u001b[A\u001b[A\u001b[A\u001b[A\u001b[A\u001b[A"
          ],
          "name": "stderr"
        },
        {
          "output_type": "stream",
          "text": [
            "Processing epoch 4\n"
          ],
          "name": "stdout"
        },
        {
          "output_type": "stream",
          "text": [
            "\n",
            "\n",
            "\n",
            "\n",
            "\n",
            "\n",
            "\n",
            "\n",
            "\n",
            "\n",
            "Epoch:   8%|▊         | 4/50 [00:15<02:56,  3.84s/it]\u001b[A\u001b[A\u001b[A\u001b[A\u001b[A\u001b[A\u001b[A\u001b[A\u001b[A\u001b[A"
          ],
          "name": "stderr"
        },
        {
          "output_type": "stream",
          "text": [
            "Accuracy on train data:\t0.8415\n",
            "Batch dev loss: 0.7612165212631226\n",
            "Accuracy on dev data:\t0.7456\n"
          ],
          "name": "stdout"
        },
        {
          "output_type": "stream",
          "text": [
            "\n",
            "\n",
            "\n",
            "\n",
            "\n",
            "\n",
            "\n",
            "\n",
            "\n",
            "\n",
            "Epoch:  10%|█         | 5/50 [00:19<02:52,  3.84s/it]\u001b[A\u001b[A\u001b[A\u001b[A\u001b[A\u001b[A\u001b[A\u001b[A\u001b[A\u001b[A"
          ],
          "name": "stderr"
        },
        {
          "output_type": "stream",
          "text": [
            "Processing epoch 5\n",
            "Accuracy on train data:\t0.8916\n",
            "Batch dev loss: 0.9388282373547554\n",
            "Accuracy on dev data:\t0.7300\n",
            "Processing epoch 6\n"
          ],
          "name": "stdout"
        },
        {
          "output_type": "stream",
          "text": [
            "\n",
            "\n",
            "\n",
            "\n",
            "\n",
            "\n",
            "\n",
            "\n",
            "\n",
            "\n",
            "Epoch:  12%|█▏        | 6/50 [00:23<02:48,  3.84s/it]\u001b[A\u001b[A\u001b[A\u001b[A\u001b[A\u001b[A\u001b[A\u001b[A\u001b[A\u001b[A"
          ],
          "name": "stderr"
        },
        {
          "output_type": "stream",
          "text": [
            "Accuracy on train data:\t0.9218\n",
            "Batch dev loss: 0.8835848197340965\n",
            "Accuracy on dev data:\t0.7417\n",
            "Processing epoch 7\n"
          ],
          "name": "stdout"
        },
        {
          "output_type": "stream",
          "text": [
            "\n",
            "\n",
            "\n",
            "\n",
            "\n",
            "\n",
            "\n",
            "\n",
            "\n",
            "\n",
            "Epoch:  14%|█▍        | 7/50 [00:26<02:44,  3.83s/it]\u001b[A\u001b[A\u001b[A\u001b[A\u001b[A\u001b[A\u001b[A\u001b[A\u001b[A\u001b[A"
          ],
          "name": "stderr"
        },
        {
          "output_type": "stream",
          "text": [
            "Accuracy on train data:\t0.9449\n",
            "Batch dev loss: 1.0154915824532509\n",
            "Accuracy on dev data:\t0.7242\n",
            "Processing epoch 8\n"
          ],
          "name": "stdout"
        },
        {
          "output_type": "stream",
          "text": [
            "\n",
            "\n",
            "\n",
            "\n",
            "\n",
            "\n",
            "\n",
            "\n",
            "\n",
            "\n",
            "Epoch:  16%|█▌        | 8/50 [00:30<02:40,  3.82s/it]"
          ],
          "name": "stderr"
        },
        {
          "output_type": "stream",
          "text": [
            "Accuracy on train data:\t0.9655\n",
            "Batch dev loss: 1.1819842457771301\n",
            "Accuracy on dev data:\t0.6998\n"
          ],
          "name": "stdout"
        },
        {
          "output_type": "stream",
          "text": [
            "\u001b[A\u001b[A\u001b[A\u001b[A\u001b[A\u001b[A\u001b[A\u001b[A\u001b[A\u001b[A"
          ],
          "name": "stderr"
        },
        {
          "output_type": "stream",
          "text": [
            "Processing epoch 9\n"
          ],
          "name": "stdout"
        },
        {
          "output_type": "stream",
          "text": [
            "\n",
            "\n",
            "\n",
            "\n",
            "\n",
            "\n",
            "\n",
            "\n",
            "\n",
            "\n",
            "Epoch:  18%|█▊        | 9/50 [00:34<02:36,  3.82s/it]\u001b[A\u001b[A\u001b[A\u001b[A\u001b[A\u001b[A\u001b[A\u001b[A\u001b[A\u001b[A"
          ],
          "name": "stderr"
        },
        {
          "output_type": "stream",
          "text": [
            "Accuracy on train data:\t0.9792\n",
            "Batch dev loss: 1.3653292804956436\n",
            "Accuracy on dev data:\t0.7300\n",
            "Processing epoch 10\n"
          ],
          "name": "stdout"
        },
        {
          "output_type": "stream",
          "text": [
            "\n",
            "\n",
            "\n",
            "\n",
            "\n",
            "\n",
            "\n",
            "\n",
            "\n",
            "\n",
            "Epoch:  20%|██        | 10/50 [00:38<02:32,  3.82s/it]\u001b[A\u001b[A\u001b[A\u001b[A\u001b[A\u001b[A\u001b[A\u001b[A\u001b[A\u001b[A"
          ],
          "name": "stderr"
        },
        {
          "output_type": "stream",
          "text": [
            "Accuracy on train data:\t0.9831\n",
            "Batch dev loss: 1.4718933552503586\n",
            "Accuracy on dev data:\t0.7290\n",
            "Processing epoch 11\n"
          ],
          "name": "stdout"
        },
        {
          "output_type": "stream",
          "text": [
            "\n",
            "\n",
            "\n",
            "\n",
            "\n",
            "\n",
            "\n",
            "\n",
            "\n",
            "\n",
            "Epoch:  22%|██▏       | 11/50 [00:42<02:28,  3.82s/it]"
          ],
          "name": "stderr"
        },
        {
          "output_type": "stream",
          "text": [
            "Accuracy on train data:\t0.9774\n",
            "Batch dev loss: 1.3380195498466492\n",
            "Accuracy on dev data:\t0.7105\n"
          ],
          "name": "stdout"
        },
        {
          "output_type": "stream",
          "text": [
            "\u001b[A\u001b[A\u001b[A\u001b[A\u001b[A\u001b[A\u001b[A\u001b[A\u001b[A\u001b[A"
          ],
          "name": "stderr"
        },
        {
          "output_type": "stream",
          "text": [
            "Processing epoch 12\n",
            "Stopping early...\n",
            "Training complete!\n"
          ],
          "name": "stdout"
        },
        {
          "output_type": "display_data",
          "data": {
            "image/png": "[encoded data removed]",
            "text/plain": [
              "<Figure size 864x432 with 1 Axes>"
            ]
          },
          "metadata": {
            "tags": []
          }
        },
        {
          "output_type": "stream",
          "text": [
            "Training complete!\n"
          ],
          "name": "stdout"
        },
        {
          "output_type": "stream",
          "text": [
            "\n",
            "\n",
            "\n",
            "\n",
            "\n",
            "\n",
            "\n",
            "\n",
            "\n",
            "\n",
            "\n",
            "Epoch:   0%|          | 0/50 [00:00<?, ?it/s]\u001b[A\u001b[A\u001b[A\u001b[A\u001b[A\u001b[A\u001b[A\u001b[A\u001b[A\u001b[A\u001b[A"
          ],
          "name": "stderr"
        },
        {
          "output_type": "stream",
          "text": [
            "Processing epoch 1\n"
          ],
          "name": "stdout"
        },
        {
          "output_type": "stream",
          "text": [
            "\n",
            "\n",
            "\n",
            "\n",
            "\n",
            "\n",
            "\n",
            "\n",
            "\n",
            "\n",
            "\n"
          ],
          "name": "stderr"
        },
        {
          "output_type": "stream",
          "text": [
            "Accuracy on train data:\t0.5118\n",
            "Batch dev loss: 0.9455111548304558\n",
            "Accuracy on dev data:\t0.5679\n"
          ],
          "name": "stdout"
        },
        {
          "output_type": "stream",
          "text": [
            "\rEpoch:   2%|▏         | 1/50 [00:03<03:06,  3.81s/it]\u001b[A\u001b[A\u001b[A\u001b[A\u001b[A\u001b[A\u001b[A\u001b[A\u001b[A\u001b[A\u001b[A"
          ],
          "name": "stderr"
        },
        {
          "output_type": "stream",
          "text": [
            "Processing epoch 2\n"
          ],
          "name": "stdout"
        },
        {
          "output_type": "stream",
          "text": [
            "\n",
            "\n",
            "\n",
            "\n",
            "\n",
            "\n",
            "\n",
            "\n",
            "\n",
            "\n",
            "\n",
            "Epoch:   4%|▍         | 2/50 [00:07<03:02,  3.81s/it]"
          ],
          "name": "stderr"
        },
        {
          "output_type": "stream",
          "text": [
            "Accuracy on train data:\t0.5718\n",
            "Batch dev loss: 0.9381448552012444\n",
            "Accuracy on dev data:\t0.5660\n"
          ],
          "name": "stdout"
        },
        {
          "output_type": "stream",
          "text": [
            "\u001b[A\u001b[A\u001b[A\u001b[A\u001b[A\u001b[A\u001b[A\u001b[A\u001b[A\u001b[A\u001b[A"
          ],
          "name": "stderr"
        },
        {
          "output_type": "stream",
          "text": [
            "Processing epoch 3\n"
          ],
          "name": "stdout"
        },
        {
          "output_type": "stream",
          "text": [
            "\n",
            "\n",
            "\n",
            "\n",
            "\n",
            "\n",
            "\n",
            "\n",
            "\n",
            "\n",
            "\n",
            "Epoch:   6%|▌         | 3/50 [00:11<02:59,  3.81s/it]\u001b[A\u001b[A\u001b[A\u001b[A\u001b[A\u001b[A\u001b[A\u001b[A\u001b[A\u001b[A\u001b[A"
          ],
          "name": "stderr"
        },
        {
          "output_type": "stream",
          "text": [
            "Accuracy on train data:\t0.6257\n",
            "Batch dev loss: 0.9359739497303963\n",
            "Accuracy on dev data:\t0.6202\n",
            "Processing epoch 4\n"
          ],
          "name": "stdout"
        },
        {
          "output_type": "stream",
          "text": [
            "\n",
            "\n",
            "\n",
            "\n",
            "\n",
            "\n",
            "\n",
            "\n",
            "\n",
            "\n",
            "\n",
            "Epoch:   8%|▊         | 4/50 [00:15<02:55,  3.81s/it]"
          ],
          "name": "stderr"
        },
        {
          "output_type": "stream",
          "text": [
            "Accuracy on train data:\t0.7227\n",
            "Batch dev loss: 0.8113228529691696\n",
            "Accuracy on dev data:\t0.7100\n"
          ],
          "name": "stdout"
        },
        {
          "output_type": "stream",
          "text": [
            "\u001b[A\u001b[A\u001b[A\u001b[A\u001b[A\u001b[A\u001b[A\u001b[A\u001b[A\u001b[A\u001b[A"
          ],
          "name": "stderr"
        },
        {
          "output_type": "stream",
          "text": [
            "Processing epoch 5\n"
          ],
          "name": "stdout"
        },
        {
          "output_type": "stream",
          "text": [
            "\n",
            "\n",
            "\n",
            "\n",
            "\n",
            "\n",
            "\n",
            "\n",
            "\n",
            "\n",
            "\n",
            "Epoch:  10%|█         | 5/50 [00:19<02:51,  3.81s/it]"
          ],
          "name": "stderr"
        },
        {
          "output_type": "stream",
          "text": [
            "Accuracy on train data:\t0.7921\n",
            "Batch dev loss: 0.8578011095523834\n",
            "Accuracy on dev data:\t0.7022\n"
          ],
          "name": "stdout"
        },
        {
          "output_type": "stream",
          "text": [
            "\u001b[A\u001b[A\u001b[A\u001b[A\u001b[A\u001b[A\u001b[A\u001b[A\u001b[A\u001b[A\u001b[A"
          ],
          "name": "stderr"
        },
        {
          "output_type": "stream",
          "text": [
            "Processing epoch 6\n"
          ],
          "name": "stdout"
        },
        {
          "output_type": "stream",
          "text": [
            "\n",
            "\n",
            "\n",
            "\n",
            "\n",
            "\n",
            "\n",
            "\n",
            "\n",
            "\n",
            "\n",
            "Epoch:  12%|█▏        | 6/50 [00:22<02:47,  3.81s/it]"
          ],
          "name": "stderr"
        },
        {
          "output_type": "stream",
          "text": [
            "Accuracy on train data:\t0.8429\n",
            "Batch dev loss: 0.9224472194910049\n",
            "Accuracy on dev data:\t0.6657\n"
          ],
          "name": "stdout"
        },
        {
          "output_type": "stream",
          "text": [
            "\u001b[A\u001b[A\u001b[A\u001b[A\u001b[A\u001b[A\u001b[A\u001b[A\u001b[A\u001b[A\u001b[A"
          ],
          "name": "stderr"
        },
        {
          "output_type": "stream",
          "text": [
            "Processing epoch 7\n"
          ],
          "name": "stdout"
        },
        {
          "output_type": "stream",
          "text": [
            "\n",
            "\n",
            "\n",
            "\n",
            "\n",
            "\n",
            "\n",
            "\n",
            "\n",
            "\n",
            "\n",
            "Epoch:  14%|█▍        | 7/50 [00:26<02:43,  3.81s/it]"
          ],
          "name": "stderr"
        },
        {
          "output_type": "stream",
          "text": [
            "Accuracy on train data:\t0.8635\n",
            "Batch dev loss: 0.9726739674806595\n",
            "Accuracy on dev data:\t0.7003\n"
          ],
          "name": "stdout"
        },
        {
          "output_type": "stream",
          "text": [
            "\u001b[A\u001b[A\u001b[A\u001b[A\u001b[A\u001b[A\u001b[A\u001b[A\u001b[A\u001b[A\u001b[A"
          ],
          "name": "stderr"
        },
        {
          "output_type": "stream",
          "text": [
            "Processing epoch 8\n"
          ],
          "name": "stdout"
        },
        {
          "output_type": "stream",
          "text": [
            "\n",
            "\n",
            "\n",
            "\n",
            "\n",
            "\n",
            "\n",
            "\n",
            "\n",
            "\n",
            "\n",
            "Epoch:  16%|█▌        | 8/50 [00:30<02:40,  3.82s/it]\u001b[A\u001b[A\u001b[A\u001b[A\u001b[A\u001b[A\u001b[A\u001b[A\u001b[A\u001b[A\u001b[A"
          ],
          "name": "stderr"
        },
        {
          "output_type": "stream",
          "text": [
            "Accuracy on train data:\t0.8835\n",
            "Batch dev loss: 1.0351909175515175\n",
            "Accuracy on dev data:\t0.6877\n",
            "Processing epoch 9\n",
            "Accuracy on train data:\t0.9092\n"
          ],
          "name": "stdout"
        },
        {
          "output_type": "stream",
          "text": [
            "\n",
            "\n",
            "\n",
            "\n",
            "\n",
            "\n",
            "\n",
            "\n",
            "\n",
            "\n",
            "\n",
            "Epoch:  18%|█▊        | 9/50 [00:34<02:36,  3.82s/it]\u001b[A\u001b[A\u001b[A\u001b[A\u001b[A\u001b[A\u001b[A\u001b[A\u001b[A\u001b[A\u001b[A"
          ],
          "name": "stderr"
        },
        {
          "output_type": "stream",
          "text": [
            "Batch dev loss: 1.1647212356328964\n",
            "Accuracy on dev data:\t0.6818\n",
            "Processing epoch 10\n"
          ],
          "name": "stdout"
        },
        {
          "output_type": "stream",
          "text": [
            "\n",
            "\n",
            "\n",
            "\n",
            "\n",
            "\n",
            "\n",
            "\n",
            "\n",
            "\n",
            "\n",
            "Epoch:  20%|██        | 10/50 [00:38<02:32,  3.81s/it]\u001b[A\u001b[A\u001b[A\u001b[A\u001b[A\u001b[A\u001b[A\u001b[A\u001b[A\u001b[A\u001b[A"
          ],
          "name": "stderr"
        },
        {
          "output_type": "stream",
          "text": [
            "Accuracy on train data:\t0.9208\n",
            "Batch dev loss: 1.0976117998361588\n",
            "Accuracy on dev data:\t0.6855\n",
            "Processing epoch 11\n"
          ],
          "name": "stdout"
        },
        {
          "output_type": "stream",
          "text": [
            "\n",
            "\n",
            "\n",
            "\n",
            "\n",
            "\n",
            "\n",
            "\n",
            "\n",
            "\n",
            "\n"
          ],
          "name": "stderr"
        },
        {
          "output_type": "stream",
          "text": [
            "Accuracy on train data:\t0.9288\n",
            "Batch dev loss: 1.2302363067865372\n",
            "Accuracy on dev data:\t0.6964\n"
          ],
          "name": "stdout"
        },
        {
          "output_type": "stream",
          "text": [
            "\rEpoch:  22%|██▏       | 11/50 [00:41<02:28,  3.82s/it]\u001b[A\u001b[A\u001b[A\u001b[A\u001b[A\u001b[A\u001b[A\u001b[A\u001b[A\u001b[A\u001b[A"
          ],
          "name": "stderr"
        },
        {
          "output_type": "stream",
          "text": [
            "Processing epoch 12\n",
            "Stopping early...\n",
            "Training complete!\n"
          ],
          "name": "stdout"
        },
        {
          "output_type": "display_data",
          "data": {
            "image/png": "[encoded data removed]",
            "text/plain": [
              "<Figure size 864x432 with 1 Axes>"
            ]
          },
          "metadata": {
            "tags": []
          }
        },
        {
          "output_type": "stream",
          "text": [
            "Training complete!\n"
          ],
          "name": "stdout"
        },
        {
          "output_type": "stream",
          "text": [
            "\n",
            "\n",
            "\n",
            "\n",
            "\n",
            "\n",
            "\n",
            "\n",
            "\n",
            "\n",
            "\n",
            "\n",
            "Epoch:   0%|          | 0/50 [00:00<?, ?it/s]\u001b[A\u001b[A\u001b[A\u001b[A\u001b[A\u001b[A\u001b[A\u001b[A\u001b[A\u001b[A\u001b[A\u001b[A"
          ],
          "name": "stderr"
        },
        {
          "output_type": "stream",
          "text": [
            "Processing epoch 1\n"
          ],
          "name": "stdout"
        },
        {
          "output_type": "stream",
          "text": [
            "\n",
            "\n",
            "\n",
            "\n",
            "\n",
            "\n",
            "\n",
            "\n",
            "\n",
            "\n",
            "\n",
            "\n",
            "Epoch:   2%|▏         | 1/50 [00:03<03:06,  3.81s/it]"
          ],
          "name": "stderr"
        },
        {
          "output_type": "stream",
          "text": [
            "Accuracy on train data:\t0.4293\n",
            "Batch dev loss: 2.2478518933057785\n",
            "Accuracy on dev data:\t0.5309\n"
          ],
          "name": "stdout"
        },
        {
          "output_type": "stream",
          "text": [
            "\u001b[A\u001b[A\u001b[A\u001b[A\u001b[A\u001b[A\u001b[A\u001b[A\u001b[A\u001b[A\u001b[A\u001b[A"
          ],
          "name": "stderr"
        },
        {
          "output_type": "stream",
          "text": [
            "Processing epoch 2\n"
          ],
          "name": "stdout"
        },
        {
          "output_type": "stream",
          "text": [
            "\n",
            "\n",
            "\n",
            "\n",
            "\n",
            "\n",
            "\n",
            "\n",
            "\n",
            "\n",
            "\n",
            "\n",
            "Epoch:   4%|▍         | 2/50 [00:07<03:02,  3.81s/it]\u001b[A\u001b[A\u001b[A\u001b[A\u001b[A\u001b[A\u001b[A\u001b[A\u001b[A\u001b[A\u001b[A\u001b[A"
          ],
          "name": "stderr"
        },
        {
          "output_type": "stream",
          "text": [
            "Accuracy on train data:\t0.4607\n",
            "Batch dev loss: 1.6687604486942291\n",
            "Accuracy on dev data:\t0.5309\n",
            "Processing epoch 3\n"
          ],
          "name": "stdout"
        },
        {
          "output_type": "stream",
          "text": [
            "\n",
            "\n",
            "\n",
            "\n",
            "\n",
            "\n",
            "\n",
            "\n",
            "\n",
            "\n",
            "\n",
            "\n",
            "Epoch:   6%|▌         | 3/50 [00:11<02:58,  3.80s/it]\u001b[A\u001b[A\u001b[A\u001b[A\u001b[A\u001b[A\u001b[A\u001b[A\u001b[A\u001b[A\u001b[A\u001b[A"
          ],
          "name": "stderr"
        },
        {
          "output_type": "stream",
          "text": [
            "Accuracy on train data:\t0.4550\n",
            "Batch dev loss: 1.551565408706665\n",
            "Accuracy on dev data:\t0.3744\n",
            "Processing epoch 4\n"
          ],
          "name": "stdout"
        },
        {
          "output_type": "stream",
          "text": [
            "\n",
            "\n",
            "\n",
            "\n",
            "\n",
            "\n",
            "\n",
            "\n",
            "\n",
            "\n",
            "\n",
            "\n",
            "Epoch:   8%|▊         | 4/50 [00:15<02:54,  3.80s/it]\u001b[A\u001b[A\u001b[A\u001b[A\u001b[A\u001b[A\u001b[A\u001b[A\u001b[A\u001b[A\u001b[A\u001b[A"
          ],
          "name": "stderr"
        },
        {
          "output_type": "stream",
          "text": [
            "Accuracy on train data:\t0.4587\n",
            "Batch dev loss: 1.7858467772603035\n",
            "Accuracy on dev data:\t0.4715\n",
            "Processing epoch 5\n"
          ],
          "name": "stdout"
        },
        {
          "output_type": "stream",
          "text": [
            "\n",
            "\n",
            "\n",
            "\n",
            "\n",
            "\n",
            "\n",
            "\n",
            "\n",
            "\n",
            "\n",
            "\n",
            "Epoch:  10%|█         | 5/50 [00:18<02:50,  3.80s/it]\u001b[A\u001b[A\u001b[A\u001b[A\u001b[A\u001b[A\u001b[A\u001b[A\u001b[A\u001b[A\u001b[A\u001b[A"
          ],
          "name": "stderr"
        },
        {
          "output_type": "stream",
          "text": [
            "Accuracy on train data:\t0.4859\n",
            "Batch dev loss: 1.264754205942154\n",
            "Accuracy on dev data:\t0.5918\n",
            "Processing epoch 6\n"
          ],
          "name": "stdout"
        },
        {
          "output_type": "stream",
          "text": [
            "\n",
            "\n",
            "\n",
            "\n",
            "\n",
            "\n",
            "\n",
            "\n",
            "\n",
            "\n",
            "\n",
            "\n",
            "Epoch:  12%|█▏        | 6/50 [00:22<02:47,  3.80s/it]\u001b[A\u001b[A\u001b[A\u001b[A\u001b[A\u001b[A\u001b[A\u001b[A\u001b[A\u001b[A\u001b[A\u001b[A"
          ],
          "name": "stderr"
        },
        {
          "output_type": "stream",
          "text": [
            "Accuracy on train data:\t0.4941\n",
            "Batch dev loss: 1.9381206631660461\n",
            "Accuracy on dev data:\t0.4040\n",
            "Processing epoch 7\n"
          ],
          "name": "stdout"
        },
        {
          "output_type": "stream",
          "text": [
            "\n",
            "\n",
            "\n",
            "\n",
            "\n",
            "\n",
            "\n",
            "\n",
            "\n",
            "\n",
            "\n",
            "\n",
            "Epoch:  14%|█▍        | 7/50 [00:26<02:43,  3.80s/it]\u001b[A\u001b[A\u001b[A\u001b[A\u001b[A\u001b[A\u001b[A\u001b[A\u001b[A\u001b[A\u001b[A\u001b[A"
          ],
          "name": "stderr"
        },
        {
          "output_type": "stream",
          "text": [
            "Accuracy on train data:\t0.4840\n",
            "Batch dev loss: 1.0816597044467926\n",
            "Accuracy on dev data:\t0.5739\n",
            "Processing epoch 8\n"
          ],
          "name": "stdout"
        },
        {
          "output_type": "stream",
          "text": [
            "\n",
            "\n",
            "\n",
            "\n",
            "\n",
            "\n",
            "\n",
            "\n",
            "\n",
            "\n",
            "\n",
            "\n",
            "Epoch:  16%|█▌        | 8/50 [00:30<02:39,  3.80s/it]\u001b[A\u001b[A\u001b[A\u001b[A\u001b[A\u001b[A\u001b[A\u001b[A\u001b[A\u001b[A\u001b[A\u001b[A"
          ],
          "name": "stderr"
        },
        {
          "output_type": "stream",
          "text": [
            "Accuracy on train data:\t0.5121\n",
            "Batch dev loss: 1.615753412246704\n",
            "Accuracy on dev data:\t0.4223\n",
            "Processing epoch 9\n"
          ],
          "name": "stdout"
        },
        {
          "output_type": "stream",
          "text": [
            "\n",
            "\n",
            "\n",
            "\n",
            "\n",
            "\n",
            "\n",
            "\n",
            "\n",
            "\n",
            "\n",
            "\n",
            "Epoch:  18%|█▊        | 9/50 [00:34<02:36,  3.81s/it]"
          ],
          "name": "stderr"
        },
        {
          "output_type": "stream",
          "text": [
            "Accuracy on train data:\t0.4827\n",
            "Batch dev loss: 2.8956023305654526\n",
            "Accuracy on dev data:\t0.5104\n"
          ],
          "name": "stdout"
        },
        {
          "output_type": "stream",
          "text": [
            "\u001b[A\u001b[A\u001b[A\u001b[A\u001b[A\u001b[A\u001b[A\u001b[A\u001b[A\u001b[A\u001b[A\u001b[A"
          ],
          "name": "stderr"
        },
        {
          "output_type": "stream",
          "text": [
            "Processing epoch 10\n"
          ],
          "name": "stdout"
        },
        {
          "output_type": "stream",
          "text": [
            "\n",
            "\n",
            "\n",
            "\n",
            "\n",
            "\n",
            "\n",
            "\n",
            "\n",
            "\n",
            "\n",
            "\n",
            "Epoch:  20%|██        | 10/50 [00:38<02:32,  3.80s/it]\u001b[A\u001b[A\u001b[A\u001b[A\u001b[A\u001b[A\u001b[A\u001b[A\u001b[A\u001b[A\u001b[A\u001b[A"
          ],
          "name": "stderr"
        },
        {
          "output_type": "stream",
          "text": [
            "Accuracy on train data:\t0.5306\n",
            "Batch dev loss: nan\n",
            "Accuracy on dev data:\t0.5309\n",
            "Processing epoch 11\n"
          ],
          "name": "stdout"
        },
        {
          "output_type": "stream",
          "text": [
            "\n",
            "\n",
            "\n",
            "\n",
            "\n",
            "\n",
            "\n",
            "\n",
            "\n",
            "\n",
            "\n",
            "\n",
            "Epoch:  22%|██▏       | 11/50 [00:41<02:28,  3.80s/it]\u001b[A\u001b[A\u001b[A\u001b[A\u001b[A\u001b[A\u001b[A\u001b[A\u001b[A\u001b[A\u001b[A\u001b[A"
          ],
          "name": "stderr"
        },
        {
          "output_type": "stream",
          "text": [
            "Accuracy on train data:\t0.5334\n",
            "Batch dev loss: nan\n",
            "Accuracy on dev data:\t0.5309\n",
            "Processing epoch 12\n",
            "Stopping early...\n",
            "Training complete!\n"
          ],
          "name": "stdout"
        },
        {
          "output_type": "display_data",
          "data": {
            "image/png": "[encoded data removed]",
            "text/plain": [
              "<Figure size 864x432 with 1 Axes>"
            ]
          },
          "metadata": {
            "tags": []
          }
        },
        {
          "output_type": "stream",
          "text": [
            "Training complete!\n"
          ],
          "name": "stdout"
        },
        {
          "output_type": "stream",
          "text": [
            "/usr/local/lib/python3.6/dist-packages/sklearn/metrics/_classification.py:900: RuntimeWarning: invalid value encountered in double_scalars\n",
            "  mcc = cov_ytyp / np.sqrt(cov_ytyt * cov_ypyp)\n",
            "\n",
            "\n",
            "\n",
            "\n",
            "\n",
            "\n",
            "\n",
            "\n",
            "\n",
            "\n",
            "\n",
            "\n",
            "\n",
            "Epoch:   0%|          | 0/50 [00:00<?, ?it/s]\u001b[A\u001b[A\u001b[A\u001b[A\u001b[A\u001b[A\u001b[A\u001b[A\u001b[A\u001b[A\u001b[A\u001b[A\u001b[A"
          ],
          "name": "stderr"
        },
        {
          "output_type": "stream",
          "text": [
            "Processing epoch 1\n"
          ],
          "name": "stdout"
        },
        {
          "output_type": "stream",
          "text": [
            "\n",
            "\n",
            "\n",
            "\n",
            "\n",
            "\n",
            "\n",
            "\n",
            "\n",
            "\n",
            "\n",
            "\n",
            "\n",
            "Epoch:   2%|▏         | 1/50 [00:03<03:05,  3.79s/it]\u001b[A\u001b[A\u001b[A\u001b[A\u001b[A\u001b[A\u001b[A\u001b[A\u001b[A\u001b[A\u001b[A\u001b[A\u001b[A"
          ],
          "name": "stderr"
        },
        {
          "output_type": "stream",
          "text": [
            "Accuracy on train data:\t0.4350\n",
            "Batch dev loss: 18.9593425989151\n",
            "Accuracy on dev data:\t0.4543\n",
            "Processing epoch 2\n"
          ],
          "name": "stdout"
        },
        {
          "output_type": "stream",
          "text": [
            "\n",
            "\n",
            "\n",
            "\n",
            "\n",
            "\n",
            "\n",
            "\n",
            "\n",
            "\n",
            "\n",
            "\n",
            "\n",
            "Epoch:   4%|▍         | 2/50 [00:07<03:01,  3.79s/it]"
          ],
          "name": "stderr"
        },
        {
          "output_type": "stream",
          "text": [
            "Accuracy on train data:\t0.4940\n",
            "Batch dev loss: nan\n",
            "Accuracy on dev data:\t0.5309\n"
          ],
          "name": "stdout"
        },
        {
          "output_type": "stream",
          "text": [
            "\u001b[A\u001b[A\u001b[A\u001b[A\u001b[A\u001b[A\u001b[A\u001b[A\u001b[A\u001b[A\u001b[A\u001b[A\u001b[A"
          ],
          "name": "stderr"
        },
        {
          "output_type": "stream",
          "text": [
            "Processing epoch 3\n"
          ],
          "name": "stdout"
        },
        {
          "output_type": "stream",
          "text": [
            "\n",
            "\n",
            "\n",
            "\n",
            "\n",
            "\n",
            "\n",
            "\n",
            "\n",
            "\n",
            "\n",
            "\n",
            "\n",
            "Epoch:   6%|▌         | 3/50 [00:11<02:58,  3.79s/it]"
          ],
          "name": "stderr"
        },
        {
          "output_type": "stream",
          "text": [
            "Accuracy on train data:\t0.5334\n",
            "Batch dev loss: nan\n",
            "Accuracy on dev data:\t0.5309\n"
          ],
          "name": "stdout"
        },
        {
          "output_type": "stream",
          "text": [
            "\u001b[A\u001b[A\u001b[A\u001b[A\u001b[A\u001b[A\u001b[A\u001b[A\u001b[A\u001b[A\u001b[A\u001b[A\u001b[A"
          ],
          "name": "stderr"
        },
        {
          "output_type": "stream",
          "text": [
            "Processing epoch 4\n"
          ],
          "name": "stdout"
        },
        {
          "output_type": "stream",
          "text": [
            "\n",
            "\n",
            "\n",
            "\n",
            "\n",
            "\n",
            "\n",
            "\n",
            "\n",
            "\n",
            "\n",
            "\n",
            "\n",
            "Epoch:   8%|▊         | 4/50 [00:15<02:54,  3.80s/it]\u001b[A\u001b[A\u001b[A\u001b[A\u001b[A\u001b[A\u001b[A\u001b[A\u001b[A\u001b[A\u001b[A\u001b[A\u001b[A"
          ],
          "name": "stderr"
        },
        {
          "output_type": "stream",
          "text": [
            "Accuracy on train data:\t0.5334\n",
            "Batch dev loss: nan\n",
            "Accuracy on dev data:\t0.5309\n",
            "Processing epoch 5\n"
          ],
          "name": "stdout"
        },
        {
          "output_type": "stream",
          "text": [
            "\n",
            "\n",
            "\n",
            "\n",
            "\n",
            "\n",
            "\n",
            "\n",
            "\n",
            "\n",
            "\n",
            "\n",
            "\n",
            "Epoch:  10%|█         | 5/50 [00:18<02:50,  3.80s/it]"
          ],
          "name": "stderr"
        },
        {
          "output_type": "stream",
          "text": [
            "Accuracy on train data:\t0.5334\n",
            "Batch dev loss: nan\n",
            "Accuracy on dev data:\t0.5309\n"
          ],
          "name": "stdout"
        },
        {
          "output_type": "stream",
          "text": [
            "\u001b[A\u001b[A\u001b[A\u001b[A\u001b[A\u001b[A\u001b[A\u001b[A\u001b[A\u001b[A\u001b[A\u001b[A\u001b[A"
          ],
          "name": "stderr"
        },
        {
          "output_type": "stream",
          "text": [
            "Processing epoch 6\n"
          ],
          "name": "stdout"
        },
        {
          "output_type": "stream",
          "text": [
            "\n",
            "\n",
            "\n",
            "\n",
            "\n",
            "\n",
            "\n",
            "\n",
            "\n",
            "\n",
            "\n",
            "\n",
            "\n",
            "Epoch:  12%|█▏        | 6/50 [00:22<02:47,  3.80s/it]\u001b[A\u001b[A\u001b[A\u001b[A\u001b[A\u001b[A\u001b[A\u001b[A\u001b[A\u001b[A\u001b[A\u001b[A\u001b[A"
          ],
          "name": "stderr"
        },
        {
          "output_type": "stream",
          "text": [
            "Accuracy on train data:\t0.5334\n",
            "Batch dev loss: nan\n",
            "Accuracy on dev data:\t0.5309\n",
            "Processing epoch 7\n"
          ],
          "name": "stdout"
        },
        {
          "output_type": "stream",
          "text": [
            "\n",
            "\n",
            "\n",
            "\n",
            "\n",
            "\n",
            "\n",
            "\n",
            "\n",
            "\n",
            "\n",
            "\n",
            "\n",
            "Epoch:  14%|█▍        | 7/50 [00:26<02:43,  3.79s/it]\u001b[A\u001b[A\u001b[A\u001b[A\u001b[A\u001b[A\u001b[A\u001b[A\u001b[A\u001b[A\u001b[A\u001b[A\u001b[A"
          ],
          "name": "stderr"
        },
        {
          "output_type": "stream",
          "text": [
            "Accuracy on train data:\t0.5334\n",
            "Batch dev loss: nan\n",
            "Accuracy on dev data:\t0.5309\n",
            "Processing epoch 8\n"
          ],
          "name": "stdout"
        },
        {
          "output_type": "stream",
          "text": [
            "\n",
            "\n",
            "\n",
            "\n",
            "\n",
            "\n",
            "\n",
            "\n",
            "\n",
            "\n",
            "\n",
            "\n",
            "\n",
            "Epoch:  16%|█▌        | 8/50 [00:30<02:39,  3.80s/it]\u001b[A\u001b[A\u001b[A\u001b[A\u001b[A\u001b[A\u001b[A\u001b[A\u001b[A\u001b[A\u001b[A\u001b[A\u001b[A"
          ],
          "name": "stderr"
        },
        {
          "output_type": "stream",
          "text": [
            "Accuracy on train data:\t0.5334\n",
            "Batch dev loss: nan\n",
            "Accuracy on dev data:\t0.5309\n"
          ],
          "name": "stdout"
        },
        {
          "output_type": "stream",
          "text": [
            "\n",
            "\n",
            "\n",
            "\n",
            "\n",
            "\n",
            "\n",
            "\n",
            "\n",
            "\n",
            "\n",
            "\n",
            "\n",
            "Epoch:  18%|█▊        | 9/50 [00:34<02:35,  3.80s/it]\u001b[A\u001b[A\u001b[A\u001b[A\u001b[A\u001b[A\u001b[A\u001b[A\u001b[A\u001b[A\u001b[A\u001b[A\u001b[A"
          ],
          "name": "stderr"
        },
        {
          "output_type": "stream",
          "text": [
            "Processing epoch 9\n",
            "Accuracy on train data:\t0.5334\n",
            "Batch dev loss: nan\n",
            "Accuracy on dev data:\t0.5309\n",
            "Processing epoch 10\n"
          ],
          "name": "stdout"
        },
        {
          "output_type": "stream",
          "text": [
            "\n",
            "\n",
            "\n",
            "\n",
            "\n",
            "\n",
            "\n",
            "\n",
            "\n",
            "\n",
            "\n",
            "\n",
            "\n",
            "Epoch:  20%|██        | 10/50 [00:37<02:31,  3.80s/it]"
          ],
          "name": "stderr"
        },
        {
          "output_type": "stream",
          "text": [
            "Accuracy on train data:\t0.5334\n",
            "Batch dev loss: nan\n",
            "Accuracy on dev data:\t0.5309\n"
          ],
          "name": "stdout"
        },
        {
          "output_type": "stream",
          "text": [
            "\u001b[A\u001b[A\u001b[A\u001b[A\u001b[A\u001b[A\u001b[A\u001b[A\u001b[A\u001b[A\u001b[A\u001b[A\u001b[A"
          ],
          "name": "stderr"
        },
        {
          "output_type": "stream",
          "text": [
            "Processing epoch 11\n"
          ],
          "name": "stdout"
        },
        {
          "output_type": "stream",
          "text": [
            "\n",
            "\n",
            "\n",
            "\n",
            "\n",
            "\n",
            "\n",
            "\n",
            "\n",
            "\n",
            "\n",
            "\n",
            "\n",
            "Epoch:  22%|██▏       | 11/50 [00:41<02:27,  3.79s/it]\u001b[A\u001b[A\u001b[A\u001b[A\u001b[A\u001b[A\u001b[A\u001b[A\u001b[A\u001b[A\u001b[A\u001b[A\u001b[A"
          ],
          "name": "stderr"
        },
        {
          "output_type": "stream",
          "text": [
            "Accuracy on train data:\t0.5334\n",
            "Batch dev loss: nan\n",
            "Accuracy on dev data:\t0.5309\n",
            "Processing epoch 12\n",
            "Stopping early...\n",
            "Training complete!\n"
          ],
          "name": "stdout"
        },
        {
          "output_type": "display_data",
          "data": {
            "image/png": "[encoded data removed]",
            "text/plain": [
              "<Figure size 864x432 with 1 Axes>"
            ]
          },
          "metadata": {
            "tags": []
          }
        },
        {
          "output_type": "stream",
          "text": [
            "Training complete!\n"
          ],
          "name": "stdout"
        }
      ]
    },
    {
      "cell_type": "code",
      "metadata": {
        "id": "1sXxc_ePhghC",
        "colab_type": "code",
        "colab": {
          "base_uri": "https://localhost:8080/",
          "height": 72
        },
        "outputId": "ee3f5241-5f9e-4dcb-a523-56d9795dba84"
      },
      "source": [
        "print(labels[:10])\n",
        "print(ids[:10])"
      ],
      "execution_count": null,
      "outputs": [
        {
          "output_type": "stream",
          "text": [
            "[0, 1, 0, 3, 0, 0, 3, 0, 3, 0]\n",
            "[1059508332560613378, 1108701637957300224, 1107677359652642816, 1107753891452645377, 1058592078425276416, 1106580970629681152, 1115769250197565440, 1116042450991075328, 1063901397085839360, 1116865207761022977]\n"
          ],
          "name": "stdout"
        }
      ]
    },
    {
      "cell_type": "code",
      "metadata": {
        "id": "wIzSkvIwuNcJ",
        "colab_type": "code",
        "colab": {
          "base_uri": "https://localhost:8080/",
          "height": 35
        },
        "outputId": "4d09763a-7930-48e4-b2f1-6edfdd471e9a"
      },
      "source": [
        "max_f1_value"
      ],
      "execution_count": null,
      "outputs": [
        {
          "output_type": "execute_result",
          "data": {
            "text/plain": [
              "0.7190877940746235"
            ]
          },
          "metadata": {
            "tags": []
          },
          "execution_count": 41
        }
      ]
    },
    {
      "cell_type": "code",
      "metadata": {
        "id": "ryY2dTKF5eoP",
        "colab_type": "code",
        "colab": {
          "base_uri": "https://localhost:8080/",
          "height": 797
        },
        "outputId": "e0ba8117-072e-412b-9e39-9b5f2c636f6f"
      },
      "source": [
        "results_dict"
      ],
      "execution_count": null,
      "outputs": [
        {
          "output_type": "execute_result",
          "data": {
            "text/plain": [
              "{0.0001: {'acc': 0.7370517928286853,\n",
              "  'confusion_matrix': array([[218,  40,   0,  10],\n",
              "         [ 40, 144,   0,   1],\n",
              "         [  5,   7,   0,   0],\n",
              "         [ 22,   7,   0,   8]]),\n",
              "  'f1': 0.7190877940746235,\n",
              "  'mcc': 0.5231888648772295,\n",
              "  'precision': 0.7074121377329597,\n",
              "  'recall': 0.7190877940746235},\n",
              " 0.001: {'acc': 0.7071713147410359,\n",
              "  'confusion_matrix': array([[205,  42,   2,  19],\n",
              "         [ 40, 135,   6,   4],\n",
              "         [  4,   6,   2,   0],\n",
              "         [ 19,   4,   1,  13]]),\n",
              "  'f1': 0.7062534507209304,\n",
              "  'mcc': 0.48798330343540364,\n",
              "  'precision': 0.7053766514453179,\n",
              "  'recall': 0.7062534507209304},\n",
              " 0.01: {'acc': 0.6912350597609562,\n",
              "  'confusion_matrix': array([[216,  44,   1,   7],\n",
              "         [ 52, 127,   6,   0],\n",
              "         [  5,   6,   1,   0],\n",
              "         [ 27,   7,   0,   3]]),\n",
              "  'f1': 0.6715110828935189,\n",
              "  'mcc': 0.4360559470903061,\n",
              "  'precision': 0.6638450545643513,\n",
              "  'recall': 0.6715110828935189},\n",
              " 0.1: {'acc': 0.5338645418326693,\n",
              "  'confusion_matrix': array([[268,   0,   0,   0],\n",
              "         [185,   0,   0,   0],\n",
              "         [ 12,   0,   0,   0],\n",
              "         [ 37,   0,   0,   0]]),\n",
              "  'f1': 0.3716251875614426,\n",
              "  'mcc': 0.0,\n",
              "  'precision': 0.2850113490262059,\n",
              "  'recall': 0.3716251875614426},\n",
              " 1: {'acc': 0.5338645418326693,\n",
              "  'confusion_matrix': array([[268,   0,   0,   0],\n",
              "         [185,   0,   0,   0],\n",
              "         [ 12,   0,   0,   0],\n",
              "         [ 37,   0,   0,   0]]),\n",
              "  'f1': 0.3716251875614426,\n",
              "  'mcc': 0.0,\n",
              "  'precision': 0.2850113490262059,\n",
              "  'recall': 0.3716251875614426}}"
            ]
          },
          "metadata": {
            "tags": []
          },
          "execution_count": 42
        }
      ]
    },
    {
      "cell_type": "code",
      "metadata": {
        "id": "V6CCoqR1Gr_8",
        "colab_type": "code",
        "colab": {
          "base_uri": "https://localhost:8080/",
          "height": 724
        },
        "outputId": "ecf69af8-8127-4158-a933-e5ace61c04e3"
      },
      "source": [
        "X_TICK_LABELS = [\"None\", \"Hateful\", \"Counter-speech\", \"Reclaimed\"]\n",
        "Y_TICK_LABELS = [\"None\", \"Hateful\", \"Counter-speech\", \"Reclaimed\"]\n",
        "COLOR = \"Blues\"\n",
        "SAVE_NAME = \"/content/drive/My Drive/Dog_Whistle_Code/Fine_Tuned_Models/Text/LSTM/LSTM_cm_dogwhistle.png\"\n",
        "CM = np.load(\"/content/drive/My Drive/Dog_Whistle_Code/Fine_Tuned_Models/Text/LSTM/LSTM_dogwhistle_test_results.npy\", allow_pickle=True)\n",
        "\n",
        "confusion_matrix_plotter(CM, SAVE_NAME, X_TICK_LABELS, Y_TICK_LABELS, COLOR)"
      ],
      "execution_count": null,
      "outputs": [
        {
          "output_type": "display_data",
          "data": {
            "image/png": "[encoded data removed]",
            "text/plain": [
              "<Figure size 1152x864 with 2 Axes>"
            ]
          },
          "metadata": {
            "tags": []
          }
        }
      ]
    },
    {
      "cell_type": "markdown",
      "metadata": {
        "id": "0s2BMcOqtrje",
        "colab_type": "text"
      },
      "source": [
        "### Investigating how datasize effects performance"
      ]
    },
    {
      "cell_type": "code",
      "metadata": {
        "id": "n-5YmGjuqXNU",
        "colab_type": "code",
        "colab": {
          "base_uri": "https://localhost:8080/",
          "height": 1000
        },
        "outputId": "3c69843f-2cc2-49c1-fd79-90e78ceab1c8"
      },
      "source": [
        "NOMARLIZE_LIST = ['url', 'email', 'percent', 'money', 'phone', 'user', 'time', 'date', 'number']\n",
        "ANNOTATE_LIST = ['hashtag', 'allcaps', 'elongated', 'repeated', 'emphasis', 'censored']\n",
        "\n",
        "\n",
        "f1_scores = {}\n",
        "\n",
        "for i in [3500]: #[2000, 2500, 3000]:\n",
        "\n",
        "    # Load data\n",
        "    train = pd.read_csv(\"/content/drive/My Drive/Dog_Whistle_Code/Data/Train/dog_whistle_train.csv\", encoding='utf-8')\n",
        "    train = train[:i]\n",
        "    dev = pd.read_csv(\"/content/drive/My Drive/Dog_Whistle_Code/Data/Validation/dog_whistle_dev.csv\", encoding='utf-8')\n",
        "    test = pd.read_csv(\"/content/drive/My Drive/Dog_Whistle_Code/Data/Test/dog_whistle_test.csv\", encoding='utf-8')\n",
        "\n",
        "    # Combine Image and Tweet Text\n",
        "    train[\"text\"] = combine_text(train)\n",
        "    dev[\"text\"] = combine_text(dev)\n",
        "    test[\"text\"] = combine_text(test)\n",
        "\n",
        "    # Clean data\n",
        "    train[\"text\"] = clean_text(train[\"text\"], NOMARLIZE_LIST, ANNOTATE_LIST)\n",
        "    dev[\"text\"] = clean_text(dev[\"text\"], NOMARLIZE_LIST, ANNOTATE_LIST)\n",
        "    test[\"text\"] = clean_text(test[\"text\"], NOMARLIZE_LIST, ANNOTATE_LIST)\n",
        "\n",
        "    # Rename label column \n",
        "    train[\"labels\"] = train[\"Unimodal_text_numeric\"]\n",
        "    dev[\"labels\"] = dev[\"Unimodal_text_numeric\"]\n",
        "    test[\"labels\"] = test[\"Primary_numeric_gt\"]\n",
        "\n",
        "    # Subset with necessary data\n",
        "    train_use = train[[\"text\", \"labels\", \"image_number\"]]\n",
        "    dev_use = dev[[\"text\", \"labels\", \"image_number\"]]\n",
        "    test_use = test[[\"text\", \"labels\", \"image_number\"]]\n",
        "\n",
        "    # Define fields\n",
        "    TEXT = Field(sequential=True, tokenize=\"spacy\", include_lengths=True) \n",
        "    LABEL = Field(sequential=False, use_vocab=False)\n",
        "    IDS = Field(sequential=False, use_vocab=False)\n",
        "    fields = [('text', TEXT), ('labels', LABEL), ('image_number', IDS)] \n",
        "\n",
        "    # Create datasets\n",
        "    train_set = Dataset([Example.fromlist(i, fields) for i in train_use.values.tolist()], fields=fields)\n",
        "    dev_set = Dataset([Example.fromlist(i, fields) for i in dev_use.values.tolist()], fields=fields)\n",
        "    test_set = Dataset([Example.fromlist(i, fields) for i in test_use.values.tolist()], fields=fields)\n",
        "\n",
        "    # Get training words and pretrained vectors (training words without vectors are initialized randomly)\n",
        "    TEXT.build_vocab(train_set, vectors='fasttext.simple.300d', unk_init=torch.Tensor.normal_)\n",
        "\n",
        "    INPUT_DIM = len(TEXT.vocab)\n",
        "    PAD_ID = TEXT.vocab.stoi[TEXT.pad_token]\n",
        "    UNK_ID = TEXT.vocab.stoi[TEXT.unk_token]\n",
        "\n",
        "    # Initialize LSTM model\n",
        "    model = LSTMClassifier(train_set, dev_set, test_set, PAD_ID, INPUT_DIM)  \n",
        "\n",
        "    # Load pretrained vector\n",
        "    model.embedding.weight.data.copy_(TEXT.vocab.vectors) \n",
        "\n",
        "    # Manually initialize UNK and PAD tokens as zero vectors (and NOT randomly as would be done otherwise)\n",
        "    model.embedding.weight.data[UNK_ID] = torch.zeros(300)\n",
        "    model.embedding.weight.data[PAD_ID] = torch.zeros(300)\n",
        "\n",
        "    #model test\n",
        "    train_dict = model.trainer(model, 0.0001, {\"patience\": 10, \"delta\": 0.01}, 50) \n",
        "    (results_dict, _, preds), ids = model.test(model)\n",
        "\n",
        "    df = pd.DataFrame([preds, ids]).T\n",
        "    df = df.rename(columns= {0: \"Predictions\", 1: \"image_number\"})\n",
        "\n",
        "    f1_scores[i] = results_dict[\"f1\"]\n",
        "\n",
        "\n",
        "    test = pd.read_csv(\"/content/drive/My Drive/Dog_Whistle_Code/Data/Test/dog_whistle_test.csv\", encoding='utf-8')\n",
        "    test = pd.merge(test, df, on=\"image_number\")\n",
        "\n",
        "\n",
        "    dw_df = test[test[\"Strategies_numeric_gt\"] == 2]\n",
        "    dw_results, _, _ = metrics(dw_df[\"Primary_numeric_gt\"], dw_df[\"Predictions\"])\n",
        "    print(dw_results)\n",
        "\n",
        "    explicit_df = test[test[\"Strategies_numeric_gt\"] == 1]\n",
        "    explicit_results, _, _ = metrics(explicit_df[\"Primary_numeric_gt\"], explicit_df[\"Predictions\"])\n",
        "    print(explicit_results)\n",
        "\n",
        "    none_df = test[test[\"Strategies_numeric_gt\"] == 0]\n",
        "    none_results, _, _ = metrics(none_df[\"Primary_numeric_gt\"], none_df[\"Predictions\"])\n",
        "    print(none_results)\n",
        "\n",
        "\n",
        "print(f1_scores)\n",
        "#np.save(os.path.join(\"/content/drive/My Drive/Dog_Whistle_Code/Fine_Tuned_Models/Text/LSTM/LSTM_datasize_results.npy\"), f1_scores)"
      ],
      "execution_count": null,
      "outputs": [
        {
          "output_type": "stream",
          "text": [
            "Reading twitter - 1grams ...\n",
            "Reading twitter - 2grams ...\n",
            "Reading english - 1grams ...\n",
            "Reading twitter - 1grams ...\n",
            "Reading twitter - 2grams ...\n",
            "Reading english - 1grams ...\n",
            "Reading twitter - 1grams ...\n",
            "Reading twitter - 2grams ...\n",
            "Reading english - 1grams ...\n"
          ],
          "name": "stdout"
        },
        {
          "output_type": "stream",
          "text": [
            "\rEpoch:   0%|          | 0/50 [00:00<?, ?it/s]"
          ],
          "name": "stderr"
        },
        {
          "output_type": "stream",
          "text": [
            "Processing epoch 1\n"
          ],
          "name": "stdout"
        },
        {
          "output_type": "stream",
          "text": [
            "\rEpoch:   2%|▏         | 1/50 [00:01<01:14,  1.52s/it]"
          ],
          "name": "stderr"
        },
        {
          "output_type": "stream",
          "text": [
            "Accuracy on train data:\t0.5312\n",
            "Batch dev loss: 0.9419197589159012\n",
            "Accuracy on dev data:\t0.6044\n",
            "Processing epoch 2\n"
          ],
          "name": "stdout"
        },
        {
          "output_type": "stream",
          "text": [
            "\rEpoch:   4%|▍         | 2/50 [00:02<01:11,  1.50s/it]"
          ],
          "name": "stderr"
        },
        {
          "output_type": "stream",
          "text": [
            "Accuracy on train data:\t0.5951\n",
            "Batch dev loss: 0.8883729353547096\n",
            "Accuracy on dev data:\t0.6239\n",
            "Processing epoch 3\n"
          ],
          "name": "stdout"
        },
        {
          "output_type": "stream",
          "text": [
            "\rEpoch:   6%|▌         | 3/50 [00:04<01:10,  1.49s/it]"
          ],
          "name": "stderr"
        },
        {
          "output_type": "stream",
          "text": [
            "Accuracy on train data:\t0.6523\n",
            "Batch dev loss: 0.7834524065256119\n",
            "Accuracy on dev data:\t0.7163\n",
            "Processing epoch 4\n"
          ],
          "name": "stdout"
        },
        {
          "output_type": "stream",
          "text": [
            "\rEpoch:   8%|▊         | 4/50 [00:05<01:08,  1.48s/it]"
          ],
          "name": "stderr"
        },
        {
          "output_type": "stream",
          "text": [
            "Accuracy on train data:\t0.6836\n",
            "Batch dev loss: 0.7567043676972389\n",
            "Accuracy on dev data:\t0.7037\n",
            "Processing epoch 5\n"
          ],
          "name": "stdout"
        },
        {
          "output_type": "stream",
          "text": [
            "\rEpoch:  10%|█         | 5/50 [00:07<01:06,  1.48s/it]"
          ],
          "name": "stderr"
        },
        {
          "output_type": "stream",
          "text": [
            "Accuracy on train data:\t0.7151\n",
            "Batch dev loss: 0.7270165234804153\n",
            "Accuracy on dev data:\t0.7305\n",
            "Processing epoch 6\n"
          ],
          "name": "stdout"
        },
        {
          "output_type": "stream",
          "text": [
            "\rEpoch:  12%|█▏        | 6/50 [00:08<01:04,  1.47s/it]"
          ],
          "name": "stderr"
        },
        {
          "output_type": "stream",
          "text": [
            "Accuracy on train data:\t0.7372\n",
            "Batch dev loss: 0.7298048585653305\n",
            "Accuracy on dev data:\t0.7154\n",
            "Processing epoch 7\n"
          ],
          "name": "stdout"
        },
        {
          "output_type": "stream",
          "text": [
            "\rEpoch:  14%|█▍        | 7/50 [00:10<01:03,  1.47s/it]"
          ],
          "name": "stderr"
        },
        {
          "output_type": "stream",
          "text": [
            "Accuracy on train data:\t0.7369\n",
            "Batch dev loss: 0.7061617821455002\n",
            "Accuracy on dev data:\t0.7305\n",
            "Processing epoch 8\n"
          ],
          "name": "stdout"
        },
        {
          "output_type": "stream",
          "text": [
            "\rEpoch:  16%|█▌        | 8/50 [00:11<01:01,  1.47s/it]"
          ],
          "name": "stderr"
        },
        {
          "output_type": "stream",
          "text": [
            "Accuracy on train data:\t0.7599\n",
            "Batch dev loss: 0.7209761887788773\n",
            "Accuracy on dev data:\t0.7387\n",
            "Processing epoch 9\n"
          ],
          "name": "stdout"
        },
        {
          "output_type": "stream",
          "text": [
            "\rEpoch:  18%|█▊        | 9/50 [00:13<00:59,  1.46s/it]"
          ],
          "name": "stderr"
        },
        {
          "output_type": "stream",
          "text": [
            "Accuracy on train data:\t0.7722\n",
            "Batch dev loss: 0.739792212843895\n",
            "Accuracy on dev data:\t0.7257\n",
            "Processing epoch 10\n"
          ],
          "name": "stdout"
        },
        {
          "output_type": "stream",
          "text": [
            "\rEpoch:  20%|██        | 10/50 [00:14<00:58,  1.46s/it]"
          ],
          "name": "stderr"
        },
        {
          "output_type": "stream",
          "text": [
            "Accuracy on train data:\t0.7845\n",
            "Batch dev loss: 0.7229087874293327\n",
            "Accuracy on dev data:\t0.7368\n",
            "Processing epoch 11\n"
          ],
          "name": "stdout"
        },
        {
          "output_type": "stream",
          "text": [
            "\rEpoch:  22%|██▏       | 11/50 [00:16<00:56,  1.46s/it]"
          ],
          "name": "stderr"
        },
        {
          "output_type": "stream",
          "text": [
            "Accuracy on train data:\t0.7948\n",
            "Batch dev loss: 0.6934195980429649\n",
            "Accuracy on dev data:\t0.7568\n",
            "Processing epoch 12\n"
          ],
          "name": "stdout"
        },
        {
          "output_type": "stream",
          "text": [
            "\rEpoch:  24%|██▍       | 12/50 [00:17<00:55,  1.46s/it]"
          ],
          "name": "stderr"
        },
        {
          "output_type": "stream",
          "text": [
            "Accuracy on train data:\t0.8136\n",
            "Batch dev loss: 0.6803746521472931\n",
            "Accuracy on dev data:\t0.7524\n",
            "Processing epoch 13\n"
          ],
          "name": "stdout"
        },
        {
          "output_type": "stream",
          "text": [
            "\rEpoch:  26%|██▌       | 13/50 [00:19<00:54,  1.46s/it]"
          ],
          "name": "stderr"
        },
        {
          "output_type": "stream",
          "text": [
            "Accuracy on train data:\t0.8251\n",
            "Batch dev loss: 0.7208217680454254\n",
            "Accuracy on dev data:\t0.7398\n",
            "Processing epoch 14\n",
            "Stopping early...\n",
            "Training complete!\n"
          ],
          "name": "stdout"
        },
        {
          "output_type": "display_data",
          "data": {
            "image/png": "[encoded data removed]",
            "text/plain": [
              "<Figure size 864x432 with 1 Axes>"
            ]
          },
          "metadata": {
            "tags": []
          }
        },
        {
          "output_type": "stream",
          "text": [
            "Training complete!\n",
            "{'mcc': 0.0, 'acc': 0.8571428571428571, 'confusion_matrix': array([[  0,   0],\n",
            "       [ 17, 102]]), 'precision': 1.0, 'recall': 0.923076923076923, 'f1': 0.923076923076923}\n",
            "{'mcc': 0.0, 'acc': 0.7878787878787878, 'confusion_matrix': array([[ 0,  0],\n",
            "       [14, 52]]), 'precision': 1.0, 'recall': 0.8813559322033898, 'f1': 0.8813559322033898}\n",
            "{'mcc': 0.06830955848266018, 'acc': 0.6782334384858044, 'confusion_matrix': array([[214,  52,   0,   2],\n",
            "       [  0,   0,   0,   0],\n",
            "       [  4,   8,   0,   0],\n",
            "       [ 28,   8,   0,   1]]), 'precision': 0.7743581852222308, 'recall': 0.7098092525991482, 'f1': 0.7098092525991482}\n",
            "{3500: 0.7018248108483498}\n"
          ],
          "name": "stdout"
        },
        {
          "output_type": "stream",
          "text": [
            "/usr/local/lib/python3.6/dist-packages/sklearn/metrics/_classification.py:1272: UndefinedMetricWarning: Precision is ill-defined and being set to 0.0 in labels with no predicted samples. Use `zero_division` parameter to control this behavior.\n",
            "  _warn_prf(average, modifier, msg_start, len(result))\n",
            "/usr/local/lib/python3.6/dist-packages/sklearn/metrics/_classification.py:900: RuntimeWarning: invalid value encountered in double_scalars\n",
            "  mcc = cov_ytyp / np.sqrt(cov_ytyt * cov_ypyp)\n"
          ],
          "name": "stderr"
        }
      ]
    }
  ]
}