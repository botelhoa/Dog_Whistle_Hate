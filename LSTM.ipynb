{
  "nbformat": 4,
  "nbformat_minor": 0,
  "metadata": {
    "colab": {
      "name": "LSTM.ipynb",
      "provenance": [],
      "collapsed_sections": [
        "eFyMYcr6aKZU"
      ],
      "mount_file_id": "16nsObF6tLVpLqC_d--F7MaQpfBSF5-EW",
      "authorship_tag": "ABX9TyPEcW/VsJ4tjCoZus6wQe2C"
    },
    "kernelspec": {
      "name": "python3",
      "display_name": "Python 3"
    },
    "accelerator": "GPU"
  },
  "cells": [
    {
      "cell_type": "code",
      "metadata": {
        "id": "tvCdgJ46kFNX",
        "colab_type": "code",
        "colab": {}
      },
      "source": [
        "pip install torchtext==0.5.0"
      ],
      "execution_count": null,
      "outputs": []
    },
    {
      "cell_type": "code",
      "metadata": {
        "id": "FrXSHn-HvntM",
        "colab_type": "code",
        "colab": {}
      },
      "source": [
        "pip install torchtext"
      ],
      "execution_count": null,
      "outputs": []
    },
    {
      "cell_type": "code",
      "metadata": {
        "id": "HTv62IihkHkC",
        "colab_type": "code",
        "colab": {
          "base_uri": "https://localhost:8080/",
          "height": 191
        },
        "outputId": "68a037b0-3fd7-4d28-f352-8bb78f5c5b65"
      },
      "source": [
        "pip show torchtext"
      ],
      "execution_count": null,
      "outputs": [
        {
          "output_type": "stream",
          "text": [
            "Name: torchtext\n",
            "Version: 0.5.0\n",
            "Summary: Text utilities and datasets for PyTorch\n",
            "Home-page: https://github.com/pytorch/text\n",
            "Author: PyTorch core devs and James Bradbury\n",
            "Author-email: jekbradbury@gmail.com\n",
            "License: BSD\n",
            "Location: /usr/local/lib/python3.6/dist-packages\n",
            "Requires: six, torch, tqdm, numpy, sentencepiece, requests\n",
            "Required-by: \n"
          ],
          "name": "stdout"
        }
      ]
    },
    {
      "cell_type": "code",
      "metadata": {
        "id": "MGfiA7slVDDX",
        "colab_type": "code",
        "colab": {}
      },
      "source": [
        "pip install ekphrasis"
      ],
      "execution_count": null,
      "outputs": []
    },
    {
      "cell_type": "code",
      "metadata": {
        "id": "TKOjnoUdkJ1-",
        "colab_type": "code",
        "colab": {}
      },
      "source": [
        "import pandas as pd\n",
        "import os\n",
        "import numpy as np\n",
        "import torch\n",
        "\n",
        "from torch import nn, optim\n",
        "from torchtext.data import Field, Dataset, Example, BucketIterator, Iterator, TabularDataset\n",
        "from tqdm import tqdm, trange"
      ],
      "execution_count": null,
      "outputs": []
    },
    {
      "cell_type": "markdown",
      "metadata": {
        "id": "eFyMYcr6aKZU",
        "colab_type": "text"
      },
      "source": [
        "### The two cells below are for manually importing the helper functions"
      ]
    },
    {
      "cell_type": "code",
      "metadata": {
        "id": "O22WYch7atEt",
        "colab_type": "code",
        "colab": {
          "base_uri": "https://localhost:8080/",
          "height": 72
        },
        "outputId": "e8100f70-50f4-43a3-ab6b-fd713d51a3ac"
      },
      "source": [
        "import matplotlib.pyplot as plt\n",
        "% matplotlib inline\n",
        "import seaborn as sns\n",
        "import pandas as pd\n",
        "import numpy as np\n",
        "import tensorflow as tf\n",
        "import shutil \n",
        "import os\n",
        "\n",
        "from sklearn.metrics import matthews_corrcoef, confusion_matrix, precision_score, recall_score, f1_score, accuracy_score\n",
        "from sklearn.utils import shuffle\n",
        "from sklearn.model_selection import train_test_split\n",
        "from ekphrasis.classes.preprocessor import TextPreProcessor\n",
        "from ekphrasis.classes.tokenizer import SocialTokenizer\n",
        "from ekphrasis.dicts.emoticons import emoticons\n",
        "from tensorflow import keras\n"
      ],
      "execution_count": null,
      "outputs": [
        {
          "output_type": "stream",
          "text": [
            "/usr/local/lib/python3.6/dist-packages/statsmodels/tools/_testing.py:19: FutureWarning: pandas.util.testing is deprecated. Use the functions in the public API at pandas.testing instead.\n",
            "  import pandas.util.testing as tm\n"
          ],
          "name": "stderr"
        }
      ]
    },
    {
      "cell_type": "code",
      "metadata": {
        "id": "eRWhJJDHY2Cf",
        "colab_type": "code",
        "colab": {}
      },
      "source": [
        "def clean_text(data, normalize_list, annotate_list):\n",
        "        \"\"\"\n",
        "        This function preprocesses the text using the Ekphrasis library\n",
        "        \n",
        "        data: Pandas series object containing strings of text\n",
        "\n",
        "        normalize_list: list of data features to clean\n",
        "\n",
        "        annotate_list: list of data features to annotate\n",
        "        \"\"\"\n",
        "\n",
        "        text_processor = TextPreProcessor(\n",
        "            normalize= normalize_list,\n",
        "            annotate= annotate_list,\n",
        "            fix_html=True,\n",
        "            segmenter=\"twitter\", \n",
        "            unpack_hashtags=True,  \n",
        "            unpack_contractions=True,  \n",
        "            spell_correct_elong=True,  \n",
        "            tokenizer=SocialTokenizer(lowercase=True).tokenize,\n",
        "            dicts=[emoticons]\n",
        "        )\n",
        "\n",
        "        clean_data = data.map(lambda x: \" \".join(text_processor.pre_process_doc(x)))\n",
        "\n",
        "        return clean_data\n",
        "\n",
        "\n",
        "def early_stopping(val_loss_values, early_stop_vals):\n",
        "    \"\"\"\n",
        "    Determines whether or not the model will keep running based on the patience and delta given relative to the val loss\n",
        "    \"\"\"\n",
        "    if len(val_loss_values) > early_stop_vals[\"patience\"]:\n",
        "      if val_loss_values[-1] <= np.mean(np.array(val_loss_values[-1-early_stop_vals[\"patience\"]:-1])) - early_stop_vals[\"delta\"]:\n",
        "        return False\n",
        "      else:\n",
        "        return True\n",
        "    else:\n",
        "      return False\n",
        "\n",
        "\n",
        "def training_plot(train_loss_values, val_loss_values):\n",
        "    \"\"\"\n",
        "    Plots loss after each epoch\n",
        "\n",
        "    training_loss_values: list of floats; output from fine_tune function\n",
        "\n",
        "    val_loss_values: list of floats; output from fine_tune function\n",
        "    \"\"\"\n",
        "    sns.set(style='darkgrid')\n",
        "    plt.rcParams[\"figure.figsize\"] = (12,6)\n",
        "\n",
        "    plt.plot(train_loss_values, 'b-o', label=\"train\")\n",
        "    plt.plot(val_loss_values, 'g-o', label=\"valid\")\n",
        "\n",
        "    #plt.title(\"Training and Validation loss\")\n",
        "    plt.xlabel(\"Epoch\")\n",
        "    plt.ylabel(\"Loss\")\n",
        "    plt.legend()\n",
        "\n",
        "    #plt.savefig(\"dogwhistle_train_plot.png\",bbox_inches='tight')\n",
        "\n",
        "    return plt.show()\n",
        "\n",
        "\n",
        "def metrics(labels, preds, argmax_needed: bool = False):\n",
        "    \"\"\"\n",
        "    Returns the Matthew's correlation coefficient, accuracy rate, true positive rate, true negative rate, false positive rate, false negative rate, precission, recall, and f1 score\n",
        "    \n",
        "    labels: list of correct labels\n",
        "\n",
        "    pred: list of model predictions\n",
        "    \"\"\"\n",
        "    labels = labels\n",
        "    preds = preds\n",
        "\n",
        "    if argmax_needed == True:\n",
        "        preds = np.argmax(preds, axis=1).flatten()\n",
        "\n",
        "    mcc = matthews_corrcoef(labels, preds)\n",
        "    acc = accuracy_score(labels, preds)\n",
        "    cm = confusion_matrix(labels, preds)\n",
        "\n",
        "    f1 = f1_score(labels, preds, average= \"weighted\")\n",
        "    precision = precision_score(labels, preds, average= \"weighted\")\n",
        "    recall = f1_score(labels, preds, average= \"weighted\")\n",
        "\n",
        "    results = {\n",
        "        \"mcc\": mcc,\n",
        "        \"acc\": acc,\n",
        "        \"confusion_matrix\": cm,\n",
        "        \"precision\": precision,\n",
        "        \"recall\": recall,\n",
        "        \"f1\": f1,\n",
        "    }\n",
        "    \n",
        "    return results, labels, preds\n",
        "\n",
        "\n",
        "def model_saver(model, model_type, output_directory, training_dict, labels, preds, results, tokenizer= None):\n",
        "    \"\"\"\n",
        "    Saves PyTorch Model and other outputs\n",
        "\n",
        "    model: Model to be saved\n",
        "    \n",
        "    model_type (string): Name of model\n",
        "    \n",
        "    output_directory: Directory to folder to save file in\n",
        "\n",
        "    training_dict: Dictionary of training and validation values \n",
        "\n",
        "    labels: List of labels for test set\n",
        "\n",
        "    preds: List of model predictions after passed through argmax()\n",
        "\n",
        "    results: Dictionary of metrics\n",
        "\n",
        "    tokenizer: Tokenizer to be saved. Defaulted to None.\n",
        "    \"\"\"\n",
        "\n",
        "    output_directory = os.path.join(output_directory, model_type)\n",
        "    \n",
        "    if not os.path.exists(output_directory):\n",
        "        os.makedirs(output_directory)\n",
        "\n",
        "    os.chdir(output_directory)\n",
        "\n",
        "    np.save(model_type+\"_dogwhistle_train_results.npy\", training_dict) #save training dict\n",
        "    np.save(model_type+\"_dogwhistle_test_results.npy\", results) #save test metrics\n",
        "    \n",
        "    test_predictions = pd.DataFrame([labels, preds]) #save predictions and labels \n",
        "    test_predictions = test_predictions.T\n",
        "    test_predictions = test_predictions.rename(columns={0: 'Labels', 1: 'Predictions'})\n",
        "    test_predictions.to_csv(model_type+\"_dogwhistle_predictions.csv\")\n",
        "\n",
        "    #save models\n",
        "    torch.save(model.state_dict(), model_type+\"_model\")\n",
        "\n",
        "    return print(\"Saving complete.\")\n",
        "\n",
        "\n",
        "\n",
        "def confusion_matrix_plotter(results, save_name, x_tick_labels, y_tick_labels, color):\n",
        "    \"\"\"\n",
        "    Plots confusion matrix\n",
        "\n",
        "    results: dictionary item containing key of confusion matrix (output of sklearn confusion_matrix())\n",
        "\n",
        "    x_tick_labels: list of tick labels on x axis\n",
        "\n",
        "    y_tick_labels: list of tick labels on y axis\n",
        "\n",
        "    save_name: name of image to be produced with .png\n",
        "\n",
        "    color: color selection from matplotlib cmap choices: https://matplotlib.org/3.1.0/tutorials/colors/colormaps.html\n",
        "    \"\"\"\n",
        "\n",
        "    df_cm = pd.DataFrame(results.ravel()[0][\"confusion_matrix\"])\n",
        "\n",
        "    fig = plt.figure(figsize=(16, 12))\n",
        "    \n",
        "    plt.rc('axes', labelsize=14)  \n",
        "    plt.rc('xtick', labelsize=12)   \n",
        "    plt.rc('ytick', labelsize=12)       \n",
        "\n",
        "    #plt.subplot(2, 2, 1)\n",
        "    g1 = sns.heatmap(df_cm, annot=True, fmt='g', cmap=color)\n",
        "    g1.set_xlabel('Predicted Label')\n",
        "    g1.set_ylabel('True Label', rotation=0) \n",
        "    g1.xaxis.set_ticklabels(x_tick_labels, rotation=0) \n",
        "    g1.yaxis.set_ticklabels(y_tick_labels, rotation=0) \n",
        "\n",
        "    plt.show()\n",
        "\n",
        "    return fig.savefig(save_name,bbox_inches='tight')\n",
        "\n",
        "\n",
        "def combine_text(df):\n",
        "    \"\"\"\n",
        "    Combines tweet and image text into one column\n",
        "\n",
        "    df: Dataframe which holds the data\n",
        "    \"\"\"\n",
        "    combined_text = []\n",
        "\n",
        "    for row_num in range(len(df)):\n",
        "        tweet_text = df.loc[row_num, \"tweet_text\"]\n",
        "        image_text = df.loc[row_num, \"img_text\"]\n",
        "        if type(image_text) == str:\n",
        "            combined_text.append(tweet_text + image_text)\n",
        "        else:\n",
        "            combined_text.append(tweet_text)\n",
        "\n",
        "    return combined_text\n"
      ],
      "execution_count": null,
      "outputs": []
    },
    {
      "cell_type": "markdown",
      "metadata": {
        "id": "jYYZk02HCtTH",
        "colab_type": "text"
      },
      "source": [
        "### Prepare Data"
      ]
    },
    {
      "cell_type": "code",
      "metadata": {
        "id": "JfISmDRMCsjK",
        "colab_type": "code",
        "colab": {
          "base_uri": "https://localhost:8080/",
          "height": 381
        },
        "outputId": "625976e9-c8b2-4699-e291-8cb752e070da"
      },
      "source": [
        "NORMALIZE_LIST = ['url', 'email', 'percent', 'money', 'phone', 'user', 'time', 'date', 'number']\n",
        "ANNOTATE_LIST = ['hashtag', 'allcaps', 'elongated', 'repeated', 'emphasis', 'censored']\n",
        "\n",
        "\n",
        "# Load data\n",
        "train = pd.read_csv(\"/content/drive/My Drive/Dog_Whistle_Code/Data/Train/dog_whistle_train.csv\", encoding='utf-8')\n",
        "dev = pd.read_csv(\"/content/drive/My Drive/Dog_Whistle_Code/Data/Validation/dog_whistle_dev.csv\", encoding='utf-8')\n",
        "test = pd.read_csv(\"/content/drive/My Drive/Dog_Whistle_Code/Data/Test/dog_whistle_test.csv\", encoding='utf-8')\n",
        "\n",
        "# Combine Image and Tweet Text\n",
        "train[\"text\"] = combine_text(train)\n",
        "dev[\"text\"] = combine_text(dev)\n",
        "test[\"text\"] = combine_text(test)\n",
        "\n",
        "# Clean data\n",
        "train[\"text\"] = clean_text(train[\"text\"], NORMALIZE_LIST, ANNOTATE_LIST)\n",
        "dev[\"text\"] = clean_text(dev[\"text\"], NORMALIZE_LIST, ANNOTATE_LIST)\n",
        "test[\"text\"] = clean_text(test[\"text\"], NORMALIZE_LIST, ANNOTATE_LIST)\n",
        "\n",
        "# Rename label column \n",
        "train[\"labels\"] = train[\"Unimodal_text_numeric\"]\n",
        "dev[\"labels\"] = dev[\"Unimodal_text_numeric\"]\n",
        "test[\"labels\"] = test[\"Primary_numeric_gt\"]\n",
        "\n",
        "# Subset with necessary data\n",
        "train_use = train[[\"text\", \"labels\", \"image_number\"]]\n",
        "dev_use = dev[[\"text\", \"labels\", \"image_number\"]]\n",
        "test_use = test[[\"text\", \"labels\", \"image_number\"]]\n",
        "\n",
        "# Define fields\n",
        "TEXT = Field(sequential=True, tokenize=\"spacy\", include_lengths=True) \n",
        "LABEL = Field(sequential=False, use_vocab=False)\n",
        "IDS = Field(sequential=False, use_vocab=False)\n",
        "fields = [('text', TEXT), ('labels', LABEL), ('image_number', IDS)] \n",
        "\n",
        "# Create datasets\n",
        "train_set = Dataset([Example.fromlist(i, fields) for i in train_use.values.tolist()], fields=fields)\n",
        "dev_set = Dataset([Example.fromlist(i, fields) for i in dev_use.values.tolist()], fields=fields)\n",
        "test_set = Dataset([Example.fromlist(i, fields) for i in test_use.values.tolist()], fields=fields)\n",
        "\n",
        "# Get training words and pretrained vectors (training words without vectors are initialized randomly)\n",
        "TEXT.build_vocab(train_set, vectors='fasttext.simple.300d', unk_init=torch.Tensor.normal_)"
      ],
      "execution_count": null,
      "outputs": [
        {
          "output_type": "stream",
          "text": [
            "Word statistics files not found!\n",
            "Downloading... done!\n",
            "Unpacking... done!\n",
            "Reading twitter - 1grams ...\n",
            "generating cache file for faster loading...\n",
            "reading ngrams /root/.ekphrasis/stats/twitter/counts_1grams.txt\n",
            "Reading twitter - 2grams ...\n",
            "generating cache file for faster loading...\n",
            "reading ngrams /root/.ekphrasis/stats/twitter/counts_2grams.txt\n",
            "Reading english - 1grams ...\n",
            "generating cache file for faster loading...\n",
            "reading ngrams /root/.ekphrasis/stats/english/counts_1grams.txt\n",
            "Reading twitter - 1grams ...\n",
            "Reading twitter - 2grams ...\n",
            "Reading english - 1grams ...\n",
            "Reading twitter - 1grams ...\n",
            "Reading twitter - 2grams ...\n",
            "Reading english - 1grams ...\n"
          ],
          "name": "stdout"
        },
        {
          "output_type": "stream",
          "text": [
            ".vector_cache/wiki.simple.vec: 293MB [00:26, 11.0MB/s]                           \n",
            "  0%|          | 0/111051 [00:00<?, ?it/s]Skipping token b'111051' with 1-dimensional vector [b'300']; likely a header\n",
            " 99%|█████████▉| 110305/111051 [00:10<00:00, 10905.76it/s]"
          ],
          "name": "stderr"
        }
      ]
    },
    {
      "cell_type": "markdown",
      "metadata": {
        "id": "P-23FiNmCve1",
        "colab_type": "text"
      },
      "source": [
        "## Model Setup"
      ]
    },
    {
      "cell_type": "code",
      "metadata": {
        "id": "_k9eL9r3kRxE",
        "colab_type": "code",
        "colab": {}
      },
      "source": [
        "class LSTMClassifier(nn.Module):\n",
        "    def __init__(self, train, dev, test, pad_id, input_dim: int, embedding_dim: int=300, hidden_dim: int=256, output_dim: int=4, n_layers: int=2, dropout: float=0.2, bidirectional: bool=True, batch_size: int=64):\n",
        "        \"\"\"\n",
        "        train: dataset object of training data\n",
        "\n",
        "        dev: dataset object of dev data\n",
        "\n",
        "        test: dataset object of test data\n",
        "        \n",
        "        pad_id: pads output with embedding vector\n",
        "        \n",
        "        input_dim (int): length of text\n",
        "        \n",
        "        embedding_dim (int): number of embedding dimensions defaulted to 300\n",
        "        \n",
        "        hidden_dim (int): number of hidden nodes defaulted to 256\n",
        "        \n",
        "        output_dim (int): number of labels in classification task defaulted to 2\n",
        "        \n",
        "        n_layers (int): number of recurrent layers defaulted to 2\n",
        "        \n",
        "        dropout (float): percent on nodes turned off during training defaulted to 0.2\n",
        "\n",
        "        bidirectional (boolean): whether bidirectional layers will be added, defaulted to True\n",
        "\n",
        "        batch_size (int): size of mini batches\n",
        "        \"\"\"\n",
        "        \n",
        "        super(LSTMClassifier, self).__init__()\n",
        "        self.device = torch.device('cuda' if torch.cuda.is_available() else 'cpu')\n",
        "        self.train_iter, self.dev_iter, self.test_iter = BucketIterator.splits((train, dev, test), \n",
        "                                                                                batch_size=batch_size, \n",
        "                                                                                device=self.device, \n",
        "                                                                                sort_key=lambda x: len(x.text), \n",
        "                                                                                sort_within_batch=True\n",
        "                                                                                )\n",
        "\n",
        "        self.output_dim = output_dim\n",
        "        self.embedding = nn.Embedding(input_dim, embedding_dim, padding_idx=pad_id)\n",
        "        self.lstm = nn.LSTM(embedding_dim, hidden_dim, num_layers=n_layers, bidirectional=bidirectional, dropout=dropout, batch_first=True)\n",
        "        self.fc = nn.Linear(hidden_dim * 2, output_dim)\n",
        "        self.sig = nn.Sigmoid()\n",
        "\n",
        "\n",
        "    def forward(self, text, lengths):\n",
        "        \"\"\"\n",
        "        This function sets up the model's foward pass\n",
        "\n",
        "        Initiates forward pass of data\n",
        "        \n",
        "        text: vector representation of text string\n",
        "        \n",
        "        lengths: second element in bucket iterator\n",
        "        \"\"\"\n",
        "\n",
        "        embedded = self.embedding(text)\n",
        "        packed_embedded = nn.utils.rnn.pack_padded_sequence(embedded, lengths) #,batch_first=True)\n",
        "        packed_output, (hidden, cell) = self.lstm(packed_embedded)\n",
        "        hidden = torch.cat((hidden[-2,:,:], hidden[-1,:,:]), dim = 1)\n",
        "        outputs=self.fc(hidden)\n",
        "        \n",
        "        return outputs\n",
        "      \n",
        "    \n",
        "    def trainer(self, model, learning_rate: float, early_stop_vals, epochs: int=50):\n",
        "        \"\"\"\n",
        "        This function trains the model\n",
        "\n",
        "        model: Instantiation of model\n",
        "\n",
        "        learning_rate (float): determines steps size while minimizing loss function\n",
        "        \n",
        "        early_stop_vals: Dictionary containing patience level and minimum improvement delta\n",
        "        \n",
        "        epochs (int): Number of training epochs defaulted to 50\n",
        "        \"\"\"\n",
        "\n",
        "        optimizer = optim.AdamW(model.parameters(), lr=learning_rate)\n",
        "        model = model.to(self.device)\n",
        "        \n",
        "        train_scores, train_losses, val_scores, val_losses, = [], [], [], []\n",
        "        \n",
        "        for epoch in trange(epochs, desc= \"Epoch\"):\n",
        "            print(\"Processing epoch {}\".format(epoch+1))\n",
        "            if early_stopping(val_losses, early_stop_vals) == False:\n",
        "\n",
        "                model.train()\n",
        "\n",
        "                train_acc = 0\n",
        "                batch_train_losses = []\n",
        "\n",
        "                for step, batch in enumerate(self.train_iter): # Loop over mini-batches\n",
        "\n",
        "                    optimizer.zero_grad()\n",
        "\n",
        "                    text, lengths = batch.text\n",
        "\n",
        "                    if self.output_dim ==  1:\n",
        "                        predictions = model(text, lengths).squeeze()\n",
        "                        criterion = nn.BCELogits().to(self.device)\n",
        "                        loss = criterion(predictions, batch.labels.to(self.device, dtype=torch.float)) \n",
        "                        loss.backward() # Backpropagate loss\n",
        "                        optimizer.step() # Update weights\n",
        "                        train_acc += self.binary_accuracy(predictions, batch.labels).item()\n",
        "                        batch_train_losses.append(loss.tolist())\n",
        "                    else:\n",
        "                        predictions = model(text, lengths)\n",
        "                        criterion = nn.CrossEntropyLoss().to(self.device)\n",
        "                        loss = criterion(predictions, batch.labels) \n",
        "                        loss.backward() # Backpropagate loss\n",
        "                        optimizer.step() # Update weights\n",
        "                        train_acc += self.batch_accuracy(predictions, batch.labels).item() \n",
        "                        batch_train_losses.append(loss.tolist())\n",
        "\n",
        "\n",
        "                batch_loss = sum(batch_train_losses)/len(batch_train_losses)\n",
        "                train_losses.append(batch_loss)\n",
        "                train_acc /= len(self.train_iter)\n",
        "                train_scores.append(train_acc)\n",
        "                print('Accuracy on train data:\\t{:.4f}'.format(train_acc))\n",
        "                model.eval() # Compute accuracy on validation data\n",
        "\n",
        "                val_acc = 0\n",
        "                batch_val_losses = []\n",
        "\n",
        "                with torch.no_grad():\n",
        "\n",
        "                    for batch in self.dev_iter:\n",
        "\n",
        "                        text, lengths = batch.text\n",
        "\n",
        "                        if self.output_dim ==  1:\n",
        "                            preds = model(text, lengths).squeeze()\n",
        "                            criterion = nn.BCELogits().to(self.device)\n",
        "                            loss = criterion(preds, batch.labels.to(self.device, dtype=torch.float)) \n",
        "                            batch_val_losses.append(loss.tolist())\n",
        "                            val_acc += self.binary_accuracy(preds, batch.label).item()\n",
        "                        else:\n",
        "                            preds = model(text, lengths)\n",
        "                            criterion = nn.CrossEntropyLoss().to(self.device)\n",
        "                            loss = criterion(preds, batch.labels) \n",
        "                            batch_val_losses.append(loss.tolist())\n",
        "                            val_acc += self.batch_accuracy(preds, batch.labels).item()\n",
        "                        \n",
        "\n",
        "                batch_loss = sum(batch_val_losses)/len(batch_val_losses)\n",
        "                print(\"Batch dev loss: {}\".format(batch_loss))\n",
        "                val_losses.append(batch_loss)\n",
        "                val_acc /= len(self.dev_iter)\n",
        "                val_scores.append(val_acc)\n",
        "\n",
        "                print('Accuracy on dev data:\\t{:.4f}'.format(val_acc))\n",
        "                \n",
        "                if epoch == (epochs-1):\n",
        "                    training_plot(train_losses, val_losses)\n",
        "                    training_dict = {\"Train Accuracy\": train_scores, \"Train Loss\": train_losses, \"Val Accuracy\": val_scores, \"Val Loss\": val_losses}\n",
        "                    print(\"Training complete!\")\n",
        "                    return training_dict\n",
        "                else:\n",
        "                    continue\n",
        "                \n",
        "            else:\n",
        "                print(\"Stopping early...\")\n",
        "                print(\"Training complete!\")\n",
        "                training_plot(train_losses, val_losses)\n",
        "                training_dict = {\"Train Accuracy\": train_scores, \"Train Loss\": train_losses, \"Val Accuracy\": val_scores, \"Val Loss\": val_losses}\n",
        "                print(\"Training complete!\")\n",
        "                return training_dict\n",
        "\n",
        "\n",
        "    def test(self, model):\n",
        "        \"\"\"\n",
        "        This function performs a forward pass on the test data and computes the performance metrics\n",
        "\n",
        "        model: instantiation of model\n",
        "        \"\"\"\n",
        "        \n",
        "        model = model.to(self.device)\n",
        "        model.eval()\n",
        "\n",
        "        labels = list()\n",
        "        preds = list()\n",
        "        ids = list()\n",
        "\n",
        "        with torch.no_grad():\n",
        "\n",
        "            for batch in self.test_iter:\n",
        "\n",
        "                text, lengths = batch.text\n",
        "                output = model(text, lengths)\n",
        "\n",
        "                preds.extend([p.item() for p in output.argmax(dim=1, keepdim=True)])\n",
        "                labels.extend([l.item() for l in batch.labels])\n",
        "                ids.extend([i.item() for i in batch.image_number])\n",
        "        \n",
        "        return metrics(labels, preds), ids\n",
        "\n",
        "\n",
        "    def batch_accuracy(self, predictions, labels):\n",
        "        \"\"\"\n",
        "        Calculates mean batch accuracy for multiclass data\n",
        "        \n",
        "        predictions: model output after forward pass\n",
        "        \n",
        "        labels: list of one-hot encoded labels\n",
        "        \"\"\"\n",
        "        \n",
        "        max_predictions = predictions.argmax(dim=1, keepdim=True)\n",
        "        correct = max_predictions.squeeze(1).eq(labels)\n",
        "        \n",
        "        return correct.sum() / torch.FloatTensor([labels.shape[0]])\n",
        "\n",
        "\n",
        "    def binary_accuracy(self, predictions, labels):\n",
        "        \"\"\"\n",
        "        Calculates mean batch accuracy for binary data\n",
        "\n",
        "        predictions: model output after forward pass\n",
        "          \n",
        "        labels: list of one-hot encoded labels\n",
        "        \"\"\"\n",
        "        rounded_preds = torch.round(self.sig(predictions))\n",
        "        \n",
        "        correct = (rounded_preds == labels).float() \n",
        "        acc = correct.sum() / len(correct)\n",
        "        \n",
        "        return acc\n",
        "      "
      ],
      "execution_count": null,
      "outputs": []
    },
    {
      "cell_type": "markdown",
      "metadata": {
        "id": "iPCHZ6vRC0dN",
        "colab_type": "text"
      },
      "source": [
        "### Run Model"
      ]
    },
    {
      "cell_type": "code",
      "metadata": {
        "id": "WBkt1L2poGUn",
        "colab_type": "code",
        "colab": {}
      },
      "source": [
        "#define hyperparameters\n",
        "INPUT_DIM = len(TEXT.vocab)\n",
        "PAD_ID = TEXT.vocab.stoi[TEXT.pad_token]\n",
        "UNK_ID = TEXT.vocab.stoi[TEXT.unk_token]\n",
        "N_EPOCHS = 50\n",
        "EARLY_STOPPING = {\"patience\": 10, \"delta\": 0.01}\n",
        "LEARNING_RATES = [0.0001, 0.001, 0.01, 0.1, 1]\n",
        "OUTPUT_DIR = \"/content/drive/My Drive/Dog_Whistle_Code/Fine_Tuned_Models/Text\""
      ],
      "execution_count": null,
      "outputs": []
    },
    {
      "cell_type": "code",
      "metadata": {
        "id": "8IPIaemaCZRx",
        "colab_type": "code",
        "colab": {
          "base_uri": "https://localhost:8080/",
          "height": 1000
        },
        "outputId": "7ccc437f-9f2b-4840-8c49-d9287b6dff67"
      },
      "source": [
        "results_dict = {}\n",
        "max_f1_value = 0\n",
        "\n",
        "for i in LEARNING_RATES:\n",
        "    # Initialize LSTM model\n",
        "    model = LSTMClassifier(train_set, dev_set, test_set, PAD_ID, INPUT_DIM)  \n",
        "\n",
        "    # Load pretrained vector\n",
        "    model.embedding.weight.data.copy_(TEXT.vocab.vectors) \n",
        "\n",
        "    # Manually initialize UNK and PAD tokens as zero vectors (and NOT randomly as would be done otherwise)\n",
        "    model.embedding.weight.data[UNK_ID] = torch.zeros(300)\n",
        "    model.embedding.weight.data[PAD_ID] = torch.zeros(300)\n",
        "\n",
        "    #model test\n",
        "    train_dict = model.trainer(model, i, EARLY_STOPPING, N_EPOCHS) \n",
        "    (results_dict[i], labels, preds), ids = model.test(model)\n",
        "\n",
        "    if results_dict[i][\"f1\"] >= max_f1_value: #only save best model\n",
        "        max_f1_value = results_dict[i][\"f1\"]\n",
        "        model_saver(model, \"LSTM\", OUTPUT_DIR, train_dict, labels, preds, results_dict[i])\n",
        "        print(\"The new best learning rate is \", i)\n",
        "\n",
        "# save complete training results\n",
        "np.save(os.path.join(OUTPUT_DIR, \"LSTM/LSTM_dogwhistle_total_training_results.npy\"), results_dict)\n",
        "df = pd.read_csv(\"/content/drive/My Drive/Dog_Whistle_Code/Fine_Tuned_Models/Text/LSTM/LSTM_dogwhistle_predictions.csv\")\n",
        "df[\"image_number\"] = ids\n",
        "df.to_csv(\"/content/drive/My Drive/Dog_Whistle_Code/Fine_Tuned_Models/Text/LSTM/LSTM_dogwhistle_predictions.csv\")"
      ],
      "execution_count": null,
      "outputs": [
        {
          "output_type": "stream",
          "text": [
            "\n",
            "Epoch:   0%|          | 0/50 [00:00<?, ?it/s]\u001b[A"
          ],
          "name": "stderr"
        },
        {
          "output_type": "stream",
          "text": [
            "Processing epoch 1\n"
          ],
          "name": "stdout"
        },
        {
          "output_type": "stream",
          "text": [
            "\n",
            "Epoch:   2%|▏         | 1/50 [00:01<01:31,  1.86s/it]\u001b[A"
          ],
          "name": "stderr"
        },
        {
          "output_type": "stream",
          "text": [
            "Accuracy on train data:\t0.5242\n",
            "Batch dev loss: 0.94065111130476\n",
            "Accuracy on dev data:\t0.6074\n",
            "Processing epoch 2\n"
          ],
          "name": "stdout"
        },
        {
          "output_type": "stream",
          "text": [
            "\n",
            "Epoch:   4%|▍         | 2/50 [00:03<01:22,  1.72s/it]\u001b[A"
          ],
          "name": "stderr"
        },
        {
          "output_type": "stream",
          "text": [
            "Accuracy on train data:\t0.5907\n",
            "Batch dev loss: 0.8763563111424446\n",
            "Accuracy on dev data:\t0.6396\n",
            "Processing epoch 3\n"
          ],
          "name": "stdout"
        },
        {
          "output_type": "stream",
          "text": [
            "\n",
            "Epoch:   6%|▌         | 3/50 [00:04<01:16,  1.63s/it]\u001b[A"
          ],
          "name": "stderr"
        },
        {
          "output_type": "stream",
          "text": [
            "Accuracy on train data:\t0.6518\n",
            "Batch dev loss: 0.7783979848027229\n",
            "Accuracy on dev data:\t0.7203\n",
            "Processing epoch 4\n"
          ],
          "name": "stdout"
        },
        {
          "output_type": "stream",
          "text": [
            "\n",
            "Epoch:   8%|▊         | 4/50 [00:06<01:11,  1.56s/it]\u001b[A"
          ],
          "name": "stderr"
        },
        {
          "output_type": "stream",
          "text": [
            "Accuracy on train data:\t0.7005\n",
            "Batch dev loss: 0.7476412504911423\n",
            "Accuracy on dev data:\t0.7285\n",
            "Processing epoch 5\n"
          ],
          "name": "stdout"
        },
        {
          "output_type": "stream",
          "text": [
            "\n",
            "Epoch:  10%|█         | 5/50 [00:07<01:08,  1.51s/it]\u001b[A"
          ],
          "name": "stderr"
        },
        {
          "output_type": "stream",
          "text": [
            "Accuracy on train data:\t0.7231\n",
            "Batch dev loss: 0.7795454412698746\n",
            "Accuracy on dev data:\t0.6979\n",
            "Processing epoch 6\n"
          ],
          "name": "stdout"
        },
        {
          "output_type": "stream",
          "text": [
            "\n",
            "Epoch:  12%|█▏        | 6/50 [00:08<01:05,  1.48s/it]\u001b[A"
          ],
          "name": "stderr"
        },
        {
          "output_type": "stream",
          "text": [
            "Accuracy on train data:\t0.7281\n",
            "Batch dev loss: 0.738586463034153\n",
            "Accuracy on dev data:\t0.7183\n",
            "Processing epoch 7\n"
          ],
          "name": "stdout"
        },
        {
          "output_type": "stream",
          "text": [
            "\n",
            "Epoch:  14%|█▍        | 7/50 [00:10<01:02,  1.46s/it]\u001b[A"
          ],
          "name": "stderr"
        },
        {
          "output_type": "stream",
          "text": [
            "Accuracy on train data:\t0.7537\n",
            "Batch dev loss: 0.7256964296102524\n",
            "Accuracy on dev data:\t0.7222\n",
            "Processing epoch 8\n"
          ],
          "name": "stdout"
        },
        {
          "output_type": "stream",
          "text": [
            "\n",
            "Epoch:  16%|█▌        | 8/50 [00:11<01:00,  1.45s/it]\u001b[A"
          ],
          "name": "stderr"
        },
        {
          "output_type": "stream",
          "text": [
            "Accuracy on train data:\t0.7582\n",
            "Batch dev loss: 0.7477412149310112\n",
            "Accuracy on dev data:\t0.7218\n",
            "Processing epoch 9\n"
          ],
          "name": "stdout"
        },
        {
          "output_type": "stream",
          "text": [
            "\n",
            "Epoch:  18%|█▊        | 9/50 [00:13<00:58,  1.44s/it]\u001b[A"
          ],
          "name": "stderr"
        },
        {
          "output_type": "stream",
          "text": [
            "Accuracy on train data:\t0.7761\n",
            "Batch dev loss: 0.7505490481853485\n",
            "Accuracy on dev data:\t0.7237\n",
            "Processing epoch 10\n"
          ],
          "name": "stdout"
        },
        {
          "output_type": "stream",
          "text": [
            "\n",
            "Epoch:  20%|██        | 10/50 [00:14<00:57,  1.43s/it]\u001b[A"
          ],
          "name": "stderr"
        },
        {
          "output_type": "stream",
          "text": [
            "Accuracy on train data:\t0.7899\n",
            "Batch dev loss: 0.7394617050886154\n",
            "Accuracy on dev data:\t0.7320\n",
            "Processing epoch 11\n"
          ],
          "name": "stdout"
        },
        {
          "output_type": "stream",
          "text": [
            "\n",
            "Epoch:  22%|██▏       | 11/50 [00:15<00:55,  1.43s/it]\u001b[A"
          ],
          "name": "stderr"
        },
        {
          "output_type": "stream",
          "text": [
            "Accuracy on train data:\t0.8019\n",
            "Batch dev loss: 0.7118877023458481\n",
            "Accuracy on dev data:\t0.7529\n",
            "Processing epoch 12\n"
          ],
          "name": "stdout"
        },
        {
          "output_type": "stream",
          "text": [
            "\n",
            "Epoch:  24%|██▍       | 12/50 [00:17<00:54,  1.43s/it]\u001b[A"
          ],
          "name": "stderr"
        },
        {
          "output_type": "stream",
          "text": [
            "Accuracy on train data:\t0.8236\n",
            "Batch dev loss: 0.7457109838724136\n",
            "Accuracy on dev data:\t0.7311\n",
            "Processing epoch 13\n"
          ],
          "name": "stdout"
        },
        {
          "output_type": "stream",
          "text": [
            "\n",
            "Epoch:  26%|██▌       | 13/50 [00:18<00:52,  1.42s/it]\u001b[A"
          ],
          "name": "stderr"
        },
        {
          "output_type": "stream",
          "text": [
            "Accuracy on train data:\t0.8348\n",
            "Batch dev loss: 0.7687575295567513\n",
            "Accuracy on dev data:\t0.7417\n",
            "Processing epoch 14\n",
            "Stopping early...\n",
            "Training complete!\n"
          ],
          "name": "stdout"
        },
        {
          "output_type": "display_data",
          "data": {
            "image/png": "[encoded data removed]",
            "text/plain": [
              "<Figure size 864x432 with 1 Axes>"
            ]
          },
          "metadata": {
            "tags": []
          }
        },
        {
          "output_type": "stream",
          "text": [
            "Training complete!\n"
          ],
          "name": "stdout"
        },
        {
          "output_type": "stream",
          "text": [
            "/usr/local/lib/python3.6/dist-packages/sklearn/metrics/_classification.py:1272: UndefinedMetricWarning: Precision is ill-defined and being set to 0.0 in labels with no predicted samples. Use `zero_division` parameter to control this behavior.\n",
            "  _warn_prf(average, modifier, msg_start, len(result))\n",
            "\n",
            "\n",
            "Epoch:   0%|          | 0/50 [00:00<?, ?it/s]\u001b[A\u001b[A"
          ],
          "name": "stderr"
        },
        {
          "output_type": "stream",
          "text": [
            "Saving complete.\n",
            "The new best learning rate is  0.0001\n",
            "Processing epoch 1\n"
          ],
          "name": "stdout"
        },
        {
          "output_type": "stream",
          "text": [
            "\n",
            "\n",
            "Epoch:   2%|▏         | 1/50 [00:01<01:14,  1.51s/it]\u001b[A\u001b[A"
          ],
          "name": "stderr"
        },
        {
          "output_type": "stream",
          "text": [
            "Accuracy on train data:\t0.5902\n",
            "Batch dev loss: 0.7704368904232979\n",
            "Accuracy on dev data:\t0.7070\n",
            "Processing epoch 2\n"
          ],
          "name": "stdout"
        },
        {
          "output_type": "stream",
          "text": [
            "\n",
            "\n",
            "Epoch:   4%|▍         | 2/50 [00:02<01:11,  1.49s/it]\u001b[A\u001b[A"
          ],
          "name": "stderr"
        },
        {
          "output_type": "stream",
          "text": [
            "Accuracy on train data:\t0.7177\n",
            "Batch dev loss: 0.7231406569480896\n",
            "Accuracy on dev data:\t0.7372\n",
            "Processing epoch 3\n"
          ],
          "name": "stdout"
        },
        {
          "output_type": "stream",
          "text": [
            "\n",
            "\n",
            "Epoch:   6%|▌         | 3/50 [00:04<01:09,  1.47s/it]\u001b[A\u001b[A"
          ],
          "name": "stderr"
        },
        {
          "output_type": "stream",
          "text": [
            "Accuracy on train data:\t0.7868\n",
            "Batch dev loss: 0.7097437903285027\n",
            "Accuracy on dev data:\t0.7533\n",
            "Processing epoch 4\n"
          ],
          "name": "stdout"
        },
        {
          "output_type": "stream",
          "text": [
            "\n",
            "\n",
            "Epoch:   8%|▊         | 4/50 [00:05<01:07,  1.46s/it]\u001b[A\u001b[A"
          ],
          "name": "stderr"
        },
        {
          "output_type": "stream",
          "text": [
            "Accuracy on train data:\t0.8407\n",
            "Batch dev loss: 0.77200997620821\n",
            "Accuracy on dev data:\t0.7398\n",
            "Processing epoch 5\n"
          ],
          "name": "stdout"
        },
        {
          "output_type": "stream",
          "text": [
            "\n",
            "\n",
            "Epoch:  10%|█         | 5/50 [00:07<01:05,  1.46s/it]\u001b[A\u001b[A"
          ],
          "name": "stderr"
        },
        {
          "output_type": "stream",
          "text": [
            "Accuracy on train data:\t0.8790\n",
            "Batch dev loss: 0.8128433898091316\n",
            "Accuracy on dev data:\t0.7446\n",
            "Processing epoch 6\n"
          ],
          "name": "stdout"
        },
        {
          "output_type": "stream",
          "text": [
            "\n",
            "\n",
            "Epoch:  12%|█▏        | 6/50 [00:08<01:03,  1.45s/it]\u001b[A\u001b[A"
          ],
          "name": "stderr"
        },
        {
          "output_type": "stream",
          "text": [
            "Accuracy on train data:\t0.9176\n",
            "Batch dev loss: 0.9040951505303383\n",
            "Accuracy on dev data:\t0.7266\n",
            "Processing epoch 7\n"
          ],
          "name": "stdout"
        },
        {
          "output_type": "stream",
          "text": [
            "\n",
            "\n",
            "Epoch:  14%|█▍        | 7/50 [00:10<01:02,  1.45s/it]\u001b[A\u001b[A"
          ],
          "name": "stderr"
        },
        {
          "output_type": "stream",
          "text": [
            "Accuracy on train data:\t0.9425\n",
            "Batch dev loss: 1.0299174636602402\n",
            "Accuracy on dev data:\t0.7094\n",
            "Processing epoch 8\n"
          ],
          "name": "stdout"
        },
        {
          "output_type": "stream",
          "text": [
            "\n",
            "\n",
            "Epoch:  16%|█▌        | 8/50 [00:11<01:00,  1.44s/it]\u001b[A\u001b[A"
          ],
          "name": "stderr"
        },
        {
          "output_type": "stream",
          "text": [
            "Accuracy on train data:\t0.9583\n",
            "Batch dev loss: 1.0447792708873749\n",
            "Accuracy on dev data:\t0.7242\n",
            "Processing epoch 9\n"
          ],
          "name": "stdout"
        },
        {
          "output_type": "stream",
          "text": [
            "\n",
            "\n",
            "Epoch:  18%|█▊        | 9/50 [00:12<00:58,  1.44s/it]\u001b[A\u001b[A"
          ],
          "name": "stderr"
        },
        {
          "output_type": "stream",
          "text": [
            "Accuracy on train data:\t0.9697\n",
            "Batch dev loss: 1.3208679109811783\n",
            "Accuracy on dev data:\t0.7270\n",
            "Processing epoch 10\n"
          ],
          "name": "stdout"
        },
        {
          "output_type": "stream",
          "text": [
            "\n",
            "\n",
            "Epoch:  20%|██        | 10/50 [00:14<00:57,  1.44s/it]\u001b[A\u001b[A"
          ],
          "name": "stderr"
        },
        {
          "output_type": "stream",
          "text": [
            "Accuracy on train data:\t0.9816\n",
            "Batch dev loss: 1.3600176125764847\n",
            "Accuracy on dev data:\t0.7216\n",
            "Processing epoch 11\n"
          ],
          "name": "stdout"
        },
        {
          "output_type": "stream",
          "text": [
            "\n",
            "\n",
            "Epoch:  22%|██▏       | 11/50 [00:15<00:56,  1.44s/it]\u001b[A\u001b[A"
          ],
          "name": "stderr"
        },
        {
          "output_type": "stream",
          "text": [
            "Accuracy on train data:\t0.9854\n",
            "Batch dev loss: 1.4146204739809036\n",
            "Accuracy on dev data:\t0.7003\n",
            "Processing epoch 12\n",
            "Stopping early...\n",
            "Training complete!\n"
          ],
          "name": "stdout"
        },
        {
          "output_type": "display_data",
          "data": {
            "image/png": "[encoded data removed]",
            "text/plain": [
              "<Figure size 864x432 with 1 Axes>"
            ]
          },
          "metadata": {
            "tags": []
          }
        },
        {
          "output_type": "stream",
          "text": [
            "\n",
            "\n",
            "\n",
            "Epoch:   0%|          | 0/50 [00:00<?, ?it/s]\u001b[A\u001b[A\u001b[A"
          ],
          "name": "stderr"
        },
        {
          "output_type": "stream",
          "text": [
            "Training complete!\n",
            "Processing epoch 1\n"
          ],
          "name": "stdout"
        },
        {
          "output_type": "stream",
          "text": [
            "\n",
            "\n",
            "\n",
            "Epoch:   2%|▏         | 1/50 [00:01<01:10,  1.44s/it]\u001b[A\u001b[A\u001b[A"
          ],
          "name": "stderr"
        },
        {
          "output_type": "stream",
          "text": [
            "Accuracy on train data:\t0.5338\n",
            "Batch dev loss: 0.8577449098229408\n",
            "Accuracy on dev data:\t0.6169\n",
            "Processing epoch 2\n"
          ],
          "name": "stdout"
        },
        {
          "output_type": "stream",
          "text": [
            "\n",
            "\n",
            "\n",
            "Epoch:   4%|▍         | 2/50 [00:02<01:09,  1.44s/it]\u001b[A\u001b[A\u001b[A"
          ],
          "name": "stderr"
        },
        {
          "output_type": "stream",
          "text": [
            "Accuracy on train data:\t0.6738\n",
            "Batch dev loss: 0.7544251680374146\n",
            "Accuracy on dev data:\t0.7398\n",
            "Processing epoch 3\n"
          ],
          "name": "stdout"
        },
        {
          "output_type": "stream",
          "text": [
            "\n",
            "\n",
            "\n",
            "Epoch:   6%|▌         | 3/50 [00:04<01:07,  1.44s/it]\u001b[A\u001b[A\u001b[A"
          ],
          "name": "stderr"
        },
        {
          "output_type": "stream",
          "text": [
            "Accuracy on train data:\t0.7925\n",
            "Batch dev loss: 0.7694114595651627\n",
            "Accuracy on dev data:\t0.7052\n",
            "Processing epoch 4\n"
          ],
          "name": "stdout"
        },
        {
          "output_type": "stream",
          "text": [
            "\n",
            "\n",
            "\n",
            "Epoch:   8%|▊         | 4/50 [00:05<01:06,  1.44s/it]\u001b[A\u001b[A\u001b[A"
          ],
          "name": "stderr"
        },
        {
          "output_type": "stream",
          "text": [
            "Accuracy on train data:\t0.8635\n",
            "Batch dev loss: 0.9026394262909889\n",
            "Accuracy on dev data:\t0.6994\n",
            "Processing epoch 5\n"
          ],
          "name": "stdout"
        },
        {
          "output_type": "stream",
          "text": [
            "\n",
            "\n",
            "\n",
            "Epoch:  10%|█         | 5/50 [00:07<01:04,  1.44s/it]\u001b[A\u001b[A\u001b[A"
          ],
          "name": "stderr"
        },
        {
          "output_type": "stream",
          "text": [
            "Accuracy on train data:\t0.9017\n",
            "Batch dev loss: 1.247651919722557\n",
            "Accuracy on dev data:\t0.6593\n",
            "Processing epoch 6\n"
          ],
          "name": "stdout"
        },
        {
          "output_type": "stream",
          "text": [
            "\n",
            "\n",
            "\n",
            "Epoch:  12%|█▏        | 6/50 [00:08<01:03,  1.45s/it]\u001b[A\u001b[A\u001b[A"
          ],
          "name": "stderr"
        },
        {
          "output_type": "stream",
          "text": [
            "Accuracy on train data:\t0.9365\n",
            "Batch dev loss: 1.1448708474636078\n",
            "Accuracy on dev data:\t0.6901\n",
            "Processing epoch 7\n"
          ],
          "name": "stdout"
        },
        {
          "output_type": "stream",
          "text": [
            "\n",
            "\n",
            "\n",
            "Epoch:  14%|█▍        | 7/50 [00:10<01:02,  1.44s/it]\u001b[A\u001b[A\u001b[A"
          ],
          "name": "stderr"
        },
        {
          "output_type": "stream",
          "text": [
            "Accuracy on train data:\t0.9489\n",
            "Batch dev loss: 1.441055029630661\n",
            "Accuracy on dev data:\t0.6855\n",
            "Processing epoch 8\n"
          ],
          "name": "stdout"
        },
        {
          "output_type": "stream",
          "text": [
            "\n",
            "\n",
            "\n",
            "Epoch:  16%|█▌        | 8/50 [00:11<01:00,  1.45s/it]\u001b[A\u001b[A\u001b[A"
          ],
          "name": "stderr"
        },
        {
          "output_type": "stream",
          "text": [
            "Accuracy on train data:\t0.9675\n",
            "Batch dev loss: 1.3343779295682907\n",
            "Accuracy on dev data:\t0.6983\n",
            "Processing epoch 9\n"
          ],
          "name": "stdout"
        },
        {
          "output_type": "stream",
          "text": [
            "\n",
            "\n",
            "\n",
            "Epoch:  18%|█▊        | 9/50 [00:13<00:59,  1.45s/it]\u001b[A\u001b[A\u001b[A"
          ],
          "name": "stderr"
        },
        {
          "output_type": "stream",
          "text": [
            "Accuracy on train data:\t0.9754\n",
            "Batch dev loss: 1.4555358439683914\n",
            "Accuracy on dev data:\t0.7018\n",
            "Processing epoch 10\n"
          ],
          "name": "stdout"
        },
        {
          "output_type": "stream",
          "text": [
            "\n",
            "\n",
            "\n",
            "Epoch:  20%|██        | 10/50 [00:14<00:57,  1.45s/it]\u001b[A\u001b[A\u001b[A"
          ],
          "name": "stderr"
        },
        {
          "output_type": "stream",
          "text": [
            "Accuracy on train data:\t0.9834\n",
            "Batch dev loss: 1.551140159368515\n",
            "Accuracy on dev data:\t0.7201\n",
            "Processing epoch 11\n"
          ],
          "name": "stdout"
        },
        {
          "output_type": "stream",
          "text": [
            "\n",
            "\n",
            "\n",
            "Epoch:  22%|██▏       | 11/50 [00:15<00:56,  1.45s/it]\u001b[A\u001b[A\u001b[A"
          ],
          "name": "stderr"
        },
        {
          "output_type": "stream",
          "text": [
            "Accuracy on train data:\t0.9869\n",
            "Batch dev loss: 1.6886302083730698\n",
            "Accuracy on dev data:\t0.6851\n",
            "Processing epoch 12\n",
            "Stopping early...\n",
            "Training complete!\n"
          ],
          "name": "stdout"
        },
        {
          "output_type": "display_data",
          "data": {
            "image/png": "[encoded data removed]",
            "text/plain": [
              "<Figure size 864x432 with 1 Axes>"
            ]
          },
          "metadata": {
            "tags": []
          }
        },
        {
          "output_type": "stream",
          "text": [
            "\n",
            "\n",
            "\n",
            "\n",
            "Epoch:   0%|          | 0/50 [00:00<?, ?it/s]\u001b[A\u001b[A\u001b[A\u001b[A"
          ],
          "name": "stderr"
        },
        {
          "output_type": "stream",
          "text": [
            "Training complete!\n",
            "Processing epoch 1\n"
          ],
          "name": "stdout"
        },
        {
          "output_type": "stream",
          "text": [
            "\n",
            "\n",
            "\n",
            "\n",
            "Epoch:   2%|▏         | 1/50 [00:01<01:09,  1.42s/it]\u001b[A\u001b[A\u001b[A\u001b[A"
          ],
          "name": "stderr"
        },
        {
          "output_type": "stream",
          "text": [
            "Accuracy on train data:\t0.4534\n",
            "Batch dev loss: 1.313795879483223\n",
            "Accuracy on dev data:\t0.5309\n",
            "Processing epoch 2\n"
          ],
          "name": "stdout"
        },
        {
          "output_type": "stream",
          "text": [
            "\n",
            "\n",
            "\n",
            "\n",
            "Epoch:   4%|▍         | 2/50 [00:02<01:08,  1.42s/it]\u001b[A\u001b[A\u001b[A\u001b[A"
          ],
          "name": "stderr"
        },
        {
          "output_type": "stream",
          "text": [
            "Accuracy on train data:\t0.4397\n",
            "Batch dev loss: 2.309953451156616\n",
            "Accuracy on dev data:\t0.5309\n",
            "Processing epoch 3\n"
          ],
          "name": "stdout"
        },
        {
          "output_type": "stream",
          "text": [
            "\n",
            "\n",
            "\n",
            "\n",
            "Epoch:   6%|▌         | 3/50 [00:04<01:06,  1.42s/it]\u001b[A\u001b[A\u001b[A\u001b[A"
          ],
          "name": "stderr"
        },
        {
          "output_type": "stream",
          "text": [
            "Accuracy on train data:\t0.4302\n",
            "Batch dev loss: 2.4691968709230423\n",
            "Accuracy on dev data:\t0.5309\n",
            "Processing epoch 4\n"
          ],
          "name": "stdout"
        },
        {
          "output_type": "stream",
          "text": [
            "\n",
            "\n",
            "\n",
            "\n",
            "Epoch:   8%|▊         | 4/50 [00:05<01:05,  1.42s/it]\u001b[A\u001b[A\u001b[A\u001b[A"
          ],
          "name": "stderr"
        },
        {
          "output_type": "stream",
          "text": [
            "Accuracy on train data:\t0.4424\n",
            "Batch dev loss: 1.1779776439070702\n",
            "Accuracy on dev data:\t0.5338\n",
            "Processing epoch 5\n"
          ],
          "name": "stdout"
        },
        {
          "output_type": "stream",
          "text": [
            "\n",
            "\n",
            "\n",
            "\n",
            "Epoch:  10%|█         | 5/50 [00:07<01:03,  1.42s/it]\u001b[A\u001b[A\u001b[A\u001b[A"
          ],
          "name": "stderr"
        },
        {
          "output_type": "stream",
          "text": [
            "Accuracy on train data:\t0.4597\n",
            "Batch dev loss: 1.1827946826815605\n",
            "Accuracy on dev data:\t0.5445\n",
            "Processing epoch 6\n"
          ],
          "name": "stdout"
        },
        {
          "output_type": "stream",
          "text": [
            "\n",
            "\n",
            "\n",
            "\n",
            "Epoch:  12%|█▏        | 6/50 [00:08<01:02,  1.43s/it]\u001b[A\u001b[A\u001b[A\u001b[A"
          ],
          "name": "stderr"
        },
        {
          "output_type": "stream",
          "text": [
            "Accuracy on train data:\t0.4896\n",
            "Batch dev loss: 1.2532381564378738\n",
            "Accuracy on dev data:\t0.4665\n",
            "Processing epoch 7\n"
          ],
          "name": "stdout"
        },
        {
          "output_type": "stream",
          "text": [
            "\n",
            "\n",
            "\n",
            "\n",
            "Epoch:  14%|█▍        | 7/50 [00:09<01:01,  1.43s/it]\u001b[A\u001b[A\u001b[A\u001b[A"
          ],
          "name": "stderr"
        },
        {
          "output_type": "stream",
          "text": [
            "Accuracy on train data:\t0.4833\n",
            "Batch dev loss: 1.1074981465935707\n",
            "Accuracy on dev data:\t0.5228\n",
            "Processing epoch 8\n"
          ],
          "name": "stdout"
        },
        {
          "output_type": "stream",
          "text": [
            "\n",
            "\n",
            "\n",
            "\n",
            "Epoch:  16%|█▌        | 8/50 [00:11<00:59,  1.43s/it]\u001b[A\u001b[A\u001b[A\u001b[A"
          ],
          "name": "stderr"
        },
        {
          "output_type": "stream",
          "text": [
            "Accuracy on train data:\t0.4855\n",
            "Batch dev loss: 1.4775214567780495\n",
            "Accuracy on dev data:\t0.5293\n",
            "Processing epoch 9\n"
          ],
          "name": "stdout"
        },
        {
          "output_type": "stream",
          "text": [
            "\n",
            "\n",
            "\n",
            "\n",
            "Epoch:  18%|█▊        | 9/50 [00:12<00:58,  1.43s/it]\u001b[A\u001b[A\u001b[A\u001b[A"
          ],
          "name": "stderr"
        },
        {
          "output_type": "stream",
          "text": [
            "Accuracy on train data:\t0.5289\n",
            "Batch dev loss: 1.032134436070919\n",
            "Accuracy on dev data:\t0.5916\n",
            "Processing epoch 10\n"
          ],
          "name": "stdout"
        },
        {
          "output_type": "stream",
          "text": [
            "\n",
            "\n",
            "\n",
            "\n",
            "Epoch:  20%|██        | 10/50 [00:14<00:57,  1.43s/it]\u001b[A\u001b[A\u001b[A\u001b[A"
          ],
          "name": "stderr"
        },
        {
          "output_type": "stream",
          "text": [
            "Accuracy on train data:\t0.5451\n",
            "Batch dev loss: 1.2595281675457954\n",
            "Accuracy on dev data:\t0.4721\n",
            "Processing epoch 11\n"
          ],
          "name": "stdout"
        },
        {
          "output_type": "stream",
          "text": [
            "\n",
            "\n",
            "\n",
            "\n",
            "Epoch:  22%|██▏       | 11/50 [00:15<00:55,  1.43s/it]\u001b[A\u001b[A\u001b[A\u001b[A"
          ],
          "name": "stderr"
        },
        {
          "output_type": "stream",
          "text": [
            "Accuracy on train data:\t0.5116\n",
            "Batch dev loss: 1.2490715309977531\n",
            "Accuracy on dev data:\t0.5769\n",
            "Processing epoch 12\n"
          ],
          "name": "stdout"
        },
        {
          "output_type": "stream",
          "text": [
            "\n",
            "\n",
            "\n",
            "\n",
            "Epoch:  24%|██▍       | 12/50 [00:17<00:54,  1.43s/it]\u001b[A\u001b[A\u001b[A\u001b[A"
          ],
          "name": "stderr"
        },
        {
          "output_type": "stream",
          "text": [
            "Accuracy on train data:\t0.4883\n",
            "Batch dev loss: 1.5586867779493332\n",
            "Accuracy on dev data:\t0.5687\n",
            "Processing epoch 13\n",
            "Stopping early...\n",
            "Training complete!\n"
          ],
          "name": "stdout"
        },
        {
          "output_type": "display_data",
          "data": {
            "image/png": "[encoded data removed]",
            "text/plain": [
              "<Figure size 864x432 with 1 Axes>"
            ]
          },
          "metadata": {
            "tags": []
          }
        },
        {
          "output_type": "stream",
          "text": [
            "\n",
            "\n",
            "\n",
            "\n",
            "\n",
            "Epoch:   0%|          | 0/50 [00:00<?, ?it/s]\u001b[A\u001b[A\u001b[A\u001b[A\u001b[A"
          ],
          "name": "stderr"
        },
        {
          "output_type": "stream",
          "text": [
            "Training complete!\n",
            "Processing epoch 1\n"
          ],
          "name": "stdout"
        },
        {
          "output_type": "stream",
          "text": [
            "\n",
            "\n",
            "\n",
            "\n",
            "\n",
            "Epoch:   2%|▏         | 1/50 [00:01<01:08,  1.39s/it]\u001b[A\u001b[A\u001b[A\u001b[A\u001b[A"
          ],
          "name": "stderr"
        },
        {
          "output_type": "stream",
          "text": [
            "Accuracy on train data:\t0.4338\n",
            "Batch dev loss: 50.69872999191284\n",
            "Accuracy on dev data:\t0.5309\n",
            "Processing epoch 2\n"
          ],
          "name": "stdout"
        },
        {
          "output_type": "stream",
          "text": [
            "\n",
            "\n",
            "\n",
            "\n",
            "\n",
            "Epoch:   4%|▍         | 2/50 [00:02<01:07,  1.40s/it]\u001b[A\u001b[A\u001b[A\u001b[A\u001b[A"
          ],
          "name": "stderr"
        },
        {
          "output_type": "stream",
          "text": [
            "Accuracy on train data:\t0.4598\n",
            "Batch dev loss: 11.897736489772797\n",
            "Accuracy on dev data:\t0.5012\n",
            "Processing epoch 3\n"
          ],
          "name": "stdout"
        },
        {
          "output_type": "stream",
          "text": [
            "\n",
            "\n",
            "\n",
            "\n",
            "\n",
            "Epoch:   6%|▌         | 3/50 [00:04<01:05,  1.40s/it]\u001b[A\u001b[A\u001b[A\u001b[A\u001b[A"
          ],
          "name": "stderr"
        },
        {
          "output_type": "stream",
          "text": [
            "Accuracy on train data:\t0.4776\n",
            "Batch dev loss: nan\n",
            "Accuracy on dev data:\t0.5309\n",
            "Processing epoch 4\n"
          ],
          "name": "stdout"
        },
        {
          "output_type": "stream",
          "text": [
            "\n",
            "\n",
            "\n",
            "\n",
            "\n",
            "Epoch:   8%|▊         | 4/50 [00:05<01:04,  1.39s/it]\u001b[A\u001b[A\u001b[A\u001b[A\u001b[A"
          ],
          "name": "stderr"
        },
        {
          "output_type": "stream",
          "text": [
            "Accuracy on train data:\t0.5334\n",
            "Batch dev loss: nan\n",
            "Accuracy on dev data:\t0.5309\n",
            "Processing epoch 5\n"
          ],
          "name": "stdout"
        },
        {
          "output_type": "stream",
          "text": [
            "\n",
            "\n",
            "\n",
            "\n",
            "\n",
            "Epoch:  10%|█         | 5/50 [00:06<01:02,  1.39s/it]\u001b[A\u001b[A\u001b[A\u001b[A\u001b[A"
          ],
          "name": "stderr"
        },
        {
          "output_type": "stream",
          "text": [
            "Accuracy on train data:\t0.5334\n",
            "Batch dev loss: nan\n",
            "Accuracy on dev data:\t0.5309\n",
            "Processing epoch 6\n"
          ],
          "name": "stdout"
        },
        {
          "output_type": "stream",
          "text": [
            "\n",
            "\n",
            "\n",
            "\n",
            "\n",
            "Epoch:  12%|█▏        | 6/50 [00:08<01:01,  1.39s/it]\u001b[A\u001b[A\u001b[A\u001b[A\u001b[A"
          ],
          "name": "stderr"
        },
        {
          "output_type": "stream",
          "text": [
            "Accuracy on train data:\t0.5334\n",
            "Batch dev loss: nan\n",
            "Accuracy on dev data:\t0.5309\n",
            "Processing epoch 7\n"
          ],
          "name": "stdout"
        },
        {
          "output_type": "stream",
          "text": [
            "\n",
            "\n",
            "\n",
            "\n",
            "\n",
            "Epoch:  14%|█▍        | 7/50 [00:09<00:59,  1.39s/it]\u001b[A\u001b[A\u001b[A\u001b[A\u001b[A"
          ],
          "name": "stderr"
        },
        {
          "output_type": "stream",
          "text": [
            "Accuracy on train data:\t0.5334\n",
            "Batch dev loss: nan\n",
            "Accuracy on dev data:\t0.5309\n",
            "Processing epoch 8\n"
          ],
          "name": "stdout"
        },
        {
          "output_type": "stream",
          "text": [
            "\n",
            "\n",
            "\n",
            "\n",
            "\n",
            "Epoch:  16%|█▌        | 8/50 [00:11<00:58,  1.39s/it]\u001b[A\u001b[A\u001b[A\u001b[A\u001b[A"
          ],
          "name": "stderr"
        },
        {
          "output_type": "stream",
          "text": [
            "Accuracy on train data:\t0.5334\n",
            "Batch dev loss: nan\n",
            "Accuracy on dev data:\t0.5309\n",
            "Processing epoch 9\n"
          ],
          "name": "stdout"
        },
        {
          "output_type": "stream",
          "text": [
            "\n",
            "\n",
            "\n",
            "\n",
            "\n",
            "Epoch:  18%|█▊        | 9/50 [00:12<00:56,  1.38s/it]\u001b[A\u001b[A\u001b[A\u001b[A\u001b[A"
          ],
          "name": "stderr"
        },
        {
          "output_type": "stream",
          "text": [
            "Accuracy on train data:\t0.5334\n",
            "Batch dev loss: nan\n",
            "Accuracy on dev data:\t0.5309\n",
            "Processing epoch 10\n"
          ],
          "name": "stdout"
        },
        {
          "output_type": "stream",
          "text": [
            "\n",
            "\n",
            "\n",
            "\n",
            "\n",
            "Epoch:  20%|██        | 10/50 [00:13<00:55,  1.39s/it]\u001b[A\u001b[A\u001b[A\u001b[A\u001b[A"
          ],
          "name": "stderr"
        },
        {
          "output_type": "stream",
          "text": [
            "Accuracy on train data:\t0.5334\n",
            "Batch dev loss: nan\n",
            "Accuracy on dev data:\t0.5309\n",
            "Processing epoch 11\n"
          ],
          "name": "stdout"
        },
        {
          "output_type": "stream",
          "text": [
            "\n",
            "\n",
            "\n",
            "\n",
            "\n",
            "Epoch:  22%|██▏       | 11/50 [00:15<00:54,  1.39s/it]\u001b[A\u001b[A\u001b[A\u001b[A\u001b[A"
          ],
          "name": "stderr"
        },
        {
          "output_type": "stream",
          "text": [
            "Accuracy on train data:\t0.5334\n",
            "Batch dev loss: nan\n",
            "Accuracy on dev data:\t0.5309\n",
            "Processing epoch 12\n",
            "Stopping early...\n",
            "Training complete!\n"
          ],
          "name": "stdout"
        },
        {
          "output_type": "display_data",
          "data": {
            "image/png": "[encoded data removed]",
            "text/plain": [
              "<Figure size 864x432 with 1 Axes>"
            ]
          },
          "metadata": {
            "tags": []
          }
        },
        {
          "output_type": "stream",
          "text": [
            "Training complete!\n"
          ],
          "name": "stdout"
        },
        {
          "output_type": "stream",
          "text": [
            "/usr/local/lib/python3.6/dist-packages/sklearn/metrics/_classification.py:900: RuntimeWarning: invalid value encountered in double_scalars\n",
            "  mcc = cov_ytyp / np.sqrt(cov_ytyt * cov_ypyp)\n"
          ],
          "name": "stderr"
        }
      ]
    },
    {
      "cell_type": "code",
      "metadata": {
        "id": "wIzSkvIwuNcJ",
        "colab_type": "code",
        "colab": {
          "base_uri": "https://localhost:8080/",
          "height": 35
        },
        "outputId": "51cc4a6e-2eca-40e8-de87-8af9e01f251d"
      },
      "source": [
        "max_f1_value"
      ],
      "execution_count": null,
      "outputs": [
        {
          "output_type": "execute_result",
          "data": {
            "text/plain": [
              "0.7213470745509768"
            ]
          },
          "metadata": {
            "tags": []
          },
          "execution_count": 17
        }
      ]
    },
    {
      "cell_type": "code",
      "metadata": {
        "id": "ryY2dTKF5eoP",
        "colab_type": "code",
        "colab": {
          "base_uri": "https://localhost:8080/",
          "height": 797
        },
        "outputId": "7516ffca-2113-404f-f185-fde9677d6c3b"
      },
      "source": [
        "results_dict"
      ],
      "execution_count": null,
      "outputs": [
        {
          "output_type": "execute_result",
          "data": {
            "text/plain": [
              "{0.0001: {'acc': 0.7549800796812749,\n",
              "  'confusion_matrix': array([[231,  33,   0,   4],\n",
              "         [ 38, 147,   0,   0],\n",
              "         [  5,   7,   0,   0],\n",
              "         [ 31,   5,   0,   1]]),\n",
              "  'f1': 0.7213470745509768,\n",
              "  'mcc': 0.5483049056479758,\n",
              "  'precision': 0.7012304266540396,\n",
              "  'recall': 0.7213470745509768},\n",
              " 0.001: {'acc': 0.703187250996016,\n",
              "  'confusion_matrix': array([[200,  41,   5,  22],\n",
              "         [ 30, 144,   7,   4],\n",
              "         [  4,   8,   0,   0],\n",
              "         [ 20,   8,   0,   9]]),\n",
              "  'f1': 0.7024802246159982,\n",
              "  'mcc': 0.48601241931463696,\n",
              "  'precision': 0.7033370940126806,\n",
              "  'recall': 0.7024802246159982},\n",
              " 0.01: {'acc': 0.6852589641434262,\n",
              "  'confusion_matrix': array([[187,  56,   4,  21],\n",
              "         [ 28, 145,   5,   7],\n",
              "         [  5,   6,   1,   0],\n",
              "         [ 19,   6,   1,  11]]),\n",
              "  'f1': 0.6857554821056109,\n",
              "  'mcc': 0.46293135542411157,\n",
              "  'precision': 0.6915461159999889,\n",
              "  'recall': 0.6857554821056109},\n",
              " 0.1: {'acc': 0.5637450199203188,\n",
              "  'confusion_matrix': array([[209,  59,   0,   0],\n",
              "         [111,  74,   0,   0],\n",
              "         [  8,   4,   0,   0],\n",
              "         [ 34,   3,   0,   0]]),\n",
              "  'f1': 0.5220359100837189,\n",
              "  'mcc': 0.15826640253379576,\n",
              "  'precision': 0.5030179204256376,\n",
              "  'recall': 0.5220359100837189},\n",
              " 1: {'acc': 0.5338645418326693,\n",
              "  'confusion_matrix': array([[268,   0,   0,   0],\n",
              "         [185,   0,   0,   0],\n",
              "         [ 12,   0,   0,   0],\n",
              "         [ 37,   0,   0,   0]]),\n",
              "  'f1': 0.3716251875614426,\n",
              "  'mcc': 0.0,\n",
              "  'precision': 0.2850113490262059,\n",
              "  'recall': 0.3716251875614426}}"
            ]
          },
          "metadata": {
            "tags": []
          },
          "execution_count": 18
        }
      ]
    },
    {
      "cell_type": "code",
      "metadata": {
        "id": "V6CCoqR1Gr_8",
        "colab_type": "code",
        "colab": {
          "base_uri": "https://localhost:8080/",
          "height": 724
        },
        "outputId": "365b173c-bd2f-4aa7-d3b0-319f5ee29af3"
      },
      "source": [
        "X_TICK_LABELS = [\"None\", \"Hateful\", \"Counter-speech\", \"Reclaimed\"]\n",
        "Y_TICK_LABELS = [\"None\", \"Hateful\", \"Counter-speech\", \"Reclaimed\"]\n",
        "COLOR = \"Blues\"\n",
        "SAVE_NAME = \"/content/drive/My Drive/Dog_Whistle_Code/Fine_Tuned_Models/Text/LSTM/LSTM_cm_dogwhistle.png\"\n",
        "CM = np.load(\"/content/drive/My Drive/Dog_Whistle_Code/Fine_Tuned_Models/Text/LSTM/LSTM_dogwhistle_test_results.npy\", allow_pickle=True)\n",
        "\n",
        "confusion_matrix_plotter(CM, SAVE_NAME, X_TICK_LABELS, Y_TICK_LABELS, COLOR)"
      ],
      "execution_count": null,
      "outputs": [
        {
          "output_type": "display_data",
          "data": {
            "image/png": "[encoded data removed]",
            "text/plain": [
              "<Figure size 1152x864 with 2 Axes>"
            ]
          },
          "metadata": {
            "tags": []
          }
        }
      ]
    },
    {
      "cell_type": "markdown",
      "metadata": {
        "id": "0s2BMcOqtrje",
        "colab_type": "text"
      },
      "source": [
        "### Investigating how datasize effects performance"
      ]
    },
    {
      "cell_type": "code",
      "metadata": {
        "id": "n-5YmGjuqXNU",
        "colab_type": "code",
        "colab": {
          "base_uri": "https://localhost:8080/",
          "height": 1000
        },
        "outputId": "3c69843f-2cc2-49c1-fd79-90e78ceab1c8"
      },
      "source": [
        "NOMARLIZE_LIST = ['url', 'email', 'percent', 'money', 'phone', 'user', 'time', 'date', 'number']\n",
        "ANNOTATE_LIST = ['hashtag', 'allcaps', 'elongated', 'repeated', 'emphasis', 'censored']\n",
        "\n",
        "\n",
        "f1_scores = {}\n",
        "\n",
        "for i in [3500]: #[2000, 2500, 3000]:\n",
        "\n",
        "    # Load data\n",
        "    train = pd.read_csv(\"/content/drive/My Drive/Dog_Whistle_Code/Data/Train/dog_whistle_train.csv\", encoding='utf-8')\n",
        "    train = train[:i]\n",
        "    dev = pd.read_csv(\"/content/drive/My Drive/Dog_Whistle_Code/Data/Validation/dog_whistle_dev.csv\", encoding='utf-8')\n",
        "    test = pd.read_csv(\"/content/drive/My Drive/Dog_Whistle_Code/Data/Test/dog_whistle_test.csv\", encoding='utf-8')\n",
        "\n",
        "    # Combine Image and Tweet Text\n",
        "    train[\"text\"] = combine_text(train)\n",
        "    dev[\"text\"] = combine_text(dev)\n",
        "    test[\"text\"] = combine_text(test)\n",
        "\n",
        "    # Clean data\n",
        "    train[\"text\"] = clean_text(train[\"text\"], NOMARLIZE_LIST, ANNOTATE_LIST)\n",
        "    dev[\"text\"] = clean_text(dev[\"text\"], NOMARLIZE_LIST, ANNOTATE_LIST)\n",
        "    test[\"text\"] = clean_text(test[\"text\"], NOMARLIZE_LIST, ANNOTATE_LIST)\n",
        "\n",
        "    # Rename label column \n",
        "    train[\"labels\"] = train[\"Unimodal_text_numeric\"]\n",
        "    dev[\"labels\"] = dev[\"Unimodal_text_numeric\"]\n",
        "    test[\"labels\"] = test[\"Primary_numeric_gt\"]\n",
        "\n",
        "    # Subset with necessary data\n",
        "    train_use = train[[\"text\", \"labels\", \"image_number\"]]\n",
        "    dev_use = dev[[\"text\", \"labels\", \"image_number\"]]\n",
        "    test_use = test[[\"text\", \"labels\", \"image_number\"]]\n",
        "\n",
        "    # Define fields\n",
        "    TEXT = Field(sequential=True, tokenize=\"spacy\", include_lengths=True) \n",
        "    LABEL = Field(sequential=False, use_vocab=False)\n",
        "    IDS = Field(sequential=False, use_vocab=False)\n",
        "    fields = [('text', TEXT), ('labels', LABEL), ('image_number', IDS)] \n",
        "\n",
        "    # Create datasets\n",
        "    train_set = Dataset([Example.fromlist(i, fields) for i in train_use.values.tolist()], fields=fields)\n",
        "    dev_set = Dataset([Example.fromlist(i, fields) for i in dev_use.values.tolist()], fields=fields)\n",
        "    test_set = Dataset([Example.fromlist(i, fields) for i in test_use.values.tolist()], fields=fields)\n",
        "\n",
        "    # Get training words and pretrained vectors (training words without vectors are initialized randomly)\n",
        "    TEXT.build_vocab(train_set, vectors='fasttext.simple.300d', unk_init=torch.Tensor.normal_)\n",
        "\n",
        "    INPUT_DIM = len(TEXT.vocab)\n",
        "    PAD_ID = TEXT.vocab.stoi[TEXT.pad_token]\n",
        "    UNK_ID = TEXT.vocab.stoi[TEXT.unk_token]\n",
        "\n",
        "    # Initialize LSTM model\n",
        "    model = LSTMClassifier(train_set, dev_set, test_set, PAD_ID, INPUT_DIM)  \n",
        "\n",
        "    # Load pretrained vector\n",
        "    model.embedding.weight.data.copy_(TEXT.vocab.vectors) \n",
        "\n",
        "    # Manually initialize UNK and PAD tokens as zero vectors (and NOT randomly as would be done otherwise)\n",
        "    model.embedding.weight.data[UNK_ID] = torch.zeros(300)\n",
        "    model.embedding.weight.data[PAD_ID] = torch.zeros(300)\n",
        "\n",
        "    #model test\n",
        "    train_dict = model.trainer(model, 0.0001, {\"patience\": 10, \"delta\": 0.01}, 50) \n",
        "    (results_dict, _, preds), ids = model.test(model)\n",
        "\n",
        "    df = pd.DataFrame([preds, ids]).T\n",
        "    df = df.rename(columns= {0: \"Predictions\", 1: \"image_number\"})\n",
        "\n",
        "    f1_scores[i] = results_dict[\"f1\"]\n",
        "\n",
        "\n",
        "    test = pd.read_csv(\"/content/drive/My Drive/Dog_Whistle_Code/Data/Test/dog_whistle_test.csv\", encoding='utf-8')\n",
        "    test = pd.merge(test, df, on=\"image_number\")\n",
        "\n",
        "\n",
        "    dw_df = test[test[\"Strategies_numeric_gt\"] == 2]\n",
        "    dw_results, _, _ = metrics(dw_df[\"Primary_numeric_gt\"], dw_df[\"Predictions\"])\n",
        "    print(dw_results)\n",
        "\n",
        "    explicit_df = test[test[\"Strategies_numeric_gt\"] == 1]\n",
        "    explicit_results, _, _ = metrics(explicit_df[\"Primary_numeric_gt\"], explicit_df[\"Predictions\"])\n",
        "    print(explicit_results)\n",
        "\n",
        "    none_df = test[test[\"Strategies_numeric_gt\"] == 0]\n",
        "    none_results, _, _ = metrics(none_df[\"Primary_numeric_gt\"], none_df[\"Predictions\"])\n",
        "    print(none_results)\n",
        "\n",
        "\n",
        "print(f1_scores)\n",
        "#np.save(os.path.join(\"/content/drive/My Drive/Dog_Whistle_Code/Fine_Tuned_Models/Text/LSTM/LSTM_datasize_results.npy\"), f1_scores)"
      ],
      "execution_count": null,
      "outputs": [
        {
          "output_type": "stream",
          "text": [
            "Reading twitter - 1grams ...\n",
            "Reading twitter - 2grams ...\n",
            "Reading english - 1grams ...\n",
            "Reading twitter - 1grams ...\n",
            "Reading twitter - 2grams ...\n",
            "Reading english - 1grams ...\n",
            "Reading twitter - 1grams ...\n",
            "Reading twitter - 2grams ...\n",
            "Reading english - 1grams ...\n"
          ],
          "name": "stdout"
        },
        {
          "output_type": "stream",
          "text": [
            "\rEpoch:   0%|          | 0/50 [00:00<?, ?it/s]"
          ],
          "name": "stderr"
        },
        {
          "output_type": "stream",
          "text": [
            "Processing epoch 1\n"
          ],
          "name": "stdout"
        },
        {
          "output_type": "stream",
          "text": [
            "\rEpoch:   2%|▏         | 1/50 [00:01<01:14,  1.52s/it]"
          ],
          "name": "stderr"
        },
        {
          "output_type": "stream",
          "text": [
            "Accuracy on train data:\t0.5312\n",
            "Batch dev loss: 0.9419197589159012\n",
            "Accuracy on dev data:\t0.6044\n",
            "Processing epoch 2\n"
          ],
          "name": "stdout"
        },
        {
          "output_type": "stream",
          "text": [
            "\rEpoch:   4%|▍         | 2/50 [00:02<01:11,  1.50s/it]"
          ],
          "name": "stderr"
        },
        {
          "output_type": "stream",
          "text": [
            "Accuracy on train data:\t0.5951\n",
            "Batch dev loss: 0.8883729353547096\n",
            "Accuracy on dev data:\t0.6239\n",
            "Processing epoch 3\n"
          ],
          "name": "stdout"
        },
        {
          "output_type": "stream",
          "text": [
            "\rEpoch:   6%|▌         | 3/50 [00:04<01:10,  1.49s/it]"
          ],
          "name": "stderr"
        },
        {
          "output_type": "stream",
          "text": [
            "Accuracy on train data:\t0.6523\n",
            "Batch dev loss: 0.7834524065256119\n",
            "Accuracy on dev data:\t0.7163\n",
            "Processing epoch 4\n"
          ],
          "name": "stdout"
        },
        {
          "output_type": "stream",
          "text": [
            "\rEpoch:   8%|▊         | 4/50 [00:05<01:08,  1.48s/it]"
          ],
          "name": "stderr"
        },
        {
          "output_type": "stream",
          "text": [
            "Accuracy on train data:\t0.6836\n",
            "Batch dev loss: 0.7567043676972389\n",
            "Accuracy on dev data:\t0.7037\n",
            "Processing epoch 5\n"
          ],
          "name": "stdout"
        },
        {
          "output_type": "stream",
          "text": [
            "\rEpoch:  10%|█         | 5/50 [00:07<01:06,  1.48s/it]"
          ],
          "name": "stderr"
        },
        {
          "output_type": "stream",
          "text": [
            "Accuracy on train data:\t0.7151\n",
            "Batch dev loss: 0.7270165234804153\n",
            "Accuracy on dev data:\t0.7305\n",
            "Processing epoch 6\n"
          ],
          "name": "stdout"
        },
        {
          "output_type": "stream",
          "text": [
            "\rEpoch:  12%|█▏        | 6/50 [00:08<01:04,  1.47s/it]"
          ],
          "name": "stderr"
        },
        {
          "output_type": "stream",
          "text": [
            "Accuracy on train data:\t0.7372\n",
            "Batch dev loss: 0.7298048585653305\n",
            "Accuracy on dev data:\t0.7154\n",
            "Processing epoch 7\n"
          ],
          "name": "stdout"
        },
        {
          "output_type": "stream",
          "text": [
            "\rEpoch:  14%|█▍        | 7/50 [00:10<01:03,  1.47s/it]"
          ],
          "name": "stderr"
        },
        {
          "output_type": "stream",
          "text": [
            "Accuracy on train data:\t0.7369\n",
            "Batch dev loss: 0.7061617821455002\n",
            "Accuracy on dev data:\t0.7305\n",
            "Processing epoch 8\n"
          ],
          "name": "stdout"
        },
        {
          "output_type": "stream",
          "text": [
            "\rEpoch:  16%|█▌        | 8/50 [00:11<01:01,  1.47s/it]"
          ],
          "name": "stderr"
        },
        {
          "output_type": "stream",
          "text": [
            "Accuracy on train data:\t0.7599\n",
            "Batch dev loss: 0.7209761887788773\n",
            "Accuracy on dev data:\t0.7387\n",
            "Processing epoch 9\n"
          ],
          "name": "stdout"
        },
        {
          "output_type": "stream",
          "text": [
            "\rEpoch:  18%|█▊        | 9/50 [00:13<00:59,  1.46s/it]"
          ],
          "name": "stderr"
        },
        {
          "output_type": "stream",
          "text": [
            "Accuracy on train data:\t0.7722\n",
            "Batch dev loss: 0.739792212843895\n",
            "Accuracy on dev data:\t0.7257\n",
            "Processing epoch 10\n"
          ],
          "name": "stdout"
        },
        {
          "output_type": "stream",
          "text": [
            "\rEpoch:  20%|██        | 10/50 [00:14<00:58,  1.46s/it]"
          ],
          "name": "stderr"
        },
        {
          "output_type": "stream",
          "text": [
            "Accuracy on train data:\t0.7845\n",
            "Batch dev loss: 0.7229087874293327\n",
            "Accuracy on dev data:\t0.7368\n",
            "Processing epoch 11\n"
          ],
          "name": "stdout"
        },
        {
          "output_type": "stream",
          "text": [
            "\rEpoch:  22%|██▏       | 11/50 [00:16<00:56,  1.46s/it]"
          ],
          "name": "stderr"
        },
        {
          "output_type": "stream",
          "text": [
            "Accuracy on train data:\t0.7948\n",
            "Batch dev loss: 0.6934195980429649\n",
            "Accuracy on dev data:\t0.7568\n",
            "Processing epoch 12\n"
          ],
          "name": "stdout"
        },
        {
          "output_type": "stream",
          "text": [
            "\rEpoch:  24%|██▍       | 12/50 [00:17<00:55,  1.46s/it]"
          ],
          "name": "stderr"
        },
        {
          "output_type": "stream",
          "text": [
            "Accuracy on train data:\t0.8136\n",
            "Batch dev loss: 0.6803746521472931\n",
            "Accuracy on dev data:\t0.7524\n",
            "Processing epoch 13\n"
          ],
          "name": "stdout"
        },
        {
          "output_type": "stream",
          "text": [
            "\rEpoch:  26%|██▌       | 13/50 [00:19<00:54,  1.46s/it]"
          ],
          "name": "stderr"
        },
        {
          "output_type": "stream",
          "text": [
            "Accuracy on train data:\t0.8251\n",
            "Batch dev loss: 0.7208217680454254\n",
            "Accuracy on dev data:\t0.7398\n",
            "Processing epoch 14\n",
            "Stopping early...\n",
            "Training complete!\n"
          ],
          "name": "stdout"
        },
        {
          "output_type": "display_data",
          "data": {
            "image/png": "[encoded data removed]",
            "text/plain": [
              "<Figure size 864x432 with 1 Axes>"
            ]
          },
          "metadata": {
            "tags": []
          }
        },
        {
          "output_type": "stream",
          "text": [
            "Training complete!\n",
            "{'mcc': 0.0, 'acc': 0.8571428571428571, 'confusion_matrix': array([[  0,   0],\n",
            "       [ 17, 102]]), 'precision': 1.0, 'recall': 0.923076923076923, 'f1': 0.923076923076923}\n",
            "{'mcc': 0.0, 'acc': 0.7878787878787878, 'confusion_matrix': array([[ 0,  0],\n",
            "       [14, 52]]), 'precision': 1.0, 'recall': 0.8813559322033898, 'f1': 0.8813559322033898}\n",
            "{'mcc': 0.06830955848266018, 'acc': 0.6782334384858044, 'confusion_matrix': array([[214,  52,   0,   2],\n",
            "       [  0,   0,   0,   0],\n",
            "       [  4,   8,   0,   0],\n",
            "       [ 28,   8,   0,   1]]), 'precision': 0.7743581852222308, 'recall': 0.7098092525991482, 'f1': 0.7098092525991482}\n",
            "{3500: 0.7018248108483498}\n"
          ],
          "name": "stdout"
        },
        {
          "output_type": "stream",
          "text": [
            "/usr/local/lib/python3.6/dist-packages/sklearn/metrics/_classification.py:1272: UndefinedMetricWarning: Precision is ill-defined and being set to 0.0 in labels with no predicted samples. Use `zero_division` parameter to control this behavior.\n",
            "  _warn_prf(average, modifier, msg_start, len(result))\n",
            "/usr/local/lib/python3.6/dist-packages/sklearn/metrics/_classification.py:900: RuntimeWarning: invalid value encountered in double_scalars\n",
            "  mcc = cov_ytyp / np.sqrt(cov_ytyt * cov_ypyp)\n"
          ],
          "name": "stderr"
        }
      ]
    }
  ]
}