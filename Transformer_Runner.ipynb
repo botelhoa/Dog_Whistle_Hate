{
  "nbformat": 4,
  "nbformat_minor": 0,
  "metadata": {
    "kernelspec": {
      "display_name": "Python 3",
      "language": "python",
      "name": "python3"
    },
    "language_info": {
      "codemirror_mode": {
        "name": "ipython",
        "version": 3
      },
      "file_extension": ".py",
      "mimetype": "text/x-python",
      "name": "python",
      "nbconvert_exporter": "python",
      "pygments_lexer": "ipython3",
      "version": "3.7.3"
    },
    "colab": {
      "name": "Transformer_Runner.ipynb",
      "provenance": [],
      "collapsed_sections": []
    },
    "accelerator": "GPU",
    "widgets": {
      "application/vnd.jupyter.widget-state+json": {
        "9d7808d62971440195f23edb2e0dad69": {
          "model_module": "@jupyter-widgets/controls",
          "model_name": "HBoxModel",
          "state": {
            "_view_name": "HBoxView",
            "_dom_classes": [],
            "_model_name": "HBoxModel",
            "_view_module": "@jupyter-widgets/controls",
            "_model_module_version": "1.5.0",
            "_view_count": null,
            "_view_module_version": "1.5.0",
            "box_style": "",
            "layout": "IPY_MODEL_fe7f218839154d14bef5a324054c144b",
            "_model_module": "@jupyter-widgets/controls",
            "children": [
              "IPY_MODEL_651dcc369ade471085c0b324a008006a",
              "IPY_MODEL_aa44f23ec4524ebeac678c93d73031cc"
            ]
          }
        },
        "fe7f218839154d14bef5a324054c144b": {
          "model_module": "@jupyter-widgets/base",
          "model_name": "LayoutModel",
          "state": {
            "_view_name": "LayoutView",
            "grid_template_rows": null,
            "right": null,
            "justify_content": null,
            "_view_module": "@jupyter-widgets/base",
            "overflow": null,
            "_model_module_version": "1.2.0",
            "_view_count": null,
            "flex_flow": null,
            "width": null,
            "min_width": null,
            "border": null,
            "align_items": null,
            "bottom": null,
            "_model_module": "@jupyter-widgets/base",
            "top": null,
            "grid_column": null,
            "overflow_y": null,
            "overflow_x": null,
            "grid_auto_flow": null,
            "grid_area": null,
            "grid_template_columns": null,
            "flex": null,
            "_model_name": "LayoutModel",
            "justify_items": null,
            "grid_row": null,
            "max_height": null,
            "align_content": null,
            "visibility": null,
            "align_self": null,
            "height": null,
            "min_height": null,
            "padding": null,
            "grid_auto_rows": null,
            "grid_gap": null,
            "max_width": null,
            "order": null,
            "_view_module_version": "1.2.0",
            "grid_template_areas": null,
            "object_position": null,
            "object_fit": null,
            "grid_auto_columns": null,
            "margin": null,
            "display": null,
            "left": null
          }
        },
        "651dcc369ade471085c0b324a008006a": {
          "model_module": "@jupyter-widgets/controls",
          "model_name": "FloatProgressModel",
          "state": {
            "_view_name": "ProgressView",
            "style": "IPY_MODEL_c25f5cf3550c45cd8e90dfdf582c0a19",
            "_dom_classes": [],
            "description": "Downloading: 100%",
            "_model_name": "FloatProgressModel",
            "bar_style": "success",
            "max": 710,
            "_view_module": "@jupyter-widgets/controls",
            "_model_module_version": "1.5.0",
            "value": 710,
            "_view_count": null,
            "_view_module_version": "1.5.0",
            "orientation": "horizontal",
            "min": 0,
            "description_tooltip": null,
            "_model_module": "@jupyter-widgets/controls",
            "layout": "IPY_MODEL_087ed607532e4496ad5bba9fa74abfd6"
          }
        },
        "aa44f23ec4524ebeac678c93d73031cc": {
          "model_module": "@jupyter-widgets/controls",
          "model_name": "HTMLModel",
          "state": {
            "_view_name": "HTMLView",
            "style": "IPY_MODEL_07851539bac042a0b6ac05e6df18023c",
            "_dom_classes": [],
            "description": "",
            "_model_name": "HTMLModel",
            "placeholder": "​",
            "_view_module": "@jupyter-widgets/controls",
            "_model_module_version": "1.5.0",
            "value": " 710/710 [00:58&lt;00:00, 12.1B/s]",
            "_view_count": null,
            "_view_module_version": "1.5.0",
            "description_tooltip": null,
            "_model_module": "@jupyter-widgets/controls",
            "layout": "IPY_MODEL_d30cd8d1c0da4545a6dc19d6f4a89f21"
          }
        },
        "c25f5cf3550c45cd8e90dfdf582c0a19": {
          "model_module": "@jupyter-widgets/controls",
          "model_name": "ProgressStyleModel",
          "state": {
            "_view_name": "StyleView",
            "_model_name": "ProgressStyleModel",
            "description_width": "initial",
            "_view_module": "@jupyter-widgets/base",
            "_model_module_version": "1.5.0",
            "_view_count": null,
            "_view_module_version": "1.2.0",
            "bar_color": null,
            "_model_module": "@jupyter-widgets/controls"
          }
        },
        "087ed607532e4496ad5bba9fa74abfd6": {
          "model_module": "@jupyter-widgets/base",
          "model_name": "LayoutModel",
          "state": {
            "_view_name": "LayoutView",
            "grid_template_rows": null,
            "right": null,
            "justify_content": null,
            "_view_module": "@jupyter-widgets/base",
            "overflow": null,
            "_model_module_version": "1.2.0",
            "_view_count": null,
            "flex_flow": null,
            "width": null,
            "min_width": null,
            "border": null,
            "align_items": null,
            "bottom": null,
            "_model_module": "@jupyter-widgets/base",
            "top": null,
            "grid_column": null,
            "overflow_y": null,
            "overflow_x": null,
            "grid_auto_flow": null,
            "grid_area": null,
            "grid_template_columns": null,
            "flex": null,
            "_model_name": "LayoutModel",
            "justify_items": null,
            "grid_row": null,
            "max_height": null,
            "align_content": null,
            "visibility": null,
            "align_self": null,
            "height": null,
            "min_height": null,
            "padding": null,
            "grid_auto_rows": null,
            "grid_gap": null,
            "max_width": null,
            "order": null,
            "_view_module_version": "1.2.0",
            "grid_template_areas": null,
            "object_position": null,
            "object_fit": null,
            "grid_auto_columns": null,
            "margin": null,
            "display": null,
            "left": null
          }
        },
        "07851539bac042a0b6ac05e6df18023c": {
          "model_module": "@jupyter-widgets/controls",
          "model_name": "DescriptionStyleModel",
          "state": {
            "_view_name": "StyleView",
            "_model_name": "DescriptionStyleModel",
            "description_width": "",
            "_view_module": "@jupyter-widgets/base",
            "_model_module_version": "1.5.0",
            "_view_count": null,
            "_view_module_version": "1.2.0",
            "_model_module": "@jupyter-widgets/controls"
          }
        },
        "d30cd8d1c0da4545a6dc19d6f4a89f21": {
          "model_module": "@jupyter-widgets/base",
          "model_name": "LayoutModel",
          "state": {
            "_view_name": "LayoutView",
            "grid_template_rows": null,
            "right": null,
            "justify_content": null,
            "_view_module": "@jupyter-widgets/base",
            "overflow": null,
            "_model_module_version": "1.2.0",
            "_view_count": null,
            "flex_flow": null,
            "width": null,
            "min_width": null,
            "border": null,
            "align_items": null,
            "bottom": null,
            "_model_module": "@jupyter-widgets/base",
            "top": null,
            "grid_column": null,
            "overflow_y": null,
            "overflow_x": null,
            "grid_auto_flow": null,
            "grid_area": null,
            "grid_template_columns": null,
            "flex": null,
            "_model_name": "LayoutModel",
            "justify_items": null,
            "grid_row": null,
            "max_height": null,
            "align_content": null,
            "visibility": null,
            "align_self": null,
            "height": null,
            "min_height": null,
            "padding": null,
            "grid_auto_rows": null,
            "grid_gap": null,
            "max_width": null,
            "order": null,
            "_view_module_version": "1.2.0",
            "grid_template_areas": null,
            "object_position": null,
            "object_fit": null,
            "grid_auto_columns": null,
            "margin": null,
            "display": null,
            "left": null
          }
        },
        "4b368ebc133349cca6e20e20cfc613d0": {
          "model_module": "@jupyter-widgets/controls",
          "model_name": "HBoxModel",
          "state": {
            "_view_name": "HBoxView",
            "_dom_classes": [],
            "_model_name": "HBoxModel",
            "_view_module": "@jupyter-widgets/controls",
            "_model_module_version": "1.5.0",
            "_view_count": null,
            "_view_module_version": "1.5.0",
            "box_style": "",
            "layout": "IPY_MODEL_9ba7645087664a7cbfbbe0b8cd152049",
            "_model_module": "@jupyter-widgets/controls",
            "children": [
              "IPY_MODEL_bcffdbcbf19849dea1f8489ceb4c1b62",
              "IPY_MODEL_03e94d74a19c4b58a51cf35ecebd0f66"
            ]
          }
        },
        "9ba7645087664a7cbfbbe0b8cd152049": {
          "model_module": "@jupyter-widgets/base",
          "model_name": "LayoutModel",
          "state": {
            "_view_name": "LayoutView",
            "grid_template_rows": null,
            "right": null,
            "justify_content": null,
            "_view_module": "@jupyter-widgets/base",
            "overflow": null,
            "_model_module_version": "1.2.0",
            "_view_count": null,
            "flex_flow": null,
            "width": null,
            "min_width": null,
            "border": null,
            "align_items": null,
            "bottom": null,
            "_model_module": "@jupyter-widgets/base",
            "top": null,
            "grid_column": null,
            "overflow_y": null,
            "overflow_x": null,
            "grid_auto_flow": null,
            "grid_area": null,
            "grid_template_columns": null,
            "flex": null,
            "_model_name": "LayoutModel",
            "justify_items": null,
            "grid_row": null,
            "max_height": null,
            "align_content": null,
            "visibility": null,
            "align_self": null,
            "height": null,
            "min_height": null,
            "padding": null,
            "grid_auto_rows": null,
            "grid_gap": null,
            "max_width": null,
            "order": null,
            "_view_module_version": "1.2.0",
            "grid_template_areas": null,
            "object_position": null,
            "object_fit": null,
            "grid_auto_columns": null,
            "margin": null,
            "display": null,
            "left": null
          }
        },
        "bcffdbcbf19849dea1f8489ceb4c1b62": {
          "model_module": "@jupyter-widgets/controls",
          "model_name": "FloatProgressModel",
          "state": {
            "_view_name": "ProgressView",
            "style": "IPY_MODEL_560aafadf5494cb1a744d2229ce89402",
            "_dom_classes": [],
            "description": "Downloading: 100%",
            "_model_name": "FloatProgressModel",
            "bar_style": "success",
            "max": 892728632,
            "_view_module": "@jupyter-widgets/controls",
            "_model_module_version": "1.5.0",
            "value": 892728632,
            "_view_count": null,
            "_view_module_version": "1.5.0",
            "orientation": "horizontal",
            "min": 0,
            "description_tooltip": null,
            "_model_module": "@jupyter-widgets/controls",
            "layout": "IPY_MODEL_06c2b08914a34698a536f5cf611ff34c"
          }
        },
        "03e94d74a19c4b58a51cf35ecebd0f66": {
          "model_module": "@jupyter-widgets/controls",
          "model_name": "HTMLModel",
          "state": {
            "_view_name": "HTMLView",
            "style": "IPY_MODEL_830c79149ba541919a2c9846c7f90b49",
            "_dom_classes": [],
            "description": "",
            "_model_name": "HTMLModel",
            "placeholder": "​",
            "_view_module": "@jupyter-widgets/controls",
            "_model_module_version": "1.5.0",
            "value": " 893M/893M [00:19&lt;00:00, 46.0MB/s]",
            "_view_count": null,
            "_view_module_version": "1.5.0",
            "description_tooltip": null,
            "_model_module": "@jupyter-widgets/controls",
            "layout": "IPY_MODEL_d6a29397addd4a0e83dfba6735be01ae"
          }
        },
        "560aafadf5494cb1a744d2229ce89402": {
          "model_module": "@jupyter-widgets/controls",
          "model_name": "ProgressStyleModel",
          "state": {
            "_view_name": "StyleView",
            "_model_name": "ProgressStyleModel",
            "description_width": "initial",
            "_view_module": "@jupyter-widgets/base",
            "_model_module_version": "1.5.0",
            "_view_count": null,
            "_view_module_version": "1.2.0",
            "bar_color": null,
            "_model_module": "@jupyter-widgets/controls"
          }
        },
        "06c2b08914a34698a536f5cf611ff34c": {
          "model_module": "@jupyter-widgets/base",
          "model_name": "LayoutModel",
          "state": {
            "_view_name": "LayoutView",
            "grid_template_rows": null,
            "right": null,
            "justify_content": null,
            "_view_module": "@jupyter-widgets/base",
            "overflow": null,
            "_model_module_version": "1.2.0",
            "_view_count": null,
            "flex_flow": null,
            "width": null,
            "min_width": null,
            "border": null,
            "align_items": null,
            "bottom": null,
            "_model_module": "@jupyter-widgets/base",
            "top": null,
            "grid_column": null,
            "overflow_y": null,
            "overflow_x": null,
            "grid_auto_flow": null,
            "grid_area": null,
            "grid_template_columns": null,
            "flex": null,
            "_model_name": "LayoutModel",
            "justify_items": null,
            "grid_row": null,
            "max_height": null,
            "align_content": null,
            "visibility": null,
            "align_self": null,
            "height": null,
            "min_height": null,
            "padding": null,
            "grid_auto_rows": null,
            "grid_gap": null,
            "max_width": null,
            "order": null,
            "_view_module_version": "1.2.0",
            "grid_template_areas": null,
            "object_position": null,
            "object_fit": null,
            "grid_auto_columns": null,
            "margin": null,
            "display": null,
            "left": null
          }
        },
        "830c79149ba541919a2c9846c7f90b49": {
          "model_module": "@jupyter-widgets/controls",
          "model_name": "DescriptionStyleModel",
          "state": {
            "_view_name": "StyleView",
            "_model_name": "DescriptionStyleModel",
            "description_width": "",
            "_view_module": "@jupyter-widgets/base",
            "_model_module_version": "1.5.0",
            "_view_count": null,
            "_view_module_version": "1.2.0",
            "_model_module": "@jupyter-widgets/controls"
          }
        },
        "d6a29397addd4a0e83dfba6735be01ae": {
          "model_module": "@jupyter-widgets/base",
          "model_name": "LayoutModel",
          "state": {
            "_view_name": "LayoutView",
            "grid_template_rows": null,
            "right": null,
            "justify_content": null,
            "_view_module": "@jupyter-widgets/base",
            "overflow": null,
            "_model_module_version": "1.2.0",
            "_view_count": null,
            "flex_flow": null,
            "width": null,
            "min_width": null,
            "border": null,
            "align_items": null,
            "bottom": null,
            "_model_module": "@jupyter-widgets/base",
            "top": null,
            "grid_column": null,
            "overflow_y": null,
            "overflow_x": null,
            "grid_auto_flow": null,
            "grid_area": null,
            "grid_template_columns": null,
            "flex": null,
            "_model_name": "LayoutModel",
            "justify_items": null,
            "grid_row": null,
            "max_height": null,
            "align_content": null,
            "visibility": null,
            "align_self": null,
            "height": null,
            "min_height": null,
            "padding": null,
            "grid_auto_rows": null,
            "grid_gap": null,
            "max_width": null,
            "order": null,
            "_view_module_version": "1.2.0",
            "grid_template_areas": null,
            "object_position": null,
            "object_fit": null,
            "grid_auto_columns": null,
            "margin": null,
            "display": null,
            "left": null
          }
        },
        "8a33acc45ca9474780fcbb2e010b50cb": {
          "model_module": "@jupyter-widgets/controls",
          "model_name": "HBoxModel",
          "state": {
            "_view_name": "HBoxView",
            "_dom_classes": [],
            "_model_name": "HBoxModel",
            "_view_module": "@jupyter-widgets/controls",
            "_model_module_version": "1.5.0",
            "_view_count": null,
            "_view_module_version": "1.5.0",
            "box_style": "",
            "layout": "IPY_MODEL_48f7644a2e7a4ef7ab21bbbb251ac766",
            "_model_module": "@jupyter-widgets/controls",
            "children": [
              "IPY_MODEL_e0d6a45078224597b1b3dda9a31e4f96",
              "IPY_MODEL_e752102e60a1498b875b68aa0635da06"
            ]
          }
        },
        "48f7644a2e7a4ef7ab21bbbb251ac766": {
          "model_module": "@jupyter-widgets/base",
          "model_name": "LayoutModel",
          "state": {
            "_view_name": "LayoutView",
            "grid_template_rows": null,
            "right": null,
            "justify_content": null,
            "_view_module": "@jupyter-widgets/base",
            "overflow": null,
            "_model_module_version": "1.2.0",
            "_view_count": null,
            "flex_flow": null,
            "width": null,
            "min_width": null,
            "border": null,
            "align_items": null,
            "bottom": null,
            "_model_module": "@jupyter-widgets/base",
            "top": null,
            "grid_column": null,
            "overflow_y": null,
            "overflow_x": null,
            "grid_auto_flow": null,
            "grid_area": null,
            "grid_template_columns": null,
            "flex": null,
            "_model_name": "LayoutModel",
            "justify_items": null,
            "grid_row": null,
            "max_height": null,
            "align_content": null,
            "visibility": null,
            "align_self": null,
            "height": null,
            "min_height": null,
            "padding": null,
            "grid_auto_rows": null,
            "grid_gap": null,
            "max_width": null,
            "order": null,
            "_view_module_version": "1.2.0",
            "grid_template_areas": null,
            "object_position": null,
            "object_fit": null,
            "grid_auto_columns": null,
            "margin": null,
            "display": null,
            "left": null
          }
        },
        "e0d6a45078224597b1b3dda9a31e4f96": {
          "model_module": "@jupyter-widgets/controls",
          "model_name": "FloatProgressModel",
          "state": {
            "_view_name": "ProgressView",
            "style": "IPY_MODEL_5d1f830e5cea4b7a91ccd47324c035f4",
            "_dom_classes": [],
            "description": "Downloading: 100%",
            "_model_name": "FloatProgressModel",
            "bar_style": "success",
            "max": 760289,
            "_view_module": "@jupyter-widgets/controls",
            "_model_module_version": "1.5.0",
            "value": 760289,
            "_view_count": null,
            "_view_module_version": "1.5.0",
            "orientation": "horizontal",
            "min": 0,
            "description_tooltip": null,
            "_model_module": "@jupyter-widgets/controls",
            "layout": "IPY_MODEL_31bbf99535324052b42833c2975d0ff0"
          }
        },
        "e752102e60a1498b875b68aa0635da06": {
          "model_module": "@jupyter-widgets/controls",
          "model_name": "HTMLModel",
          "state": {
            "_view_name": "HTMLView",
            "style": "IPY_MODEL_6421eb0ea40b43c29dcfa2d182b79fef",
            "_dom_classes": [],
            "description": "",
            "_model_name": "HTMLModel",
            "placeholder": "​",
            "_view_module": "@jupyter-widgets/controls",
            "_model_module_version": "1.5.0",
            "value": " 760k/760k [00:00&lt;00:00, 904kB/s]",
            "_view_count": null,
            "_view_module_version": "1.5.0",
            "description_tooltip": null,
            "_model_module": "@jupyter-widgets/controls",
            "layout": "IPY_MODEL_e485b92ee4c64fa3a2436c1ee1588c65"
          }
        },
        "5d1f830e5cea4b7a91ccd47324c035f4": {
          "model_module": "@jupyter-widgets/controls",
          "model_name": "ProgressStyleModel",
          "state": {
            "_view_name": "StyleView",
            "_model_name": "ProgressStyleModel",
            "description_width": "initial",
            "_view_module": "@jupyter-widgets/base",
            "_model_module_version": "1.5.0",
            "_view_count": null,
            "_view_module_version": "1.2.0",
            "bar_color": null,
            "_model_module": "@jupyter-widgets/controls"
          }
        },
        "31bbf99535324052b42833c2975d0ff0": {
          "model_module": "@jupyter-widgets/base",
          "model_name": "LayoutModel",
          "state": {
            "_view_name": "LayoutView",
            "grid_template_rows": null,
            "right": null,
            "justify_content": null,
            "_view_module": "@jupyter-widgets/base",
            "overflow": null,
            "_model_module_version": "1.2.0",
            "_view_count": null,
            "flex_flow": null,
            "width": null,
            "min_width": null,
            "border": null,
            "align_items": null,
            "bottom": null,
            "_model_module": "@jupyter-widgets/base",
            "top": null,
            "grid_column": null,
            "overflow_y": null,
            "overflow_x": null,
            "grid_auto_flow": null,
            "grid_area": null,
            "grid_template_columns": null,
            "flex": null,
            "_model_name": "LayoutModel",
            "justify_items": null,
            "grid_row": null,
            "max_height": null,
            "align_content": null,
            "visibility": null,
            "align_self": null,
            "height": null,
            "min_height": null,
            "padding": null,
            "grid_auto_rows": null,
            "grid_gap": null,
            "max_width": null,
            "order": null,
            "_view_module_version": "1.2.0",
            "grid_template_areas": null,
            "object_position": null,
            "object_fit": null,
            "grid_auto_columns": null,
            "margin": null,
            "display": null,
            "left": null
          }
        },
        "6421eb0ea40b43c29dcfa2d182b79fef": {
          "model_module": "@jupyter-widgets/controls",
          "model_name": "DescriptionStyleModel",
          "state": {
            "_view_name": "StyleView",
            "_model_name": "DescriptionStyleModel",
            "description_width": "",
            "_view_module": "@jupyter-widgets/base",
            "_model_module_version": "1.5.0",
            "_view_count": null,
            "_view_module_version": "1.2.0",
            "_model_module": "@jupyter-widgets/controls"
          }
        },
        "e485b92ee4c64fa3a2436c1ee1588c65": {
          "model_module": "@jupyter-widgets/base",
          "model_name": "LayoutModel",
          "state": {
            "_view_name": "LayoutView",
            "grid_template_rows": null,
            "right": null,
            "justify_content": null,
            "_view_module": "@jupyter-widgets/base",
            "overflow": null,
            "_model_module_version": "1.2.0",
            "_view_count": null,
            "flex_flow": null,
            "width": null,
            "min_width": null,
            "border": null,
            "align_items": null,
            "bottom": null,
            "_model_module": "@jupyter-widgets/base",
            "top": null,
            "grid_column": null,
            "overflow_y": null,
            "overflow_x": null,
            "grid_auto_flow": null,
            "grid_area": null,
            "grid_template_columns": null,
            "flex": null,
            "_model_name": "LayoutModel",
            "justify_items": null,
            "grid_row": null,
            "max_height": null,
            "align_content": null,
            "visibility": null,
            "align_self": null,
            "height": null,
            "min_height": null,
            "padding": null,
            "grid_auto_rows": null,
            "grid_gap": null,
            "max_width": null,
            "order": null,
            "_view_module_version": "1.2.0",
            "grid_template_areas": null,
            "object_position": null,
            "object_fit": null,
            "grid_auto_columns": null,
            "margin": null,
            "display": null,
            "left": null
          }
        }
      }
    }
  },
  "cells": [
    {
      "cell_type": "code",
      "metadata": {
        "id": "67KkJzjicDh8",
        "colab_type": "code",
        "colab": {}
      },
      "source": [
        "pip install transformers"
      ],
      "execution_count": null,
      "outputs": []
    },
    {
      "cell_type": "code",
      "metadata": {
        "id": "m0DNBHSIShzP",
        "colab_type": "code",
        "colab": {}
      },
      "source": [
        "pip install ekphrasis"
      ],
      "execution_count": null,
      "outputs": []
    },
    {
      "cell_type": "code",
      "metadata": {
        "id": "3otXFhZsEtOC",
        "colab_type": "code",
        "colab": {
          "base_uri": "https://localhost:8080/",
          "height": 35
        },
        "outputId": "161815b1-734b-4336-c403-6dffdf87fea2"
      },
      "source": [
        "from google.colab import drive\n",
        "drive.mount('/content/drive')"
      ],
      "execution_count": null,
      "outputs": [
        {
          "output_type": "stream",
          "text": [
            "Drive already mounted at /content/drive; to attempt to forcibly remount, call drive.mount(\"/content/drive\", force_remount=True).\n"
          ],
          "name": "stdout"
        }
      ]
    },
    {
      "cell_type": "code",
      "metadata": {
        "id": "m-ZQ9jttcxdQ",
        "colab_type": "code",
        "colab": {
          "base_uri": "https://localhost:8080/",
          "height": 72
        },
        "outputId": "f1ba0e4d-30f6-44c1-dcbf-c883ffbb8599"
      },
      "source": [
        "import pandas as pd\n",
        "import os\n",
        "import numpy as np\n",
        "import torch\n",
        "import functools\n",
        "import operator\n",
        "import matplotlib.pyplot as plt\n",
        "% matplotlib inline\n",
        "import seaborn as sns\n",
        "import pandas as pd\n",
        "import numpy as np\n",
        "\n",
        "from torch import nn, optim\n",
        "from torch.utils.data import TensorDataset, DataLoader, RandomSampler, SequentialSampler\n",
        "from transformers import BertForSequenceClassification, BertTokenizer, RobertaForSequenceClassification, RobertaTokenizer, DistilBertForSequenceClassification, DistilBertTokenizer, AlbertForSequenceClassification, AlbertTokenizer, ElectraForSequenceClassification, ElectraTokenizer, get_linear_schedule_with_warmup\n",
        "from transformers import BartForSequenceClassification, BartTokenizer, XLNetForSequenceClassification, XLNetTokenizer\n",
        "from sklearn.metrics import matthews_corrcoef, confusion_matrix, accuracy_score, f1_score, precision_score, recall_score\n",
        "from collections import defaultdict, Counter\n",
        "from tqdm import tqdm, trange\n",
        "from sklearn.metrics import matthews_corrcoef, confusion_matrix, precision_score, recall_score, f1_score, accuracy_score\n",
        "from ekphrasis.classes.preprocessor import TextPreProcessor\n",
        "from ekphrasis.classes.tokenizer import SocialTokenizer\n",
        "from ekphrasis.dicts.emoticons import emoticons\n"
      ],
      "execution_count": null,
      "outputs": [
        {
          "output_type": "stream",
          "text": [
            "/usr/local/lib/python3.6/dist-packages/statsmodels/tools/_testing.py:19: FutureWarning: pandas.util.testing is deprecated. Use the functions in the public API at pandas.testing instead.\n",
            "  import pandas.util.testing as tm\n"
          ],
          "name": "stderr"
        }
      ]
    },
    {
      "cell_type": "markdown",
      "metadata": {
        "id": "TUQDZVjsA2BS",
        "colab_type": "text"
      },
      "source": [
        "### Set up Helper Functions"
      ]
    },
    {
      "cell_type": "code",
      "metadata": {
        "id": "eRWhJJDHY2Cf",
        "colab_type": "code",
        "colab": {}
      },
      "source": [
        "def clean_text(data, normalize_list, annotate_list):\n",
        "        \"\"\"\n",
        "        This function preprocesses the text using the Ekphrasis library\n",
        "        \n",
        "        data: Pandas series object containing strings of text\n",
        "\n",
        "        normalize_list: list of data features to clean\n",
        "\n",
        "        annotate_list: list of data features to annotate\n",
        "        \"\"\"\n",
        "\n",
        "        text_processor = TextPreProcessor(\n",
        "            normalize= normalize_list,\n",
        "            annotate= annotate_list,\n",
        "            fix_html=True,\n",
        "            segmenter=\"twitter\", \n",
        "            unpack_hashtags=True,  \n",
        "            unpack_contractions=True,  \n",
        "            spell_correct_elong=True,  \n",
        "            tokenizer=SocialTokenizer(lowercase=True).tokenize,\n",
        "            dicts=[emoticons]\n",
        "        )\n",
        "\n",
        "        clean_data = data.map(lambda x: \" \".join(text_processor.pre_process_doc(x)))\n",
        "\n",
        "        return clean_data\n",
        "\n",
        "\n",
        "def early_stopping(val_loss_values, early_stop_vals):\n",
        "    \"\"\"\n",
        "    Determines whether or not the model will keep running based on the patience and delta given relative to the val loss\n",
        "    \"\"\"\n",
        "    if len(val_loss_values) > early_stop_vals[\"patience\"]:\n",
        "      if val_loss_values[-1] <= np.mean(np.array(val_loss_values[-1-early_stop_vals[\"patience\"]:-1])) - early_stop_vals[\"delta\"]:\n",
        "        return False\n",
        "      else:\n",
        "        return True\n",
        "    else:\n",
        "      return False\n",
        "\n",
        "\n",
        "def training_plot(train_loss_values, val_loss_values):\n",
        "    \"\"\"\n",
        "    Plots loss after each epoch\n",
        "\n",
        "    training_loss_values: list of floats; output from fine_tune function\n",
        "\n",
        "    val_loss_values: list of floats; output from fine_tune function\n",
        "    \"\"\"\n",
        "    sns.set(style='darkgrid')\n",
        "    plt.rcParams[\"figure.figsize\"] = (12,6)\n",
        "\n",
        "    plt.plot(train_loss_values, 'b-o', label=\"train\")\n",
        "    plt.plot(val_loss_values, 'g-o', label=\"valid\")\n",
        "\n",
        "    #plt.title(\"Training and Validation loss\")\n",
        "    plt.xlabel(\"Epoch\")\n",
        "    plt.ylabel(\"Loss\")\n",
        "    plt.legend()\n",
        "\n",
        "    #plt.savefig(\"dogwhistle_train_plot.png\",bbox_inches='tight')\n",
        "\n",
        "    return plt.show()\n",
        "\n",
        "\n",
        "def metrics(labels, preds, argmax_needed: bool = False):\n",
        "    \"\"\"\n",
        "    Returns the Matthew's correlation coefficient, accuracy rate, true positive rate, true negative rate, false positive rate, false negative rate, precission, recall, and f1 score\n",
        "    \n",
        "    labels: list of correct labels\n",
        "\n",
        "    pred: list of model predictions\n",
        "    \"\"\"\n",
        "    labels = labels\n",
        "    preds = preds\n",
        "\n",
        "    if argmax_needed == True:\n",
        "        preds = np.argmax(preds, axis=1).flatten()\n",
        "\n",
        "    mcc = matthews_corrcoef(labels, preds)\n",
        "    acc = accuracy_score(labels, preds)\n",
        "    cm = confusion_matrix(labels, preds)\n",
        "\n",
        "    f1 = f1_score(labels, preds, average= \"weighted\")\n",
        "    precision = precision_score(labels, preds, average= \"weighted\")\n",
        "    recall = recall_score(labels, preds, average= \"weighted\")\n",
        "\n",
        "    results = {\n",
        "        \"mcc\": mcc,\n",
        "        \"acc\": acc,\n",
        "        \"confusion_matrix\": cm,\n",
        "        \"precision\": precision,\n",
        "        \"recall\": recall,\n",
        "        \"f1\": f1,\n",
        "    }\n",
        "    \n",
        "    return results, labels, preds\n",
        "\n",
        "\n",
        "def confusion_matrix_plotter(results, save_name, x_tick_labels, y_tick_labels, color):\n",
        "    \"\"\"\n",
        "    Plots confusion matrix\n",
        "\n",
        "    results: dictionary item containing key of confusion matrix (output of sklearn confusion_matrix())\n",
        "\n",
        "    x_tick_labels: list of tick labels on x axis\n",
        "\n",
        "    y_tick_labels: list of tick labels on y axis\n",
        "\n",
        "    save_name: name of image to be produced with .png\n",
        "\n",
        "    color: color selection from matplotlib cmap choices: https://matplotlib.org/3.1.0/tutorials/colors/colormaps.html\n",
        "    \"\"\"\n",
        "\n",
        "    df_cm = pd.DataFrame(results.ravel()[0][\"confusion_matrix\"])\n",
        "\n",
        "    fig = plt.figure(figsize=(16, 12))\n",
        "    \n",
        "    plt.rc('axes', labelsize=14)  \n",
        "    plt.rc('xtick', labelsize=12)   \n",
        "    plt.rc('ytick', labelsize=12)       \n",
        "\n",
        "    #plt.subplot(2, 2, 1)\n",
        "    g1 = sns.heatmap(df_cm, annot=True, fmt='g', cmap=color)\n",
        "    g1.set_xlabel('Predicted Label')\n",
        "    g1.set_ylabel('True Label', rotation=0) \n",
        "    g1.xaxis.set_ticklabels(x_tick_labels, rotation=0) \n",
        "    g1.yaxis.set_ticklabels(y_tick_labels, rotation=0) \n",
        "\n",
        "    plt.show()\n",
        "\n",
        "    return fig.savefig(save_name,bbox_inches='tight')\n",
        "\n",
        "\n",
        "def combine_text(df):\n",
        "    \"\"\"\n",
        "    Combines tweet and image text into one column\n",
        "\n",
        "    df: Dataframe which holds the data\n",
        "    \"\"\"\n",
        "    combined_text = []\n",
        "\n",
        "    for row_num in range(len(df)):\n",
        "        tweet_text = df.loc[row_num, \"tweet_text\"]\n",
        "        image_text = df.loc[row_num, \"img_text\"]\n",
        "        if type(image_text) == str:\n",
        "            combined_text.append(tweet_text + image_text)\n",
        "        else:\n",
        "            combined_text.append(tweet_text)\n",
        "\n",
        "    return combined_text\n"
      ],
      "execution_count": null,
      "outputs": []
    },
    {
      "cell_type": "markdown",
      "metadata": {
        "id": "LfJd1uG0A9gY",
        "colab_type": "text"
      },
      "source": [
        "### Load Data"
      ]
    },
    {
      "cell_type": "code",
      "metadata": {
        "id": "Xtc2cy6hCb94",
        "colab_type": "code",
        "colab": {}
      },
      "source": [
        "#Load data for pretraining\n",
        "# df = pd.read_csv(\"/content/drive/My Drive/Dog_Whistle_Code/Data/labeled_data.csv\", encoding='utf-8')\n",
        "# train, _, dev = stratify(df, \"hate_speech\", [0.9, 0.1])"
      ],
      "execution_count": null,
      "outputs": []
    },
    {
      "cell_type": "code",
      "metadata": {
        "id": "pLA0fzwxcDiX",
        "colab_type": "code",
        "colab": {}
      },
      "source": [
        "train = pd.read_csv(\"/content/drive/My Drive/Dog_Whistle_Code/Data/Train/dog_whistle_train.csv\", encoding='utf-8')\n",
        "dev = pd.read_csv(\"/content/drive/My Drive/Dog_Whistle_Code/Data/Validation/dog_whistle_dev.csv\", encoding='utf-8')\n",
        "test = pd.read_csv(\"/content/drive/My Drive/Dog_Whistle_Code/Data/Test/dog_whistle_test.csv\", encoding='utf-8')"
      ],
      "execution_count": null,
      "outputs": []
    },
    {
      "cell_type": "code",
      "metadata": {
        "id": "Y5Re-smAmwO2",
        "colab_type": "code",
        "colab": {}
      },
      "source": [
        "train[\"combined_text\"] = combine_text(train)\n",
        "dev[\"combined_text\"] = combine_text(dev)\n",
        "test[\"combined_text\"] = combine_text(test)"
      ],
      "execution_count": null,
      "outputs": []
    },
    {
      "cell_type": "code",
      "metadata": {
        "id": "h70DVOxe4fgB",
        "colab_type": "code",
        "colab": {}
      },
      "source": [
        "#train = train[[\"image_number\", \"combined_text\", \"Unimodal_text_numeric\", \"Primary_numeric_gt\"]]\n",
        "#dev = dev[[\"image_number\", \"combined_text\", \"Unimodal_text_numeric\", \"Primary_numeric_gt\"]] \n",
        "#test = test[[\"image_number\", \"combined_text\", \"Unimodal_text_numeric\", \"Primary_numeric_gt\"]] "
      ],
      "execution_count": null,
      "outputs": []
    },
    {
      "cell_type": "code",
      "metadata": {
        "id": "HppZFVLTLsSt",
        "colab_type": "code",
        "colab": {}
      },
      "source": [
        "# from sklearn.utils import shuffle\n",
        "# train = shuffle(train)"
      ],
      "execution_count": null,
      "outputs": []
    },
    {
      "cell_type": "markdown",
      "metadata": {
        "id": "5tgdIi5dBASE",
        "colab_type": "text"
      },
      "source": [
        "### Inspect Text Length"
      ]
    },
    {
      "cell_type": "code",
      "metadata": {
        "id": "Sq4lwPiGnGwd",
        "colab_type": "code",
        "colab": {
          "base_uri": "https://localhost:8080/",
          "height": 502
        },
        "outputId": "7e3bcb6e-ccb4-46dc-d28b-1e7aa9b3cfc8"
      },
      "source": [
        "from matplotlib import pyplot as plt\n",
        "import seaborn as sns\n",
        "\n",
        "tweet_lens = []\n",
        "\n",
        "for i in train[\"combined_text\"]:\n",
        "  tokens = i.split()\n",
        "  tweet_lens.append(len(tokens))\n",
        "\n",
        "#visualize word count distributions\n",
        "fig = plt.figure(figsize=(10, 8))\n",
        "g1 = sns.distplot(tweet_lens)\n",
        "\n",
        "g1.set_xlabel('Tweet Word Count')\n",
        "g1.set_ylabel('Frequency Density')\n",
        "\n",
        "fig.savefig('tweet_length_distribution.png',bbox_inches='tight')"
      ],
      "execution_count": null,
      "outputs": [
        {
          "output_type": "display_data",
          "data": {
            "image/png": "[encoded data removed]",
            "text/plain": [
              "<Figure size 720x576 with 1 Axes>"
            ]
          },
          "metadata": {
            "tags": []
          }
        }
      ]
    },
    {
      "cell_type": "code",
      "metadata": {
        "id": "gfDAy_R9qdOG",
        "colab_type": "code",
        "colab": {
          "base_uri": "https://localhost:8080/",
          "height": 35
        },
        "outputId": "e1c8f4b4-adff-44fe-aea4-1c46b9412aee"
      },
      "source": [
        "train[\"lengths\"] = tweet_lens\n",
        "\n",
        "a = train[train[\"lengths\"] > 100]\n",
        "len(a)"
      ],
      "execution_count": null,
      "outputs": [
        {
          "output_type": "execute_result",
          "data": {
            "text/plain": [
              "25"
            ]
          },
          "metadata": {
            "tags": []
          },
          "execution_count": 12
        }
      ]
    },
    {
      "cell_type": "markdown",
      "metadata": {
        "id": "fODRYozbBHuk",
        "colab_type": "text"
      },
      "source": [
        "### Run Model"
      ]
    },
    {
      "cell_type": "code",
      "metadata": {
        "id": "CAgcZ2RYcDib",
        "colab_type": "code",
        "colab": {}
      },
      "source": [
        "class TransformerClassifier(nn.Module):\n",
        "    def __init__(self, model, num_labels: int, pad_length: int= 64, batch_size: int = 32):\n",
        "        \"\"\"\n",
        "        model: From HuggingFace transformers library\n",
        "\n",
        "        num_labels (int): Number of annotation classes\n",
        "\n",
        "        pad_length (int): Max sentence length. Defaulted to 64.\n",
        "\n",
        "        batch_size (int): Number of sentences in batch. Default is 32.\n",
        "        \"\"\"\n",
        "        super(TransformerClassifier, self).__init__()\n",
        "        self.model_types = {\n",
        "          \"AlBERT\": [AlbertForSequenceClassification, AlbertTokenizer, 'albert-xxlarge-v2'],  # 'albert-xlarge-v2' \"albert-large-v2\" 'albert-base-v2' 'albert-xxlarge-v2'\n",
        "          \"BART\": [BartForSequenceClassification, BartTokenizer, \"bart-large\"], \n",
        "          \"BERT\": [BertForSequenceClassification, BertTokenizer, 'bert-large-uncased'], #'bert-base-uncased'\n",
        "          \"DistilBERT\": [DistilBertForSequenceClassification, DistilBertTokenizer, 'distilbert-base-cased'], #'/content/drive/My Drive/Dog_Whistle_Code/Fine_Tuned_Models/Text/DistilBERT'],# 'distilbert-base-cased'], #\n",
        "          \"Electra\": [ElectraForSequenceClassification, ElectraTokenizer, \"google/electra-large-discriminator\"], #\"google/electra-small-discriminator\"\n",
        "          \"RoBERTa\": [RobertaForSequenceClassification, RobertaTokenizer, 'roberta-large'], #'roberta-base'\n",
        "          \"XLNet\": [XLNetForSequenceClassification, XLNetTokenizer, \"xlnet-large-cased\"], #\"xlnet-base-cased\"\n",
        "          } \n",
        "        self.model_selection = model\n",
        "        self.device = torch.device('cuda' if torch.cuda.is_available() else 'cpu')\n",
        "        self.model = self.model_types[self.model_selection][0].from_pretrained(self.model_types[self.model_selection][2], num_labels = num_labels).to(self.device)\n",
        "        self.seed_val = 22\n",
        "        self.pad_length = pad_length\n",
        "        self.batch_size = batch_size\n",
        "\n",
        "        #random.seed(self.seed_val)\n",
        "        np.random.seed(self.seed_val)\n",
        "        torch.manual_seed(self.seed_val)\n",
        "        if self.device == 'cuda':\n",
        "            torch.cuda.manual_seed_all(self.seed_val)\n",
        "\n",
        "    def preprocessor(self, sequence, labels):\n",
        "        \"\"\"\n",
        "        This function converts a string of text into a tokenized format compatible with the selected model\n",
        "\n",
        "        sequence: An iterable series of data (i.e. Pandas Series, list..) where elements are strings\n",
        "\n",
        "        labels: Pandas series containing data annotations\n",
        "        \"\"\"\n",
        "        \n",
        "        self.tokenizer = self.model_types[self.model_selection][1].from_pretrained(self.model_types[self.model_selection][2])\n",
        "\n",
        "        indexed_tokens = []\n",
        "        attention_masks = []\n",
        "\n",
        "\n",
        "        for counter, sentence in enumerate(sequence):\n",
        "            if counter % 1000 == 0:\n",
        "                print(\"Processing row {}\".format(counter))\n",
        "            if counter == len(sequence):\n",
        "                print(\"Done!\")\n",
        "\n",
        "            encoded_dict = self.tokenizer.encode_plus(\n",
        "                      sentence,            \n",
        "                      add_special_tokens = True,\n",
        "                      max_length = self.pad_length,         \n",
        "                      pad_to_max_length = True,\n",
        "                      return_attention_mask = True,  \n",
        "                      return_tensors = 'pt',   \n",
        "                  )\n",
        "  \n",
        "            indexed_tokens.append(encoded_dict['input_ids'])\n",
        "            attention_masks.append(encoded_dict['attention_mask'])\n",
        "\n",
        "        return self.batcher(torch.cat(indexed_tokens, dim=0), torch.cat(attention_masks, dim=0), labels)\n",
        "\n",
        "\n",
        "    def batcher(self, indexed_tokens, attention_masks, labels):\n",
        "        \"\"\"\n",
        "        This function creates batches of a specified size to save on memory\n",
        "\n",
        "        indexed_tokens: Tokenized text output by model preprocesser\n",
        "\n",
        "        attention_masks: Attention masks output by model preprocesser\n",
        "\n",
        "        labels: Pandas series containing data annotations\n",
        "        \"\"\"\n",
        "\n",
        "        data = TensorDataset(indexed_tokens, attention_masks, labels)\n",
        "        sampler = SequentialSampler(data)\n",
        "        dataloader = DataLoader(data, sampler=sampler, batch_size = self.batch_size)\n",
        "\n",
        "        return dataloader\n",
        "\n",
        "\n",
        "    def fine_tune(self, train_data, train_labels, dev_data, dev_labels, normalize_list, annotate_list, early_stop_vals: dict, epochs: int = 3, learning_rate: float = 2e-5, weight_decay: float = 0.1, warmup: float = 0.06):   \n",
        "        \"\"\"\n",
        "        Updates pre-trained model's weights based on given dataset\n",
        "\n",
        "        train_data: Pandas series object containing text data for train set\n",
        "\n",
        "        train_labels: Pandas series object containing ground truth annotations for train set\n",
        "\n",
        "        dev_data: Pandas series object containing text data for dev set\n",
        "\n",
        "        dev_labels: Pandas series object containing ground truth annotations for dev set\n",
        "\n",
        "        normalize_list: list of data features to clean\n",
        "\n",
        "        annotate_list: list of data features to annotate\n",
        "\n",
        "        early_stopping: Dictionary containing patience value (int) and delta value (float). The patience determines the number of epochs to wait to achieve the given delta\n",
        "\n",
        "        epochs (int): Number of times to run through all batches. Default value is 3 according to 2-4 recommended in original BERT paper.\n",
        "\n",
        "        learning_rate (float): Default value is 2e-5 according to recommended value from original BERT paper.\n",
        "\n",
        "        weight decay (float): Default value is 0.1 \n",
        "\n",
        "        warmup (float): Default value is 0.06; percentage of training steps in warmup\n",
        "        \"\"\"\n",
        "    \n",
        "        #self.train_labels = torch.Tensor(train_labels.values).to(torch.int64)\n",
        "        #self.dev_labels = torch.Tensor(dev_labels.values).to(torch.int64)\n",
        "        \n",
        "        #clean_train_data = clean_text(train_data, normalize_list, annotate_list)\n",
        "        #clean_val_data = clean_text(dev_data, normalize_list, annotate_list)\n",
        "        self.train_dataloader = self.preprocessor(clean_text(train_data, normalize_list, annotate_list), torch.Tensor(train_labels.values).to(torch.int64))\n",
        "        self.val_dataloader = self.preprocessor(clean_text(dev_data, normalize_list, annotate_list), torch.Tensor(dev_labels.values).to(torch.int64))\n",
        "\n",
        "        self.optimizer = optim.AdamW(self.model.parameters(), lr = learning_rate, weight_decay = weight_decay)\n",
        "        self.scheduler = get_linear_schedule_with_warmup(self.optimizer, num_warmup_steps = warmup * (len(self.train_dataloader) * epochs), num_training_steps = (1-warmup) * (len(self.train_dataloader) * epochs))\n",
        "\n",
        "        train_loss_values, val_loss_values, train_acc_values, val_acc_values = [], [], [], []\n",
        "\n",
        "        for epoch in trange(epochs, desc= \"Epoch\"):\n",
        "            if early_stopping(val_loss_values, early_stop_vals) == False:\n",
        "                print('======== Epoch {:} / {:} ========'.format(epoch + 1, epochs))\n",
        "                print('Training...')\n",
        "\n",
        "                train_total_loss, train_total_len, train_num_correct = 0, 0, 0\n",
        "\n",
        "                self.model.train()\n",
        "\n",
        "                for step, batch in enumerate(self.train_dataloader):\n",
        "                    if step % 50 == 0:\n",
        "                        print(\"Processing batch...{}\".format(step))\n",
        "                        print(\"  Batch {:>5,}  of  {:>5,}.\".format(step, len(self.train_dataloader)))\n",
        "\n",
        "                    train_total_len += batch[0].shape[0]\n",
        "                    b_input_ids, b_input_mask, b_labels = tuple(t.to(self.device) for t in batch)\n",
        "\n",
        "                    self.model.zero_grad()  \n",
        "\n",
        "                    outputs = self.model(input_ids=b_input_ids, attention_mask=b_input_mask, labels=b_labels.unsqueeze(0))\n",
        "\n",
        "                    train_total_loss += outputs[0].item()\n",
        "                    outputs[0].backward()\n",
        "\n",
        "                    pred = outputs[1].argmax(1, keepdim=True).float()\n",
        "                    correct_tensor = pred.eq(b_labels.float().view_as(pred))\n",
        "                    correct = np.squeeze(correct_tensor.cpu().numpy())\n",
        "                    train_num_correct += np.sum(correct)\n",
        "\n",
        "                    torch.nn.utils.clip_grad_norm_(self.model.parameters(), 1.0)\n",
        "                    self.optimizer.step()\n",
        "                    self.scheduler.step()\n",
        "\n",
        "                train_acc = train_num_correct / train_total_len\n",
        "                train_acc_values.append(train_acc)\n",
        "                avg_train_loss = train_total_loss / len(self.train_dataloader)            \n",
        "                train_loss_values.append(avg_train_loss)\n",
        "\n",
        "                print()\n",
        "                print(\"Running Validation...\")\n",
        "                print()\n",
        "\n",
        "                val_total_loss, val_total_len, num_correct = 0, 0, 0 \n",
        "\n",
        "                self.model.eval()\n",
        "\n",
        "                for batch in self.val_dataloader:\n",
        "                    val_total_len += batch[0].shape[0]\n",
        "                    b_input_ids, b_input_mask, b_labels = tuple(t.to(self.device) for t in batch)\n",
        "\n",
        "                    with torch.no_grad():        \n",
        "\n",
        "                        outputs = self.model(b_input_ids, attention_mask=b_input_mask, labels=b_labels.unsqueeze(0)) #Are labels needed?\n",
        "  \n",
        "                    val_total_loss += outputs[0].item()\n",
        "\n",
        "                    pred = outputs[1].argmax(1, keepdim=True).float()\n",
        "                    correct_tensor = pred.eq(b_labels.float().view_as(pred))\n",
        "                    correct = np.squeeze(correct_tensor.cpu().numpy())\n",
        "                    num_correct += np.sum(correct)\n",
        "\n",
        "                val_acc = num_correct / val_total_len\n",
        "                val_acc_values.append(val_acc)\n",
        "                avg_val_loss = val_total_loss / len(self.val_dataloader)  \n",
        "                val_loss_values.append(avg_val_loss)\n",
        "\n",
        "                #print(f\"Epoch | Train Accuracy | Validation Accuracy | Training Loss | Validation Loss\")\n",
        "                print(\"Epoch | Train Accuracy | Validation Accuracy | Training Loss | Validation Loss\")\n",
        "                print(f\"{epoch+1:3d} |    {train_acc:.3f}    |       {val_acc:.3f}       |    {avg_train_loss:.3f}    |     {avg_val_loss:.3f}\")\n",
        "                print()\n",
        "\n",
        "                if epoch == (epochs-1):\n",
        "                    training_plot(train_loss_values, val_loss_values)\n",
        "                    training_dict = {\"Train Accuracy\": train_acc_values, \"Train Loss\": train_loss_values, \"Val Accuracy\": val_acc_values, \"Val Loss\": val_loss_values}\n",
        "                    print(\"Training complete!\")\n",
        "                    return training_dict#, self.tokenizer\n",
        "                else:\n",
        "                    continue\n",
        "      \n",
        "            else:\n",
        "                print(\"Stopping early...\")\n",
        "                training_plot(train_loss_values, val_loss_values)\n",
        "                training_dict = {\"Train Accuracy\": train_acc_values, \"Train Loss\": train_loss_values, \"Val Accuracy\": val_acc_values, \"Val Loss\": val_loss_values}\n",
        "                print(\"Training complete!\")\n",
        "                return training_dict#, self.tokenizer\n",
        "\n",
        "\n",
        "    def test(self, test_data, test_labels, normalize_list, annotate_list):\n",
        "        \"\"\"\n",
        "        Tests the model's performance based on a several metrics\n",
        "\n",
        "        test_data: Pandas series object containing text data\n",
        "\n",
        "        test_labels: Pandas series object containing labels\n",
        "\n",
        "        normalize_list: list of data features to clean\n",
        "\n",
        "        annotate_list: list of data features to annotate\n",
        "        \"\"\"\n",
        "        self.test_labels = torch.Tensor(test_labels.values).to(torch.int64)\n",
        "\n",
        "        clean_test_data = clean_text(test_data, normalize_list, annotate_list)\n",
        "        self.test_dataloader = self.preprocessor(clean_test_data, self.test_labels)\n",
        "    \n",
        "        print('Predicting labels for {} sentences...'.format(len(self.test_labels)))\n",
        "\n",
        "        self.model.eval()\n",
        "\n",
        "        predictions, true_labels = [], []\n",
        "\n",
        "        for batch in self.test_dataloader:\n",
        "            b_input_ids, b_input_mask, b_labels = tuple(t.to(self.device) for t in batch)\n",
        "      \n",
        "            with torch.no_grad():\n",
        "                outputs = self.model(b_input_ids, attention_mask=b_input_mask)\n",
        "\n",
        "            logits = outputs[0].detach().cpu().numpy()\n",
        "            label_ids = b_labels.to('cpu').numpy()\n",
        "\n",
        "            predictions.append(logits)\n",
        "            true_labels.append(label_ids)\n",
        "\n",
        "        print('    DONE.')\n",
        "\n",
        "        predictions = functools.reduce(operator.iconcat, predictions, [])\n",
        "        true_labels = functools.reduce(operator.iconcat, true_labels, [])\n",
        "    \n",
        "        return metrics(true_labels, predictions, argmax_needed= True)\n",
        "\n",
        "\n",
        "    def save(self, output_directory, training_dict, labels, preds, results):\n",
        "        \"\"\"\n",
        "        Saves PyTorch Model and other outputs\n",
        "        \n",
        "        output_directory: Directory to folder to save file in\n",
        "\n",
        "        training_dict: Dictionary of training and validation values \n",
        "\n",
        "        labels: List of labels for test set\n",
        "\n",
        "        preds: List of model predictions after passed through argmax()\n",
        "\n",
        "        results: Dictionary of metrics\n",
        "\n",
        "        tokenizer: Tokenizer to be saved. Defaulted to None.\n",
        "        \"\"\"\n",
        "\n",
        "        output_directory = os.path.join(output_directory, self.model_selection)\n",
        "        \n",
        "        if not os.path.exists(output_directory):\n",
        "            os.makedirs(output_directory)\n",
        "        \n",
        "        os.chdir(output_directory)\n",
        "\n",
        "        np.save(self.model_selection+\"_dogwhistle_train_results.npy\", training_dict) #save training dict\n",
        "        np.save(self.model_selection+\"_dogwhistle_test_results.npy\", results) #save test metrics\n",
        "        \n",
        "        test_predictions = pd.DataFrame([labels, preds]) #save predictions and labels \n",
        "        test_predictions = test_predictions.T\n",
        "        test_predictions = test_predictions.rename(columns={0: 'Labels', 1: 'Predictions'})\n",
        "        test_predictions.to_csv(self.model_selection+\"_dogwhistle_predictions.csv\")\n",
        "\n",
        "        #save models\n",
        "        model_to_save = self.model.module if hasattr(self.model, 'module') else self.model \n",
        "        model_to_save.save_pretrained(output_directory) \n",
        "        self.tokenizer.save_pretrained(output_directory)\n",
        "\n",
        "        return print(\"Saving complete.\")"
      ],
      "execution_count": null,
      "outputs": []
    },
    {
      "cell_type": "code",
      "metadata": {
        "id": "DOdkQziucDig",
        "colab_type": "code",
        "colab": {}
      },
      "source": [
        "#RoBERTa fine-tuning hyperparameters for GLUE: \n",
        "NORMALIZE_LIST = ['url', 'email', 'percent', 'money', 'phone', 'user', 'time', 'date', 'number']\n",
        "ANNOTATE_LIST = ['hashtag', 'allcaps', 'elongated', 'repeated', 'emphasis', 'censored']\n",
        "LEARNING_RATE = [1e-5, 2e-5, 3e-5]\n",
        "N_EPOCHS = 10 \n",
        "EARLY_STOPPING = {\"patience\": 2, \"delta\": 0.005} \n",
        "N_LABELS =  4\n",
        "PAD_LENGTH = 100 #250\n",
        "BATCH_SIZE = [16, 32, 64]\n",
        "WEIGHT_DECAY = 0.1 \n",
        "WARMUP = 0.06 \n",
        "OUTPUT_DIR = \"/content/drive/My Drive/Dog_Whistle_Code/Fine_Tuned_Models/Text\""
      ],
      "execution_count": null,
      "outputs": []
    },
    {
      "cell_type": "markdown",
      "metadata": {
        "id": "X8Wq9xB-Rt84",
        "colab_type": "text"
      },
      "source": [
        "### Model Running"
      ]
    },
    {
      "cell_type": "code",
      "metadata": {
        "id": "x0woTyXpSjdW",
        "colab_type": "code",
        "colab": {}
      },
      "source": [
        "#.52 gb before this cell is run\n",
        "#this cell adds 1.18 gigs\n",
        "# clean_train_data = clean_text(train[\"combined_text\"], NORMALIZE_LIST, ANNOTATE_LIST)\n",
        "# clean_val_data = clean_text(dev[\"combined_text\"], NORMALIZE_LIST, ANNOTATE_LIST)"
      ],
      "execution_count": null,
      "outputs": []
    },
    {
      "cell_type": "code",
      "metadata": {
        "id": "84UMM97pS5j7",
        "colab_type": "code",
        "colab": {}
      },
      "source": [
        "#this cell adds .63\n",
        "# clean_train_data2 = clean_text(train[\"combined_text\"], [\"url\", \"hashtag\", \"user\"], [])\n",
        "# clean_val_data2 = clean_text(dev[\"combined_text\"], [\"url\", \"hashtag\", \"user\"], [])"
      ],
      "execution_count": null,
      "outputs": []
    },
    {
      "cell_type": "code",
      "metadata": {
        "id": "iAZTzyjxiuJI",
        "colab_type": "code",
        "colab": {
          "base_uri": "https://localhost:8080/",
          "height": 35
        },
        "outputId": "a6b39752-8292-4ff8-ce3a-6a21b4b9c710"
      },
      "source": [
        "# #Pretrain models\n",
        "#Classifier = TransformerClassifier(\"DistilBERT\", N_LABELS, PAD_LENGTH, 16) \n",
        "#train_dict, tokenizer = Classifier.fine_tune(train[\"tweet\"], train[\"hate_speech\"], dev[\"tweet\"], dev[\"hate_speech\"], NORMALIZE_LIST, ANNOTATE_LIST, EARLY_STOPPING, N_EPOCHS, 1e-5, WEIGHT_DECAY, WARMUP) \n",
        "#results, labels, preds = Classifier.test(test[\"combined_text\"], test[\"Primary_numeric_gt\"], NORMALIZE_LIST, ANNOTATE_LIST)\n",
        "#Classifier.save(OUTPUT_DIR, train_dict, [], [], {})"
      ],
      "execution_count": null,
      "outputs": [
        {
          "output_type": "stream",
          "text": [
            "Saving complete.\n"
          ],
          "name": "stdout"
        }
      ]
    },
    {
      "cell_type": "code",
      "metadata": {
        "id": "nSOCQlpcK6iT",
        "colab_type": "code",
        "colab": {
          "base_uri": "https://localhost:8080/",
          "height": 1000,
          "referenced_widgets": [
            "9d7808d62971440195f23edb2e0dad69",
            "fe7f218839154d14bef5a324054c144b",
            "651dcc369ade471085c0b324a008006a",
            "aa44f23ec4524ebeac678c93d73031cc",
            "c25f5cf3550c45cd8e90dfdf582c0a19",
            "087ed607532e4496ad5bba9fa74abfd6",
            "07851539bac042a0b6ac05e6df18023c",
            "d30cd8d1c0da4545a6dc19d6f4a89f21",
            "4b368ebc133349cca6e20e20cfc613d0",
            "9ba7645087664a7cbfbbe0b8cd152049",
            "bcffdbcbf19849dea1f8489ceb4c1b62",
            "03e94d74a19c4b58a51cf35ecebd0f66",
            "560aafadf5494cb1a744d2229ce89402",
            "06c2b08914a34698a536f5cf611ff34c",
            "830c79149ba541919a2c9846c7f90b49",
            "d6a29397addd4a0e83dfba6735be01ae",
            "8a33acc45ca9474780fcbb2e010b50cb",
            "48f7644a2e7a4ef7ab21bbbb251ac766",
            "e0d6a45078224597b1b3dda9a31e4f96",
            "e752102e60a1498b875b68aa0635da06",
            "5d1f830e5cea4b7a91ccd47324c035f4",
            "31bbf99535324052b42833c2975d0ff0",
            "6421eb0ea40b43c29dcfa2d182b79fef",
            "e485b92ee4c64fa3a2436c1ee1588c65"
          ]
        },
        "outputId": "3495bdfc-04fd-4024-acb0-17a4fea0efc8"
      },
      "source": [
        "#Practice run\n",
        "Classifier = TransformerClassifier(\"AlBERT\", N_LABELS, PAD_LENGTH, 16) \n",
        "train_dict = Classifier.fine_tune(train[\"combined_text\"], train[\"Unimodal_text_numeric\"], dev[\"combined_text\"], dev[\"Unimodal_text_numeric\"], NORMALIZE_LIST, ANNOTATE_LIST, EARLY_STOPPING, N_EPOCHS, 1e-5, WEIGHT_DECAY, WARMUP) \n",
        "results, labels, preds = Classifier.test(test[\"combined_text\"], test[\"Primary_numeric_gt\"], NORMALIZE_LIST, ANNOTATE_LIST)\n",
        "#Classifier.save(OUTPUT_DIR, train_dict, labels, preds, results)\n",
        "print(results)"
      ],
      "execution_count": null,
      "outputs": [
        {
          "output_type": "display_data",
          "data": {
            "application/vnd.jupyter.widget-view+json": {
              "model_id": "9d7808d62971440195f23edb2e0dad69",
              "version_minor": 0,
              "version_major": 2
            },
            "text/plain": [
              "HBox(children=(FloatProgress(value=0.0, description='Downloading', max=710.0, style=ProgressStyle(description_…"
            ]
          },
          "metadata": {
            "tags": []
          }
        },
        {
          "output_type": "stream",
          "text": [
            "\n"
          ],
          "name": "stdout"
        },
        {
          "output_type": "display_data",
          "data": {
            "application/vnd.jupyter.widget-view+json": {
              "model_id": "4b368ebc133349cca6e20e20cfc613d0",
              "version_minor": 0,
              "version_major": 2
            },
            "text/plain": [
              "HBox(children=(FloatProgress(value=0.0, description='Downloading', max=892728632.0, style=ProgressStyle(descri…"
            ]
          },
          "metadata": {
            "tags": []
          }
        },
        {
          "output_type": "stream",
          "text": [
            "\n",
            "Word statistics files not found!\n",
            "Downloading... done!\n",
            "Unpacking... done!\n",
            "Reading twitter - 1grams ...\n",
            "generating cache file for faster loading...\n",
            "reading ngrams /root/.ekphrasis/stats/twitter/counts_1grams.txt\n",
            "Reading twitter - 2grams ...\n",
            "generating cache file for faster loading...\n",
            "reading ngrams /root/.ekphrasis/stats/twitter/counts_2grams.txt\n",
            "Reading english - 1grams ...\n",
            "generating cache file for faster loading...\n",
            "reading ngrams /root/.ekphrasis/stats/english/counts_1grams.txt\n"
          ],
          "name": "stdout"
        },
        {
          "output_type": "display_data",
          "data": {
            "application/vnd.jupyter.widget-view+json": {
              "model_id": "8a33acc45ca9474780fcbb2e010b50cb",
              "version_minor": 0,
              "version_major": 2
            },
            "text/plain": [
              "HBox(children=(FloatProgress(value=0.0, description='Downloading', max=760289.0, style=ProgressStyle(descripti…"
            ]
          },
          "metadata": {
            "tags": []
          }
        },
        {
          "output_type": "stream",
          "text": [
            "\n",
            "Processing row 0\n",
            "Processing row 1000\n",
            "Processing row 2000\n",
            "Processing row 3000\n",
            "Reading twitter - 1grams ...\n",
            "Reading twitter - 2grams ...\n",
            "Reading english - 1grams ...\n"
          ],
          "name": "stdout"
        },
        {
          "output_type": "stream",
          "text": [
            "\rEpoch:   0%|          | 0/10 [00:00<?, ?it/s]"
          ],
          "name": "stderr"
        },
        {
          "output_type": "stream",
          "text": [
            "Processing row 0\n",
            "======== Epoch 1 / 10 ========\n",
            "Training...\n",
            "Processing batch...0\n",
            "  Batch     0  of    250.\n",
            "Processing batch...50\n",
            "  Batch    50  of    250.\n",
            "Processing batch...100\n",
            "  Batch   100  of    250.\n",
            "Processing batch...150\n",
            "  Batch   150  of    250.\n",
            "Processing batch...200\n",
            "  Batch   200  of    250.\n",
            "\n",
            "Running Validation...\n",
            "\n"
          ],
          "name": "stdout"
        },
        {
          "output_type": "stream",
          "text": [
            "\rEpoch:  10%|█         | 1/10 [13:35<2:02:20, 815.65s/it]"
          ],
          "name": "stderr"
        },
        {
          "output_type": "stream",
          "text": [
            "Epoch | Train Accuracy | Validation Accuracy | Training Loss | Validation Loss\n",
            "  1 |    0.572    |       0.700       |    0.958    |     0.837\n",
            "\n",
            "======== Epoch 2 / 10 ========\n",
            "Training...\n",
            "Processing batch...0\n",
            "  Batch     0  of    250.\n",
            "Processing batch...50\n",
            "  Batch    50  of    250.\n",
            "Processing batch...100\n",
            "  Batch   100  of    250.\n",
            "Processing batch...150\n",
            "  Batch   150  of    250.\n",
            "Processing batch...200\n",
            "  Batch   200  of    250.\n",
            "\n",
            "Running Validation...\n",
            "\n"
          ],
          "name": "stdout"
        },
        {
          "output_type": "stream",
          "text": [
            "\rEpoch:  20%|██        | 2/10 [27:10<1:48:44, 815.54s/it]"
          ],
          "name": "stderr"
        },
        {
          "output_type": "stream",
          "text": [
            "Epoch | Train Accuracy | Validation Accuracy | Training Loss | Validation Loss\n",
            "  2 |    0.739    |       0.638       |    0.742    |     0.871\n",
            "\n",
            "======== Epoch 3 / 10 ========\n",
            "Training...\n",
            "Processing batch...0\n",
            "  Batch     0  of    250.\n",
            "Processing batch...50\n",
            "  Batch    50  of    250.\n",
            "Processing batch...100\n",
            "  Batch   100  of    250.\n",
            "Processing batch...150\n",
            "  Batch   150  of    250.\n",
            "Processing batch...200\n",
            "  Batch   200  of    250.\n",
            "\n",
            "Running Validation...\n",
            "\n"
          ],
          "name": "stdout"
        },
        {
          "output_type": "stream",
          "text": [
            "\rEpoch:  30%|███       | 3/10 [40:46<1:35:08, 815.46s/it]"
          ],
          "name": "stderr"
        },
        {
          "output_type": "stream",
          "text": [
            "Epoch | Train Accuracy | Validation Accuracy | Training Loss | Validation Loss\n",
            "  3 |    0.782    |       0.738       |    0.653    |     0.764\n",
            "\n",
            "======== Epoch 4 / 10 ========\n",
            "Training...\n",
            "Processing batch...0\n",
            "  Batch     0  of    250.\n",
            "Processing batch...50\n",
            "  Batch    50  of    250.\n",
            "Processing batch...100\n",
            "  Batch   100  of    250.\n",
            "Processing batch...150\n",
            "  Batch   150  of    250.\n",
            "Processing batch...200\n",
            "  Batch   200  of    250.\n",
            "\n",
            "Running Validation...\n",
            "\n"
          ],
          "name": "stdout"
        },
        {
          "output_type": "stream",
          "text": [
            "\rEpoch:  40%|████      | 4/10 [54:21<1:21:32, 815.41s/it]"
          ],
          "name": "stderr"
        },
        {
          "output_type": "stream",
          "text": [
            "Epoch | Train Accuracy | Validation Accuracy | Training Loss | Validation Loss\n",
            "  4 |    0.817    |       0.740       |    0.546    |     0.801\n",
            "\n",
            "======== Epoch 5 / 10 ========\n",
            "Training...\n",
            "Processing batch...0\n",
            "  Batch     0  of    250.\n",
            "Processing batch...50\n",
            "  Batch    50  of    250.\n",
            "Processing batch...100\n",
            "  Batch   100  of    250.\n",
            "Processing batch...150\n",
            "  Batch   150  of    250.\n",
            "Processing batch...200\n",
            "  Batch   200  of    250.\n",
            "\n",
            "Running Validation...\n",
            "\n"
          ],
          "name": "stdout"
        },
        {
          "output_type": "stream",
          "text": [
            "\rEpoch:  50%|█████     | 5/10 [1:07:56<1:07:56, 815.36s/it]"
          ],
          "name": "stderr"
        },
        {
          "output_type": "stream",
          "text": [
            "Epoch | Train Accuracy | Validation Accuracy | Training Loss | Validation Loss\n",
            "  5 |    0.866    |       0.750       |    0.400    |     0.915\n",
            "\n",
            "Stopping early...\n"
          ],
          "name": "stdout"
        },
        {
          "output_type": "display_data",
          "data": {
            "image/png": "[encoded data removed]",
            "text/plain": [
              "<Figure size 864x432 with 1 Axes>"
            ]
          },
          "metadata": {
            "tags": []
          }
        },
        {
          "output_type": "stream",
          "text": [
            "Training complete!\n",
            "Reading twitter - 1grams ...\n",
            "Reading twitter - 2grams ...\n",
            "Reading english - 1grams ...\n",
            "Processing row 0\n",
            "Predicting labels for 502 sentences...\n",
            "    DONE.\n",
            "{'mcc': 0.5571325148053428, 'acc': 0.750996015936255, 'confusion_matrix': array([[221,  27,   0,  20],\n",
            "       [ 46, 137,   0,   2],\n",
            "       [  9,   3,   0,   0],\n",
            "       [ 15,   3,   0,  19]]), 'precision': 0.7365880932383312, 'recall': 0.7424728090920185, 'f1': 0.7424728090920185}\n"
          ],
          "name": "stdout"
        },
        {
          "output_type": "stream",
          "text": [
            "/usr/local/lib/python3.6/dist-packages/sklearn/metrics/_classification.py:1272: UndefinedMetricWarning: Precision is ill-defined and being set to 0.0 in labels with no predicted samples. Use `zero_division` parameter to control this behavior.\n",
            "  _warn_prf(average, modifier, msg_start, len(result))\n"
          ],
          "name": "stderr"
        }
      ]
    },
    {
      "cell_type": "code",
      "metadata": {
        "id": "XvPaxxhEcDil",
        "colab_type": "code",
        "colab": {}
      },
      "source": [
        "results_dict = {}\n",
        "max_f1_value = 0\n",
        "\n",
        "for i in BATCH_SIZE:\n",
        "    learning_rate_dict = {}\n",
        "    for j in LEARNING_RATE: \n",
        "        Classifier = TransformerClassifier(\"DistilBERT\", N_LABELS, PAD_LENGTH, i) \n",
        "        train_dict, tokenizer = Classifier.fine_tune(train[\"combined_text\"], train[\"Unimodal_text_numeric\"], dev[\"combined_text\"], dev[\"Unimodal_text_numeric\"], NORMALIZE_LIST, ANNOTATE_LIST, EARLY_STOPPING, N_EPOCHS, j, WEIGHT_DECAY, WARMUP) \n",
        "        learning_rate_dict[j], labels, preds = Classifier.test(test[\"combined_text\"], test[\"Primary_numeric_gt\"], NORMALIZE_LIST, ANNOTATE_LIST)\n",
        "        results2, labels2, preds2 = Classifier.test(test[\"combined_text\"], test[\"Unimodal_text_numeric\"], NORMALIZE_LIST, ANNOTATE_LIST)\n",
        "\n",
        "    if learning_rate_dict[j][\"f1\"] >= max_f1_value: #only save best model\n",
        "        max_f1_value = learning_rate_dict[j][\"f1\"]\n",
        "        print(\"The new top F1 score is: {}. Saving model...\".format(max_f1_value))\n",
        "        Classifier.save(OUTPUT_DIR, train_dict, labels, preds, learning_rate_dict[j])\n",
        "        np.save(os.path.join(os.path.join(OUTPUT_DIR, \"DistilBERT\"), \"dogwhistle_unimodal_label_test_results.npy\"), results2)\n",
        "\n",
        "    results_dict[i] = learning_rate_dict \n",
        "\n",
        "#save complete training results\n",
        "np.save(os.path.join(os.path.join(OUTPUT_DIR, \"DistilBERT\"), \"dogwhistle_total_training_results.npy\"), results_dict)"
      ],
      "execution_count": null,
      "outputs": []
    },
    {
      "cell_type": "code",
      "metadata": {
        "id": "acUrm5B-6CXf",
        "colab_type": "code",
        "colab": {}
      },
      "source": [
        "BEST_LR = 1e-5\n",
        "BEST_BATCH_SIZE = 16\n",
        "MODEL_LIST = [\"AlBERT\", \"BERT\", \"Electra\", \"RoBERTa\"]\n",
        "\n",
        "model_comparison = {}\n",
        "\n",
        "for model in MODEL_LIST:\n",
        "    Classifier = TransformerClassifier(model, N_LABELS, PAD_LENGTH, BEST_BATCH_SIZE) \n",
        "    train_dict, tokenizer = Classifier.fine_tune(train[\"combined_text\"], train[\"Unimodal_text_numeric\"], dev[\"combined_text\"], dev[\"Unimodal_text_numeric\"], NORMALIZE_LIST, ANNOTATE_LIST, EARLY_STOPPING, N_EPOCHS, BEST_LR, WEIGHT_DECAY, WARMUP) \n",
        "    model_comparison[model], labels, preds = Classifier.test(test[\"combined_text\"], test[\"Primary_numeric_gt\"], NORMALIZE_LIST, ANNOTATE_LIST)\n",
        "\n",
        "    Classifier.save(OUTPUT_DIR, train_dict, labels, preds, model_comparison[model])\n",
        "\n",
        "#save complete training results\n",
        "np.save(os.path.join(os.path.join(OUTPUT_DIR, model), \"dogwhistle_total_training_results.npy\"), model_comparison)"
      ],
      "execution_count": null,
      "outputs": []
    },
    {
      "cell_type": "code",
      "metadata": {
        "id": "L8KesLbvN6IY",
        "colab_type": "code",
        "colab": {
          "base_uri": "https://localhost:8080/",
          "height": 724
        },
        "outputId": "9849f00a-061f-433f-ec1c-d76e844ed01a"
      },
      "source": [
        "X_TICK_LABELS = [\"None\", \"Hateful\", \"Counter-speech\", \"Reclaimed\"]\n",
        "Y_TICK_LABELS = [\"None\", \"Hateful\", \"Counter-speech\", \"Reclaimed\"]\n",
        "COLOR = \"Blues\"\n",
        "SAVE_NAME = \"RoBERTa_cm_dogwhistle.png\" #update with best model\n",
        "BEST_RESULTS_CM = np.load(\"/content/drive/My Drive/Dog_Whistle_Code/Fine_Tuned_Models/Text/RoBERTa/RoBERTa_dogwhistle_test_results.npy\", allow_pickle=True)\n",
        "\n",
        "confusion_matrix_plotter(BEST_RESULTS_CM, SAVE_NAME, X_TICK_LABELS, Y_TICK_LABELS, COLOR)"
      ],
      "execution_count": null,
      "outputs": [
        {
          "output_type": "display_data",
          "data": {
            "image/png": "[encoded data removed]",
            "text/plain": [
              "<Figure size 1152x864 with 2 Axes>"
            ]
          },
          "metadata": {
            "tags": []
          }
        }
      ]
    },
    {
      "cell_type": "markdown",
      "metadata": {
        "id": "9BtFp41_t5SX",
        "colab_type": "text"
      },
      "source": [
        "### Investigating How Dataset Size Effects Performance"
      ]
    },
    {
      "cell_type": "code",
      "metadata": {
        "id": "GujYvcI8t-5L",
        "colab_type": "code",
        "colab": {}
      },
      "source": [
        "f1_scores = {}\n",
        "\n",
        "for i in [500, 1000, 1500, 2000, 2500, 3000, 3500]: \n",
        "    Classifier = TransformerClassifier(\"RoBERTa\", N_LABELS, PAD_LENGTH, 16) \n",
        "    train_dict = Classifier.fine_tune(train[\"combined_text\"][:i], train[\"Unimodal_text_numeric\"][:i], dev[\"combined_text\"], dev[\"Unimodal_text_numeric\"], NORMALIZE_LIST, ANNOTATE_LIST, EARLY_STOPPING, N_EPOCHS, 1e-5, WEIGHT_DECAY, WARMUP) \n",
        "    results, labels, preds = Classifier.test(test[\"combined_text\"], test[\"Primary_numeric_gt\"], NORMALIZE_LIST, ANNOTATE_LIST)\n",
        "    print(results)\n",
        "\n",
        "    fl_scores[i] = results[\"f1\"]\n",
        "\n",
        "print(f1_scores)\n",
        "np.save(os.path.join(OUTPUT_DIR, \"RoBERTA/RoBERTA_datasize_results.npy\"), f1_scores)"
      ],
      "execution_count": null,
      "outputs": []
    },
    {
      "cell_type": "code",
      "metadata": {
        "id": "kit6pMyiSUKl",
        "colab_type": "code",
        "colab": {
          "base_uri": "https://localhost:8080/",
          "height": 1000
        },
        "outputId": "3f3722a8-d5b8-4163-f762-d19a7844031e"
      },
      "source": [
        "Classifier = TransformerClassifier(\"RoBERTa\", N_LABELS, PAD_LENGTH, 16) \n",
        "train_dict = Classifier.fine_tune(train[\"combined_text\"][:3500], train[\"Unimodal_text_numeric\"][:3500], dev[\"combined_text\"], dev[\"Unimodal_text_numeric\"], NORMALIZE_LIST, ANNOTATE_LIST, EARLY_STOPPING, N_EPOCHS, 1e-5, WEIGHT_DECAY, WARMUP) \n",
        "results, labels, preds = Classifier.test(test[\"combined_text\"], test[\"Primary_numeric_gt\"], NORMALIZE_LIST, ANNOTATE_LIST)\n",
        "print(results)"
      ],
      "execution_count": null,
      "outputs": [
        {
          "output_type": "stream",
          "text": [
            "Reading twitter - 1grams ...\n",
            "Reading twitter - 2grams ...\n",
            "Reading english - 1grams ...\n",
            "Processing row 0\n",
            "Processing row 1000\n",
            "Processing row 2000\n",
            "Processing row 3000\n",
            "Reading twitter - 1grams ...\n",
            "Reading twitter - 2grams ...\n",
            "Reading english - 1grams ...\n",
            "Processing row 0\n"
          ],
          "name": "stdout"
        },
        {
          "output_type": "stream",
          "text": [
            "\rEpoch:   0%|          | 0/10 [00:00<?, ?it/s]"
          ],
          "name": "stderr"
        },
        {
          "output_type": "stream",
          "text": [
            "======== Epoch 1 / 10 ========\n",
            "Training...\n",
            "Processing batch...0\n",
            "  Batch     0  of    219.\n",
            "Processing batch...50\n",
            "  Batch    50  of    219.\n",
            "Processing batch...100\n",
            "  Batch   100  of    219.\n",
            "Processing batch...150\n",
            "  Batch   150  of    219.\n",
            "Processing batch...200\n",
            "  Batch   200  of    219.\n",
            "\n",
            "Running Validation...\n",
            "\n"
          ],
          "name": "stdout"
        },
        {
          "output_type": "stream",
          "text": [
            "\rEpoch:  10%|█         | 1/10 [07:17<1:05:37, 437.46s/it]"
          ],
          "name": "stderr"
        },
        {
          "output_type": "stream",
          "text": [
            "Epoch | Train Accuracy | Validation Accuracy | Training Loss | Validation Loss\n",
            "  1 |    0.623    |       0.764       |    0.939    |     0.662\n",
            "\n",
            "======== Epoch 2 / 10 ========\n",
            "Training...\n",
            "Processing batch...0\n",
            "  Batch     0  of    219.\n",
            "Processing batch...50\n",
            "  Batch    50  of    219.\n",
            "Processing batch...100\n",
            "  Batch   100  of    219.\n",
            "Processing batch...150\n",
            "  Batch   150  of    219.\n",
            "Processing batch...200\n",
            "  Batch   200  of    219.\n",
            "\n",
            "Running Validation...\n",
            "\n"
          ],
          "name": "stdout"
        },
        {
          "output_type": "stream",
          "text": [
            "\rEpoch:  20%|██        | 2/10 [14:34<58:18, 437.27s/it]  "
          ],
          "name": "stderr"
        },
        {
          "output_type": "stream",
          "text": [
            "Epoch | Train Accuracy | Validation Accuracy | Training Loss | Validation Loss\n",
            "  2 |    0.765    |       0.784       |    0.642    |     0.636\n",
            "\n",
            "======== Epoch 3 / 10 ========\n",
            "Training...\n",
            "Processing batch...0\n",
            "  Batch     0  of    219.\n",
            "Processing batch...50\n",
            "  Batch    50  of    219.\n",
            "Processing batch...100\n",
            "  Batch   100  of    219.\n",
            "Processing batch...150\n",
            "  Batch   150  of    219.\n",
            "Processing batch...200\n",
            "  Batch   200  of    219.\n",
            "\n",
            "Running Validation...\n",
            "\n"
          ],
          "name": "stdout"
        },
        {
          "output_type": "stream",
          "text": [
            "\rEpoch:  30%|███       | 3/10 [21:51<51:00, 437.16s/it]"
          ],
          "name": "stderr"
        },
        {
          "output_type": "stream",
          "text": [
            "Epoch | Train Accuracy | Validation Accuracy | Training Loss | Validation Loss\n",
            "  3 |    0.804    |       0.766       |    0.543    |     0.631\n",
            "\n",
            "======== Epoch 4 / 10 ========\n",
            "Training...\n",
            "Processing batch...0\n",
            "  Batch     0  of    219.\n",
            "Processing batch...50\n",
            "  Batch    50  of    219.\n",
            "Processing batch...100\n",
            "  Batch   100  of    219.\n",
            "Processing batch...150\n",
            "  Batch   150  of    219.\n",
            "Processing batch...200\n",
            "  Batch   200  of    219.\n",
            "\n",
            "Running Validation...\n",
            "\n"
          ],
          "name": "stdout"
        },
        {
          "output_type": "stream",
          "text": [
            "\rEpoch:  40%|████      | 4/10 [29:08<43:42, 437.13s/it]"
          ],
          "name": "stderr"
        },
        {
          "output_type": "stream",
          "text": [
            "Epoch | Train Accuracy | Validation Accuracy | Training Loss | Validation Loss\n",
            "  4 |    0.840    |       0.782       |    0.462    |     0.664\n",
            "\n",
            "Stopping early...\n"
          ],
          "name": "stdout"
        },
        {
          "output_type": "display_data",
          "data": {
            "image/png": "[encoded data removed]",
            "text/plain": [
              "<Figure size 864x432 with 1 Axes>"
            ]
          },
          "metadata": {
            "tags": []
          }
        },
        {
          "output_type": "stream",
          "text": [
            "Training complete!\n",
            "Reading twitter - 1grams ...\n",
            "Reading twitter - 2grams ...\n",
            "Reading english - 1grams ...\n",
            "Processing row 0\n",
            "Predicting labels for 502 sentences...\n",
            "    DONE.\n",
            "{'mcc': 0.5945410935046146, 'acc': 0.7768924302788844, 'confusion_matrix': array([[237,  23,   0,   8],\n",
            "       [ 42, 142,   0,   1],\n",
            "       [  6,   5,   0,   1],\n",
            "       [ 22,   4,   0,  11]]), 'precision': 0.7514949641803342, 'recall': 0.7595830180882215, 'f1': 0.7595830180882215}\n"
          ],
          "name": "stdout"
        },
        {
          "output_type": "stream",
          "text": [
            "/usr/local/lib/python3.6/dist-packages/sklearn/metrics/_classification.py:1272: UndefinedMetricWarning: Precision is ill-defined and being set to 0.0 in labels with no predicted samples. Use `zero_division` parameter to control this behavior.\n",
            "  _warn_prf(average, modifier, msg_start, len(result))\n"
          ],
          "name": "stderr"
        }
      ]
    },
    {
      "cell_type": "code",
      "metadata": {
        "id": "V6BxLWy1UU2A",
        "colab_type": "code",
        "colab": {
          "base_uri": "https://localhost:8080/",
          "height": 87
        },
        "outputId": "5b9e7047-4d6b-4d55-845b-80d165af55dd"
      },
      "source": [
        "test[\"Predictions\"] = preds\n",
        "dw_df = test[test[\"Strategies_numeric_gt\"] == 2]\n",
        "\n",
        "dw_results, _, _ = metrics(dw_df[\"Primary_numeric_gt\"], dw_df[\"Predictions\"])\n",
        "print(dw_results)"
      ],
      "execution_count": null,
      "outputs": [
        {
          "output_type": "stream",
          "text": [
            "{'mcc': 0.0, 'acc': 0.7815126050420168, 'confusion_matrix': array([[ 0,  0],\n",
            "       [26, 93]]), 'precision': 1.0, 'recall': 0.8773584905660377, 'f1': 0.8773584905660377}\n"
          ],
          "name": "stdout"
        },
        {
          "output_type": "stream",
          "text": [
            "/usr/local/lib/python3.6/dist-packages/sklearn/metrics/_classification.py:900: RuntimeWarning: invalid value encountered in double_scalars\n",
            "  mcc = cov_ytyp / np.sqrt(cov_ytyt * cov_ypyp)\n"
          ],
          "name": "stderr"
        }
      ]
    },
    {
      "cell_type": "code",
      "metadata": {
        "id": "9J9sxuDKYkJr",
        "colab_type": "code",
        "colab": {
          "base_uri": "https://localhost:8080/",
          "height": 104
        },
        "outputId": "2e1e2b0c-659b-4d11-d038-0c5eb3ca4103"
      },
      "source": [
        "explicit_df = test[test[\"Strategies_numeric_gt\"] == 1]\n",
        "\n",
        "explicit_results, _, _ = metrics(explicit_df[\"Primary_numeric_gt\"], explicit_df[\"Predictions\"])\n",
        "print(explicit_results)"
      ],
      "execution_count": null,
      "outputs": [
        {
          "output_type": "stream",
          "text": [
            "{'mcc': 0.0, 'acc': 0.7424242424242424, 'confusion_matrix': array([[ 0,  0,  0],\n",
            "       [16, 49,  1],\n",
            "       [ 0,  0,  0]]), 'precision': 1.0, 'recall': 0.8521739130434782, 'f1': 0.8521739130434782}\n"
          ],
          "name": "stdout"
        },
        {
          "output_type": "stream",
          "text": [
            "/usr/local/lib/python3.6/dist-packages/sklearn/metrics/_classification.py:900: RuntimeWarning: invalid value encountered in double_scalars\n",
            "  mcc = cov_ytyp / np.sqrt(cov_ytyt * cov_ypyp)\n"
          ],
          "name": "stderr"
        }
      ]
    },
    {
      "cell_type": "code",
      "metadata": {
        "id": "ESFJBrpyYx16",
        "colab_type": "code",
        "colab": {
          "base_uri": "https://localhost:8080/",
          "height": 141
        },
        "outputId": "afe106ed-8512-4833-c0da-048c81a64729"
      },
      "source": [
        "none_df = test[test[\"Strategies_numeric_gt\"] == 0]\n",
        "\n",
        "none_results, _, _ = metrics(none_df[\"Primary_numeric_gt\"], none_df[\"Predictions\"])\n",
        "print(none_results)"
      ],
      "execution_count": null,
      "outputs": [
        {
          "output_type": "stream",
          "text": [
            "{'mcc': 0.24500348864808977, 'acc': 0.7823343848580442, 'confusion_matrix': array([[237,  23,   0,   8],\n",
            "       [  0,   0,   0,   0],\n",
            "       [  6,   5,   0,   1],\n",
            "       [ 22,   4,   0,  11]]), 'precision': 0.8202934349145885, 'recall': 0.7968916734340334, 'f1': 0.7968916734340334}\n"
          ],
          "name": "stdout"
        },
        {
          "output_type": "stream",
          "text": [
            "/usr/local/lib/python3.6/dist-packages/sklearn/metrics/_classification.py:1272: UndefinedMetricWarning: Precision is ill-defined and being set to 0.0 in labels with no predicted samples. Use `zero_division` parameter to control this behavior.\n",
            "  _warn_prf(average, modifier, msg_start, len(result))\n"
          ],
          "name": "stderr"
        }
      ]
    }
  ]
}